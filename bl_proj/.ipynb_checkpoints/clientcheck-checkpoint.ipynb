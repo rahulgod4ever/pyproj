{
 "metadata": {
  "name": "",
  "signature": "sha256:d6ac00b649c341e0c10fa907af9db5b47d0a97f63161e5f7c4e726b41b6a9118"
 },
 "nbformat": 3,
 "nbformat_minor": 0,
 "worksheets": [
  {
   "cells": [
    {
     "cell_type": "code",
     "collapsed": false,
     "input": [
      "import os\n",
      "import sys\n",
      "import threading\n",
      "import time\n",
      "import socket\n",
      "debug = False"
     ],
     "language": "python",
     "metadata": {},
     "outputs": [],
     "prompt_number": 4
    },
    {
     "cell_type": "code",
     "collapsed": false,
     "input": [
      "#Data received on port 1002\n",
      "#returns list of files received\n",
      "def getdata(server_ip, port = 1002): \n",
      "    \n",
      "    file_list = []\n",
      "    \n",
      "    \n",
      "    if debug:\n",
      "        print \"Trying to download data\"\n",
      "    try:\n",
      "        host = server_ip\n",
      "        port = 1002\n",
      "        s = socket.socket(socket.AF_INET, socket.SOCK_STREAM)\n",
      "\n",
      "        s.connect((host,port))\n",
      "\n",
      "        n = ord(s.recv(1)[0])\n",
      "        \n",
      "        if debug:\n",
      "            print \"Number of files to download: %d\" % n\n",
      "        file_list = []\n",
      "\n",
      "        for i in range(n):\n",
      "            filename, filesize = getfile(s)\n",
      "            file_list.append(filename)\n",
      "        s.close()\n",
      "    except socket.error as msg:\n",
      "        if debug:\n",
      "            print msg\n",
      "        return False\n",
      "    except:\n",
      "        if debug:\n",
      "            print \"Unknown error\"\n",
      "        return False\n",
      "    \n",
      "    return True\n",
      "    \n",
      "    \n",
      "#Get file from socket s\n",
      "#First 128 bytes is simply a header\n",
      "#returns filename and filesize\n",
      "def getfile(s):\n",
      "    if debug:\n",
      "        print \"Attempting download\"\n",
      "    data = s.recv(128)\n",
      "    filename, filesize = decodeheader(data)\n",
      "    \n",
      "    if debug:\n",
      "        print \"Download file: %s\\tFile size: %s\" % (filename,filesize)\n",
      "        \n",
      "    f = open(filename, 'wb')\n",
      "    \n",
      "    dataread = 0\n",
      "    while True: \n",
      "        if filesize - dataread >= 512:\n",
      "            data = s.recv(512)\n",
      "            dataread += len(data)\n",
      "        else:\n",
      "            data = s.recv(filesize-dataread)\n",
      "            dataread = filesize\n",
      "        if not data:\n",
      "            break\n",
      "        f.write(data)\n",
      "        if dataread==filesize:\n",
      "            break\n",
      "    \n",
      "    if debug:\n",
      "        print \"Download completed for file: %s\" % filename\n",
      "    return filename, filesize\n",
      "\n",
      "    \n",
      "#In header ->\n",
      "#First 120 bytes: File name\n",
      "#Last 8 bytes: File size    \n",
      "def decodeheader(data):\n",
      "    filename = ''\n",
      "    filesize = 0\n",
      "    for i in range(0,120):\n",
      "        filename = filename + data[i]\n",
      "    \n",
      "    for i in range(120,128):\n",
      "        filesize = filesize*256 + ord(data[i])\n",
      "    \n",
      "    filename = filename.rstrip('\\0')\n",
      "    \n",
      "    return filename, filesize"
     ],
     "language": "python",
     "metadata": {},
     "outputs": [],
     "prompt_number": 8
    },
    {
     "cell_type": "code",
     "collapsed": false,
     "input": [
      "getdata('192.168.1.100')"
     ],
     "language": "python",
     "metadata": {},
     "outputs": [
      {
       "metadata": {},
       "output_type": "pyout",
       "prompt_number": 9,
       "text": [
        "True"
       ]
      }
     ],
     "prompt_number": 9
    },
    {
     "cell_type": "code",
     "collapsed": false,
     "input": [
      "def uploadfiles(conn, remote_filelist):\n",
      "    #Create local copy of filelist\n",
      "    filelist = []\n",
      "    for i in range(len(remote_filelist)):\n",
      "        filelist.append(remote_filelist[i])\n",
      "    \n",
      "    if debug:\n",
      "        print \"Starting a file upload procedure\"\n",
      "    \n",
      "    n = len(filelist)\n",
      "    #Send number of files\n",
      "    conn.send(chr(n))\n",
      "        \n",
      "    for i in range(n):\n",
      "        pathname = filelist[i]\n",
      "        filename = os.path.basename(pathname)\n",
      "        size = os.path.getsize(pathname)\n",
      "\n",
      "        if debug:\n",
      "            print \"Attempting to upload %s\" % filename\n",
      "        conn.send(encodeheader(filename, size))\n",
      "        f = open(filename, 'rb')\n",
      "        while True:\n",
      "            data = f.read(512)\n",
      "            if not data:\n",
      "                break\n",
      "            conn.send(data)\n",
      "        f.close()\n",
      "        if debug:\n",
      "            print \"%s uploaded\" % filename\n",
      "    conn.close()\n",
      "    \n",
      "\n",
      "def uploaddata(host,filelist):\n",
      "    port = 1002\n",
      "    if debug:\n",
      "        print \"Upload started\"\n",
      "    try:\n",
      "        conn = socket.socket(socket.AF_INET, socket.SOCK_STREAM)\n",
      "        conn.connect(host,port)\n",
      "\n",
      "        if debug:\n",
      "            print \"Receiving connection from %s\" % addr[0]\n",
      "\n",
      "        print \"File list is \", filelist\n",
      "        uploadfiles(conn, filelist)\n",
      "\n",
      "        conn.close() \n",
      "    except socket.error as msg:\n",
      "        if debug:\n",
      "            print msg\n",
      "    except:\n",
      "        if debug:\n",
      "            print \"Unknown error\"\n",
      "def encodeheader(filename, filesize):\n",
      "    header = ''\n",
      "    for i in range(len(filename)):\n",
      "         header = header + filename[i]\n",
      "    \n",
      "    header = header + '\\0'*(120-len(filename))\n",
      "    \n",
      "    size_str = ['\\0']*8\n",
      "    for i in range(7,-1,-1):\n",
      "        if filesize == 0:\n",
      "            break\n",
      "        size_str[i] = chr(filesize%256)\n",
      "        filesize/=256\n",
      "    \n",
      "    for i in range(0,8):\n",
      "        header = header + size_str[i]\n",
      "    return header[:128]"
     ],
     "language": "python",
     "metadata": {},
     "outputs": [],
     "prompt_number": 22
    },
    {
     "cell_type": "code",
     "collapsed": false,
     "input": [
      "upload"
     ],
     "language": "python",
     "metadata": {},
     "outputs": [
      {
       "metadata": {},
       "output_type": "pyout",
       "prompt_number": 4,
       "text": [
        "'abc'"
       ]
      }
     ],
     "prompt_number": 4
    },
    {
     "cell_type": "code",
     "collapsed": false,
     "input": [],
     "language": "python",
     "metadata": {},
     "outputs": []
    }
   ],
   "metadata": {}
  }
 ]
}