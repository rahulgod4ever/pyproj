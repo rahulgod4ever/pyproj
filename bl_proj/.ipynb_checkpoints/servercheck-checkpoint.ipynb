{
 "metadata": {
  "name": "",
  "signature": "sha256:fe62d52a1aa07ff6165027b0734ea605781d4b470957bf8dcee708cd5a6bded4"
 },
 "nbformat": 3,
 "nbformat_minor": 0,
 "worksheets": [
  {
   "cells": [
    {
     "cell_type": "code",
     "collapsed": false,
     "input": [
      "import os\n",
      "import sys\n",
      "import socket\n",
      "import threading\n",
      "import time\n",
      "\n",
      "debug = True"
     ],
     "language": "python",
     "metadata": {},
     "outputs": [],
     "prompt_number": 11
    },
    {
     "cell_type": "code",
     "collapsed": false,
     "input": [
      "#Runs on port 1002\n",
      "\n",
      "def uploadfiles(conn, remote_filelist):\n",
      "    #Create local copy of filelist\n",
      "    filelist = []\n",
      "    for i in range(len(remote_filelist)):\n",
      "        filelist.append(remote_filelist[i])\n",
      "    \n",
      "    if debug:\n",
      "        print \"Starting a file upload procedure\"\n",
      "    \n",
      "    n = len(filelist)\n",
      "    #Send number of files\n",
      "    conn.send(chr(n))\n",
      "        \n",
      "    for i in range(n):\n",
      "        pathname = filelist[i]\n",
      "        filename = os.path.basename(pathname)\n",
      "        size = os.path.getsize(pathname)\n",
      "\n",
      "        if debug:\n",
      "            print \"Attempting to upload %s\" % filename\n",
      "        conn.send(encodeheader(filename, size))\n",
      "        f = open(filename, 'rb')\n",
      "        while True:\n",
      "            data = f.read(512)\n",
      "            if not data:\n",
      "                break\n",
      "            conn.send(data)\n",
      "        f.close()\n",
      "        if debug:\n",
      "            print \"%s uploaded\" % filename\n",
      "    conn.close()\n",
      "    \n",
      "\n",
      "        \n",
      "class UploadServer(threading.Thread):\n",
      "    running = False\n",
      "    host = ''\n",
      "    port = 0\n",
      "    filelist = []\n",
      "    upload_threads = []\n",
      "    def __init__(self, host='', port=1001, filelist=[]):\n",
      "        threading.Thread.__init__(self)\n",
      "        \n",
      "        if debug:\n",
      "            print \"Attempting to start Upload Server\"\n",
      "        if not UploadServer.running:\n",
      "            self.run_thr = True\n",
      "            UploadServer.running = True\n",
      "            UploadServer.host = host\n",
      "            UploadServer.port = port\n",
      "            for i in range(len(filelist)):\n",
      "                UploadServer.filelist.append(filelist[i])\n",
      "        else:\n",
      "            self.run_thr = False\n",
      "    \n",
      "    def run(self):\n",
      "        if self.run_thr:\n",
      "            if debug:\n",
      "                print \"Upload server started\"\n",
      "                \n",
      "            s = socket.socket(socket.AF_INET, socket.SOCK_STREAM)\n",
      "            s.bind((UploadServer.host, UploadServer.port))\n",
      "            \n",
      "            s.listen(3)\n",
      "            \n",
      "            while True:\n",
      "                conn, addr = s.accept()\n",
      "                \n",
      "                if debug:\n",
      "                    print \"Receiving connection from %s\" % addr[0]\n",
      "                \n",
      "                print \"File list is \", UploadServer.filelist\n",
      "                thread = threading.Thread(target=uploadfiles, args=(conn, UploadServer.filelist))\n",
      "                thread.start()\n",
      "               \n",
      "        else:\n",
      "            if debug:\n",
      "                print \"Failed. Upload Server already running\"\n",
      "            \n",
      "            \n",
      "def encodeheader(filename, filesize):\n",
      "    header = ''\n",
      "    for i in range(len(filename)):\n",
      "         header = header + filename[i]\n",
      "    \n",
      "    header = header + '\\0'*(120-len(filename))\n",
      "    \n",
      "    size_str = ['\\0']*8\n",
      "    for i in range(7,-1,-1):\n",
      "        if filesize == 0:\n",
      "            break\n",
      "        size_str[i] = chr(filesize%256)\n",
      "        filesize/=256\n",
      "    \n",
      "    for i in range(0,8):\n",
      "        header = header + size_str[i]\n",
      "    return header[:128]"
     ],
     "language": "python",
     "metadata": {},
     "outputs": [],
     "prompt_number": 36
    },
    {
     "cell_type": "code",
     "collapsed": false,
     "input": [
      "file_list = ['abc.txt', 'xyz.txt', 'Command.ipynb']\n",
      "\n",
      "ULServer = UploadServer('', 1001, file_list)\n",
      "ULServer.start()"
     ],
     "language": "python",
     "metadata": {},
     "outputs": [
      {
       "output_type": "stream",
       "stream": "stdout",
       "text": [
        "Attempting to start Upload Server\n",
        "Upload server started\n"
       ]
      }
     ],
     "prompt_number": 37
    },
    {
     "cell_type": "code",
     "collapsed": false,
     "input": [
      "#Data received on port 1002\n",
      "#returns list of files received\n",
      "class DownloadServer(threading.Thread):\n",
      "    \n",
      "    running = False\n",
      "    filelist = []\n",
      "   \n",
      "    def __init__(self, host='', port=1002):\n",
      "        threading.Thread.__init__(self)\n",
      "        if debug:\n",
      "            print \"Starting download server\"\n",
      "        if not DownloadServer.running:\n",
      "            self.run_thr = True\n",
      "            self.host = host\n",
      "            self.port = port\n",
      "            DownloadServer.running = True\n",
      "            DownloadServer.lock = threading.Lock()\n",
      "        else:\n",
      "            self.run_thr = False\n",
      "    \n",
      "    def run(self):\n",
      "        if self.run_thr:\n",
      "            host = self.host\n",
      "            port = self.port\n",
      "\n",
      "            try:\n",
      "                s = socket.socket(socket.AF_INET, socket.SOCK_STREAM )\n",
      "\n",
      "                s.bind((host,port))\n",
      "                \n",
      "                s.listen(1)\n",
      "                \n",
      "                if debug:\n",
      "                    print \"Ready to accept connections\"\n",
      "                while True:\n",
      "                    conn, addr = s.accept()\n",
      "                    if debug:\n",
      "                        print \"Receiving connection from %s\" % addr[0]\n",
      "                    thread = threading.Thread(target = getfiles, args = [conn, DownloadServer.filelist, DownloadServer.lock])\n",
      "                    thread.start()\n",
      "\n",
      "                s.close()\n",
      "            except socket.error as msg:\n",
      "                if debug:\n",
      "                    print msg\n",
      "            except:\n",
      "                if debug:\n",
      "                    print \"Unknown error\"\n",
      "        else:\n",
      "            if debug:\n",
      "                print \"Download server already running\"\n",
      "    def getfilelist(self):\n",
      "        result = []\n",
      "        DownloadServer.lock.acquire()\n",
      "        try:\n",
      "            for i in range(len(DownloadServer.filelist)):\n",
      "                result.append(DownloadServer.filelist[i])\n",
      "        finally:\n",
      "            DownloadServer.lock.release()\n",
      "        \n",
      "        return result\n",
      "    \n",
      "    \n",
      "#Get file from socket s\n",
      "#First 128 bytes is simply a header\n",
      "#returns filename and filesize\n",
      "def getfiles(s, filelist, lock):\n",
      "    n = ord(s.recv(1)[0])\n",
      "    if debug:\n",
      "        print \"Receiving %d files\" % n\n",
      "        \n",
      "    if debug:\n",
      "        print \"Attempting download\"\n",
      "    \n",
      "    for i in range(n):\n",
      "        data = s.recv(128)\n",
      "        filename, filesize = decodeheader(data)\n",
      "\n",
      "        if debug:\n",
      "            print \"Download file: %s\\tFile size: %s\" % (filename,filesize)\n",
      "\n",
      "        f = open(filename, 'wb')\n",
      "\n",
      "        dataread = 0\n",
      "        while True: \n",
      "            if filesize - dataread >= 512:\n",
      "                data = s.recv(512)\n",
      "                dataread += len(data)\n",
      "            else:\n",
      "                data = s.recv(filesize-dataread)\n",
      "                dataread = filesize\n",
      "            if not data:\n",
      "                break\n",
      "            f.write(data)\n",
      "            if dataread==filesize:\n",
      "                break\n",
      "\n",
      "        if debug:\n",
      "            print \"Download completed for file: %s\" % filename\n",
      "        \n",
      "        lock.acquire()\n",
      "        filelist.append(filename)\n",
      "        lock.release()\n",
      "    s.close()\n",
      "        \n",
      "\n",
      "    \n",
      "#In header ->\n",
      "#First 120 bytes: File name\n",
      "#Last 8 bytes: File size    \n",
      "def decodeheader(data):\n",
      "    filename = ''\n",
      "    filesize = 0\n",
      "    for i in range(0,120):\n",
      "        filename = filename + data[i]\n",
      "    \n",
      "    for i in range(120,128):\n",
      "        filesize = filesize*256 + ord(data[i])\n",
      "    \n",
      "    filename = filename.rstrip('\\0')\n",
      "    \n",
      "    return filename, filesize\n"
     ],
     "language": "python",
     "metadata": {},
     "outputs": [],
     "prompt_number": 2
    },
    {
     "cell_type": "code",
     "collapsed": false,
     "input": [
      "DLServer = DownloadServer('', 1002)\n",
      "DLServer.start()"
     ],
     "language": "python",
     "metadata": {},
     "outputs": [
      {
       "output_type": "stream",
       "stream": "stdout",
       "text": [
        "Starting download server\n",
        "Ready to accept connections"
       ]
      },
      {
       "output_type": "stream",
       "stream": "stdout",
       "text": [
        "\n",
        "Receiving connection from 192.168.1.104\n"
       ]
      },
      {
       "output_type": "stream",
       "stream": "stdout",
       "text": [
        "Receiving 2 files\n",
        "Attempting download\n"
       ]
      }
     ],
     "prompt_number": 3
    },
    {
     "cell_type": "code",
     "collapsed": false,
     "input": [
      "sys.stdout.flush()"
     ],
     "language": "python",
     "metadata": {},
     "outputs": [
      {
       "output_type": "stream",
       "stream": "stdout",
       "text": [
        "Download file: xyz.txt\tFile size: 4803\n",
        "Download completed for file: xyz.txt\n",
        "Download file: abc.txt\tFile size: 6\n",
        "Download completed for file: abc.txt\n"
       ]
      }
     ],
     "prompt_number": 4
    },
    {
     "cell_type": "code",
     "collapsed": false,
     "input": [
      "print DLServer.getfilelist()"
     ],
     "language": "python",
     "metadata": {},
     "outputs": [
      {
       "output_type": "stream",
       "stream": "stdout",
       "text": [
        "['xyz.txt', 'abc.txt']\n"
       ]
      }
     ],
     "prompt_number": 5
    },
    {
     "cell_type": "code",
     "collapsed": false,
     "input": [
      "def sendcommand(client_ip, cmd):\n",
      "    if debug: \n",
      "        print \"Attempting to send command: %s to %s\" % (cmd, client_ip)\n",
      "    try: \n",
      "        port = 1003\n",
      "        s = socket.socket(socket.AF_INET, socket.SOCK_STREAM)\n",
      "        s.connect((client_ip,port))\n",
      "        \n",
      "        if len(cmd)>512:\n",
      "            if debug:\n",
      "                print \"Command should be shorter than 1024 characters\"\n",
      "        \n",
      "        cmd = cmd + '\\0'*(512-len(cmd))\n",
      "        \n",
      "        s.send(cmd)\n",
      "        s.close()\n",
      "        \n",
      "        if debug:\n",
      "            print \"Sent command: %s to %s\" % (cmd, client_ip)\n",
      "            \n",
      "    except socket.error as msg:\n",
      "        print msg\n",
      "        return False\n",
      "    \n",
      "    except Exception, e:\n",
      "        print e\n",
      "        print \"Unknown error\"\n",
      "        return False\n",
      "    \n",
      "    "
     ],
     "language": "python",
     "metadata": {},
     "outputs": [],
     "prompt_number": 42
    },
    {
     "cell_type": "code",
     "collapsed": false,
     "input": [
      "sendcommand('192.168.1.104', 'upload *.txt')"
     ],
     "language": "python",
     "metadata": {},
     "outputs": [
      {
       "output_type": "stream",
       "stream": "stdout",
       "text": [
        "Receiving connection from 192.168.1.104\n",
        "File list is  ['abc.txt', 'xyz.txt', 'Command.ipynb']\n",
        "Starting a file upload procedure\n",
        "Attempting to upload abc.txt\n",
        "abc.txt uploaded\n",
        "Attempting to upload xyz.txt\n",
        "xyz.txt uploaded\n",
        "Attempting to upload Command.ipynb\n",
        "Command.ipynb uploaded\n",
        "Attempting to send command: upload *.txt to 192.168.1.104"
       ]
      },
      {
       "output_type": "stream",
       "stream": "stdout",
       "text": [
        "\n",
        "Sent command: upload *.txt\u0000\u0000\u0000\u0000\u0000\u0000\u0000\u0000\u0000\u0000\u0000\u0000\u0000\u0000\u0000\u0000\u0000\u0000\u0000\u0000\u0000\u0000\u0000\u0000\u0000\u0000\u0000\u0000\u0000\u0000\u0000\u0000\u0000\u0000\u0000\u0000\u0000\u0000\u0000\u0000\u0000\u0000\u0000\u0000\u0000\u0000\u0000\u0000\u0000\u0000\u0000\u0000\u0000\u0000\u0000\u0000\u0000\u0000\u0000\u0000\u0000\u0000\u0000\u0000\u0000\u0000\u0000\u0000\u0000\u0000\u0000\u0000\u0000\u0000\u0000\u0000\u0000\u0000\u0000\u0000\u0000\u0000\u0000\u0000\u0000\u0000\u0000\u0000\u0000\u0000\u0000\u0000\u0000\u0000\u0000\u0000\u0000\u0000\u0000\u0000\u0000\u0000\u0000\u0000\u0000\u0000\u0000\u0000\u0000\u0000\u0000\u0000\u0000\u0000\u0000\u0000\u0000\u0000\u0000\u0000\u0000\u0000\u0000\u0000\u0000\u0000\u0000\u0000\u0000\u0000\u0000\u0000\u0000\u0000\u0000\u0000\u0000\u0000\u0000\u0000\u0000\u0000\u0000\u0000\u0000\u0000\u0000\u0000\u0000\u0000\u0000\u0000\u0000\u0000\u0000\u0000\u0000\u0000\u0000\u0000\u0000\u0000\u0000\u0000\u0000\u0000\u0000\u0000\u0000\u0000\u0000\u0000\u0000\u0000\u0000\u0000\u0000\u0000\u0000\u0000\u0000\u0000\u0000\u0000\u0000\u0000\u0000\u0000\u0000\u0000\u0000\u0000\u0000\u0000\u0000\u0000\u0000\u0000\u0000\u0000\u0000\u0000\u0000\u0000\u0000\u0000\u0000\u0000\u0000\u0000\u0000\u0000\u0000\u0000\u0000\u0000\u0000\u0000\u0000\u0000\u0000\u0000\u0000\u0000\u0000\u0000\u0000\u0000\u0000\u0000\u0000\u0000\u0000\u0000\u0000\u0000\u0000\u0000\u0000\u0000\u0000\u0000\u0000\u0000\u0000\u0000\u0000\u0000\u0000\u0000\u0000\u0000\u0000\u0000\u0000\u0000\u0000\u0000\u0000\u0000\u0000\u0000\u0000\u0000\u0000\u0000\u0000\u0000\u0000\u0000\u0000\u0000\u0000\u0000\u0000\u0000\u0000\u0000\u0000\u0000\u0000\u0000\u0000\u0000\u0000\u0000\u0000\u0000\u0000\u0000\u0000\u0000\u0000\u0000\u0000\u0000\u0000\u0000\u0000\u0000\u0000\u0000\u0000\u0000\u0000\u0000\u0000\u0000\u0000\u0000\u0000\u0000\u0000\u0000\u0000\u0000\u0000\u0000\u0000\u0000\u0000\u0000\u0000\u0000\u0000\u0000\u0000\u0000\u0000\u0000\u0000\u0000\u0000\u0000\u0000\u0000\u0000\u0000\u0000\u0000\u0000\u0000\u0000\u0000\u0000\u0000\u0000\u0000\u0000\u0000\u0000\u0000\u0000\u0000\u0000\u0000\u0000\u0000\u0000\u0000\u0000\u0000\u0000\u0000\u0000\u0000\u0000\u0000\u0000\u0000\u0000\u0000\u0000\u0000\u0000\u0000\u0000\u0000\u0000\u0000\u0000\u0000\u0000\u0000\u0000\u0000\u0000\u0000\u0000\u0000\u0000\u0000\u0000\u0000\u0000\u0000\u0000\u0000\u0000\u0000\u0000\u0000\u0000\u0000\u0000\u0000\u0000\u0000\u0000\u0000\u0000\u0000\u0000\u0000\u0000\u0000\u0000\u0000\u0000\u0000\u0000\u0000\u0000\u0000\u0000\u0000\u0000\u0000\u0000\u0000\u0000\u0000\u0000\u0000\u0000\u0000\u0000\u0000\u0000\u0000\u0000\u0000\u0000\u0000\u0000\u0000\u0000\u0000\u0000\u0000\u0000\u0000\u0000\u0000\u0000\u0000\u0000\u0000\u0000\u0000\u0000\u0000\u0000\u0000\u0000\u0000\u0000\u0000\u0000\u0000\u0000\u0000\u0000\u0000\u0000\u0000\u0000\u0000\u0000\u0000\u0000\u0000\u0000\u0000\u0000\u0000\u0000\u0000\u0000\u0000\u0000\u0000\u0000\u0000\u0000\u0000\u0000\u0000\u0000\u0000 to 192.168.1.104\n"
       ]
      }
     ],
     "prompt_number": 45
    },
    {
     "cell_type": "code",
     "collapsed": false,
     "input": [
      "class HeartbeatServer(threading.Thread):\n",
      "    running = False\n",
      "    status_list = {}\n",
      "    \n",
      "    def __init__(self, port = 1004):\n",
      "        threading.Thread.__init__(self)\n",
      "        if not HeartbeatServer.running:\n",
      "            HeartbeatServer.port = port\n",
      "            self.run_thr = True\n",
      "            HeartbeatServer.lock = threading.Lock()\n",
      "            HeartbeatServer.running = True\n",
      "            print \"Starting heartbeat server\"\n",
      "        else:\n",
      "            run_thr = False\n",
      "            if debug:\n",
      "                print \"Cannot run more than one Heartbeat Server\"\n",
      "    \n",
      "    def run(self):\n",
      "        if self.run_thr:\n",
      "            s = socket.socket(socket.AF_INET, socket.SOCK_STREAM)\n",
      "            s.bind(('', HeartbeatServer.port))\n",
      "            \n",
      "            s.listen(5)\n",
      "            \n",
      "            while True:\n",
      "                conn, addr = s.accept()\n",
      "                ip_addr = addr[0]\n",
      "                \n",
      "                stat = ''\n",
      "                \n",
      "                while True:\n",
      "                    data = conn.recv(64)\n",
      "                    if not data:\n",
      "                        break\n",
      "                    stat = stat + data\n",
      "                \n",
      "                conn.close()\n",
      "                if not ip_addr in HeartbeatServer.status_list.keys():\n",
      "                    self.add(ip_addr, stat)\n",
      "                    \n",
      "                    if debug:\n",
      "                        print \"%s added to list of clients\" % ip_addr\n",
      "                else:\n",
      "                    self.update(ip_addr, stat)\n",
      "                    \n",
      "                    if debug:\n",
      "                        print \"Updated status of %s to %s\" % (ip_addr, stat)\n",
      "            conn.close()\n",
      "    \n",
      "    def remove(self, ip_addr):\n",
      "        HeartbeatServer.lock.acquire()\n",
      "        if ip_addr in HeartbeatServer.status_list.keys():\n",
      "            HeartbeatServer.status_list.pop(ip_addr)\n",
      "            sendcommand(ip_addr, 'download')\n",
      "        HeartbeatServer.lock.release()\n",
      "        \n",
      "    def update(self, ip_addr, stat):\n",
      "        HeartbeatServer.lock.acquire()\n",
      "        if ip_addr in HeartbeatServer.status_list.keys():\n",
      "            HeartbeatServer.status_list[ip_addr]= stat\n",
      "        HeartbeatServer.lock.release()\n",
      "    \n",
      "    def add(self, ip_addr, stat):\n",
      "        HeartbeatServer.lock.acquire()\n",
      "        HeartbeatServer.status_list.update({ip_addr, stat})\n",
      "        HeartbeatServer.lock.release()"
     ],
     "language": "python",
     "metadata": {},
     "outputs": [],
     "prompt_number": 22
    },
    {
     "cell_type": "code",
     "collapsed": false,
     "input": [
      "HBServer = HeartbeatServer()\n",
      "HBServer.start()\n"
     ],
     "language": "python",
     "metadata": {},
     "outputs": [
      {
       "output_type": "stream",
       "stream": "stdout",
       "text": [
        "Starting heartbeat server\n"
       ]
      }
     ],
     "prompt_number": 23
    },
    {
     "cell_type": "code",
     "collapsed": false,
     "input": [
      "sys.stdout.flush()"
     ],
     "language": "python",
     "metadata": {},
     "outputs": [
      {
       "output_type": "stream",
       "stream": "stdout",
       "text": [
        "192.168.1.104 added to list of clients\n"
       ]
      },
      {
       "output_type": "stream",
       "stream": "stdout",
       "text": [
        "Updated status of 192.168.1.104 to \n",
        "Updated status of 192.168.1.104 to \n"
       ]
      },
      {
       "output_type": "stream",
       "stream": "stdout",
       "text": [
        "Updated status of 192.168.1.104 to \n",
        "Updated status of 192.168.1.104 to \n"
       ]
      },
      {
       "output_type": "stream",
       "stream": "stdout",
       "text": [
        "Updated status of 192.168.1.104 to \n",
        "Updated status of 192.168.1.104 to \n"
       ]
      },
      {
       "output_type": "stream",
       "stream": "stdout",
       "text": [
        "Updated status of 192.168.1.104 to \n",
        "Updated status of 192.168.1.104 to \n"
       ]
      },
      {
       "output_type": "stream",
       "stream": "stdout",
       "text": [
        "Updated status of 192.168.1.104 to \n",
        "Updated status of 192.168.1.104 to \n"
       ]
      },
      {
       "output_type": "stream",
       "stream": "stdout",
       "text": [
        "Updated status of 192.168.1.104 to \n",
        "Updated status of 192.168.1.104 to \n"
       ]
      },
      {
       "output_type": "stream",
       "stream": "stdout",
       "text": [
        "Updated status of 192.168.1.104 to \n",
        "Updated status of 192.168.1.104 to \n"
       ]
      },
      {
       "output_type": "stream",
       "stream": "stdout",
       "text": [
        "Updated status of 192.168.1.104 to \n",
        "Updated status of 192.168.1.104 to \n"
       ]
      },
      {
       "output_type": "stream",
       "stream": "stdout",
       "text": [
        "Updated status of 192.168.1.104 to \n",
        "Updated status of 192.168.1.104 to \n"
       ]
      },
      {
       "output_type": "stream",
       "stream": "stdout",
       "text": [
        "Updated status of 192.168.1.104 to \n",
        "Updated status of 192.168.1.104 to \n"
       ]
      },
      {
       "output_type": "stream",
       "stream": "stdout",
       "text": [
        "Updated status of 192.168.1.104 to \n",
        "Updated status of 192.168.1.104 to \n"
       ]
      },
      {
       "output_type": "stream",
       "stream": "stdout",
       "text": [
        "Updated status of 192.168.1.104 to \n",
        "Updated status of 192.168.1.104 to \n"
       ]
      },
      {
       "output_type": "stream",
       "stream": "stdout",
       "text": [
        "Updated status of 192.168.1.104 to \n",
        "Updated status of 192.168.1.104 to \n"
       ]
      },
      {
       "output_type": "stream",
       "stream": "stdout",
       "text": [
        "Updated status of 192.168.1.104 to \n",
        "Updated status of 192.168.1.104 to \n"
       ]
      },
      {
       "output_type": "stream",
       "stream": "stdout",
       "text": [
        "Updated status of 192.168.1.104 to \n",
        "Updated status of 192.168.1.104 to \n"
       ]
      },
      {
       "output_type": "stream",
       "stream": "stdout",
       "text": [
        "Updated status of 192.168.1.104 to \n",
        "Updated status of 192.168.1.104 to \n"
       ]
      },
      {
       "output_type": "stream",
       "stream": "stdout",
       "text": [
        "Updated status of 192.168.1.104 to \n",
        "Updated status of 192.168.1.104 to \n"
       ]
      },
      {
       "output_type": "stream",
       "stream": "stdout",
       "text": [
        "Updated status of 192.168.1.104 to \n",
        "Updated status of 192.168.1.104 to \n"
       ]
      },
      {
       "output_type": "stream",
       "stream": "stdout",
       "text": [
        "Updated status of 192.168.1.104 to \n",
        "Updated status of 192.168.1.104 to \n"
       ]
      },
      {
       "output_type": "stream",
       "stream": "stdout",
       "text": [
        "Updated status of 192.168.1.104 to \n",
        "Updated status of 192.168.1.104 to \n"
       ]
      },
      {
       "output_type": "stream",
       "stream": "stdout",
       "text": [
        "Updated status of 192.168.1.104 to \n",
        "Updated status of 192.168.1.104 to \n"
       ]
      },
      {
       "output_type": "stream",
       "stream": "stdout",
       "text": [
        "Updated status of 192.168.1.104 to waiting\n",
        "Updated status of 192.168.1.104 to waiting\n"
       ]
      },
      {
       "output_type": "stream",
       "stream": "stdout",
       "text": [
        "Updated status of 192.168.1.104 to waiting\n",
        "Updated status of 192.168.1.104 to waiting\n"
       ]
      },
      {
       "output_type": "stream",
       "stream": "stdout",
       "text": [
        "Updated status of 192.168.1.104 to waiting\n",
        "Updated status of 192.168.1.104 to waiting\n"
       ]
      },
      {
       "output_type": "stream",
       "stream": "stdout",
       "text": [
        "Updated status of 192.168.1.104 to waiting\n",
        "Updated status of 192.168.1.104 to waiting\n"
       ]
      },
      {
       "output_type": "stream",
       "stream": "stdout",
       "text": [
        "Updated status of 192.168.1.104 to waiting\n",
        "Updated status of 192.168.1.104 to waiting\n"
       ]
      },
      {
       "output_type": "stream",
       "stream": "stdout",
       "text": [
        "Updated status of 192.168.1.104 to waiting\n",
        "Updated status of 192.168.1.104 to waiting\n"
       ]
      },
      {
       "output_type": "stream",
       "stream": "stdout",
       "text": [
        "Updated status of 192.168.1.104 to waiting\n",
        "Updated status of 192.168.1.104 to waiting\n"
       ]
      },
      {
       "output_type": "stream",
       "stream": "stdout",
       "text": [
        "Updated status of 192.168.1.104 to waiting\n",
        "Updated status of 192.168.1.104 to running\n"
       ]
      },
      {
       "output_type": "stream",
       "stream": "stdout",
       "text": [
        "Updated status of 192.168.1.104 to running\n",
        "Updated status of 192.168.1.104 to running\n"
       ]
      },
      {
       "output_type": "stream",
       "stream": "stdout",
       "text": [
        "Updated status of 192.168.1.104 to running\n",
        "Updated status of 192.168.1.104 to running\n"
       ]
      },
      {
       "output_type": "stream",
       "stream": "stdout",
       "text": [
        "Updated status of 192.168.1.104 to running\n",
        "Updated status of 192.168.1.104 to running\n"
       ]
      },
      {
       "output_type": "stream",
       "stream": "stdout",
       "text": [
        "Updated status of 192.168.1.104 to running\n",
        "Updated status of 192.168.1.104 to running\n"
       ]
      },
      {
       "output_type": "stream",
       "stream": "stdout",
       "text": [
        "Updated status of 192.168.1.104 to running\n",
        "Updated status of 192.168.1.104 to running\n"
       ]
      },
      {
       "output_type": "stream",
       "stream": "stdout",
       "text": [
        "Updated status of 192.168.1.104 to running\n",
        "Updated status of 192.168.1.104 to running\n"
       ]
      },
      {
       "output_type": "stream",
       "stream": "stdout",
       "text": [
        "Updated status of 192.168.1.104 to running\n",
        "Updated status of 192.168.1.104 to running\n"
       ]
      },
      {
       "output_type": "stream",
       "stream": "stdout",
       "text": [
        "Updated status of 192.168.1.104 to running\n",
        "Updated status of 192.168.1.104 to running\n"
       ]
      },
      {
       "output_type": "stream",
       "stream": "stdout",
       "text": [
        "Updated status of 192.168.1.104 to running\n",
        "Updated status of 192.168.1.104 to running\n"
       ]
      }
     ],
     "prompt_number": 24
    },
    {
     "cell_type": "code",
     "collapsed": false,
     "input": [
      "class job:\n",
      "    n = 0\n",
      "    job_list = []\n",
      "    client = ''\n",
      "    \n",
      "    \n",
      "def getfreeclient():\n",
      "    while True:\n",
      "        for i in HL.status_list.keys():\n",
      "            if HL.status_list[i] == 'waiting': \n",
      "                return i\n",
      "        time.sleep(0.1)\n",
      "\n",
      "class JobAllocater(threading.Thread):\n",
      "    jobs = []\n",
      "    workable_clients = []\n",
      "    running = False\n",
      "    def __init__(self):\n",
      "        threading.Thread.__init__(self)\n",
      "        if not JobAllocater.running:\n",
      "            self.run_thr = True\n",
      "            JobAllocater.running = True\n",
      "        else:\n",
      "            self.run_thr = False\n",
      "   \n",
      "    def run(self):\n",
      "        if self.jobsleft() == 0\n",
      "            if debug:\n",
      "                print \"Jobs completed\"\n",
      "                \n",
      "        client = self.getfreeclient()\n",
      "        if self.previousjobcomplete(self, ip_addr):\n",
      "            self.allocatenewjob(self, ip_addr)\n",
      "    \n",
      "    def addjob(self, joblist):\n",
      "        j = job()\n",
      "        j.joblist = joblist\n",
      "        jobs.append(j)\n",
      "    \n",
      "    def previousjobcompleted(self, ip_addr):\n",
      "        for j in jobs:\n",
      "            if j.client == ip_addr:\n",
      "                j.n = j.n + 1\n",
      "                if j.n = len(j.job_list):\n",
      "                    return True\n",
      "                else:\n",
      "                    return False\n",
      "        return True\n",
      "\n",
      "    def allocatenewjob(self)"
     ],
     "language": "python",
     "metadata": {},
     "outputs": [],
     "prompt_number": 25
    },
    {
     "cell_type": "code",
     "collapsed": false,
     "input": [
      "j = job()"
     ],
     "language": "python",
     "metadata": {},
     "outputs": [],
     "prompt_number": 26
    },
    {
     "cell_type": "code",
     "collapsed": false,
     "input": [
      "j.a"
     ],
     "language": "python",
     "metadata": {},
     "outputs": [
      {
       "metadata": {},
       "output_type": "pyout",
       "prompt_number": 27,
       "text": [
        "'string'"
       ]
      }
     ],
     "prompt_number": 27
    },
    {
     "cell_type": "code",
     "collapsed": false,
     "input": [],
     "language": "python",
     "metadata": {},
     "outputs": []
    }
   ],
   "metadata": {}
  }
 ]
}