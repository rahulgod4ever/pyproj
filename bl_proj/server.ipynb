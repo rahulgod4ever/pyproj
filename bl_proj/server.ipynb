{
 "metadata": {
  "name": "",
  "signature": "sha256:dac65c969e4dd272af0fea1351a16be3493e172bbdef6e3893d9ba49c5a01c09"
 },
 "nbformat": 3,
 "nbformat_minor": 0,
 "worksheets": [
  {
   "cells": [
    {
     "cell_type": "code",
     "collapsed": false,
     "input": [
      "import os\n",
      "import sys\n",
      "import socket\n",
      "import threading\n",
      "\n",
      "import time\n",
      "\n",
      "debug = True\n",
      "payload = True"
     ],
     "language": "python",
     "metadata": {},
     "outputs": [],
     "prompt_number": 1
    },
    {
     "cell_type": "code",
     "collapsed": false,
     "input": [
      "class BroadcastServer(threading.Thread):\n",
      "    running = False\n",
      "    def __init__(self, server_ip, port = 1000):\n",
      "        threading.Thread.__init__(self)\n",
      "        if not BroadcastServer.running:\n",
      "            self.run_thr = True\n",
      "            self.server_ip = server_ip\n",
      "            self.port = 1000\n",
      "            BroadcastServer.running = True\n",
      "        else:\n",
      "            self.run_thr = False\n",
      "    \n",
      "    def run(self):\n",
      "        if self.run_thr:\n",
      "            if debug:\n",
      "                print \"Starting broadcast server\"\n",
      "        \n",
      "            s = socket.socket(socket.AF_INET, socket.SOCK_DGRAM)\n",
      "            s.bind((self.server_ip, self.port))\n",
      "            s.setsockopt(socket.SOL_SOCKET, socket.SO_BROADCAST, 1)\n",
      "        \n",
      "            while True:\n",
      "                data = 'This is the master server'\n",
      "                s.sendto(data, ('<broadcast>', self.port))\n",
      "                time.sleep(1)\n",
      "        "
     ],
     "language": "python",
     "metadata": {},
     "outputs": [],
     "prompt_number": 2
    },
    {
     "cell_type": "code",
     "collapsed": false,
     "input": [
      "#Runs on port 1001\n",
      "#Arguments: \n",
      "def uploadfiles(conn, remote_filelist):\n",
      "    #Create local copy of filelist\n",
      "    filelist = []\n",
      "    for i in range(len(remote_filelist)):\n",
      "        filelist.append(remote_filelist[i])\n",
      "    \n",
      "    if debug:\n",
      "        print \"Starting a file upload procedure\"\n",
      "    \n",
      "    n = len(filelist)\n",
      "    #Send number of files\n",
      "    conn.send(chr(n))\n",
      "        \n",
      "    for i in range(n):\n",
      "        pathname = filelist[i]\n",
      "        filename = os.path.basename(pathname)\n",
      "        size = os.path.getsize(pathname)\n",
      "\n",
      "        if debug:\n",
      "            print \"Attempting to upload %s\" % filename\n",
      "        conn.send(encodeheader(filename, size))\n",
      "        f = open(filename, 'rb')\n",
      "        while True:\n",
      "            data = f.read(512)\n",
      "            if not data:\n",
      "                break\n",
      "            conn.send(data)\n",
      "        f.close()\n",
      "        if debug:\n",
      "            print \"%s uploaded\" % filename\n",
      "    conn.close()\n",
      "    \n",
      "\n",
      "        \n",
      "class UploadServer(threading.Thread):\n",
      "    running = False\n",
      "    host = ''\n",
      "    port = 0\n",
      "    filelist = []\n",
      "    upload_threads = []\n",
      "    def __init__(self, host='', port=1001, filelist=[]):\n",
      "        threading.Thread.__init__(self)\n",
      "        \n",
      "        if debug:\n",
      "            print \"Attempting to start Upload Server\"\n",
      "        if not UploadServer.running:\n",
      "            self.run_thr = True\n",
      "            UploadServer.running = True\n",
      "            UploadServer.host = host\n",
      "            UploadServer.port = port\n",
      "            for i in range(len(filelist)):\n",
      "                UploadServer.filelist.append(filelist[i])\n",
      "        else:\n",
      "            self.run_thr = False\n",
      "    \n",
      "    def run(self):\n",
      "        if self.run_thr:\n",
      "            if debug:\n",
      "                print \"Upload server started\"\n",
      "                \n",
      "            s = socket.socket(socket.AF_INET, socket.SOCK_STREAM)\n",
      "            s.bind((UploadServer.host, UploadServer.port))\n",
      "            \n",
      "            s.listen(3)\n",
      "            \n",
      "            while True:\n",
      "                conn, addr = s.accept()\n",
      "                \n",
      "                if debug:\n",
      "                    print \"Receiving connection from %s\" % addr[0]\n",
      "                \n",
      "                print \"File list is \", UploadServer.filelist\n",
      "                thread = threading.Thread(target=uploadfiles, args=(conn, UploadServer.filelist))\n",
      "                thread.start()\n",
      "               \n",
      "        else:\n",
      "            if debug:\n",
      "                print \"Failed. Upload Server already running\"\n",
      "            \n",
      "            \n",
      "def encodeheader(filename, filesize):\n",
      "    header = ''\n",
      "    for i in range(len(filename)):\n",
      "         header = header + filename[i]\n",
      "    \n",
      "    header = header + '\\0'*(120-len(filename))\n",
      "    \n",
      "    size_str = ['\\0']*8\n",
      "    for i in range(7,-1,-1):\n",
      "        if filesize == 0:\n",
      "            break\n",
      "        size_str[i] = chr(filesize%256)\n",
      "        filesize/=256\n",
      "    \n",
      "    for i in range(0,8):\n",
      "        header = header + size_str[i]\n",
      "    return header[:128]"
     ],
     "language": "python",
     "metadata": {},
     "outputs": [],
     "prompt_number": 3
    },
    {
     "cell_type": "code",
     "collapsed": false,
     "input": [
      "#Data received on port 1002\n",
      "#returns list of files received\n",
      "class DownloadServer(threading.Thread):\n",
      "    \n",
      "    running = False\n",
      "    filelist = []\n",
      "   \n",
      "    def __init__(self, host='', port=1002):\n",
      "        threading.Thread.__init__(self)\n",
      "        if debug:\n",
      "            print \"Starting download server\"\n",
      "        if not DownloadServer.running:\n",
      "            self.run_thr = True\n",
      "            self.host = host\n",
      "            self.port = port\n",
      "            DownloadServer.running = True\n",
      "            DownloadServer.lock = threading.Lock()\n",
      "        else:\n",
      "            self.run_thr = False\n",
      "    \n",
      "    def run(self):\n",
      "        if self.run_thr:\n",
      "            host = self.host\n",
      "            port = self.port\n",
      "\n",
      "            try:\n",
      "                s = socket.socket(socket.AF_INET, socket.SOCK_STREAM )\n",
      "\n",
      "                s.bind((host,port))\n",
      "                \n",
      "                s.listen(1)\n",
      "                \n",
      "                if debug:\n",
      "                    print \"Ready to accept connections\"\n",
      "                while True:\n",
      "                    conn, addr = s.accept()\n",
      "                    if debug:\n",
      "                        print \"Receiving connection from %s\" % addr[0]\n",
      "                    thread = threading.Thread(target = getfile, args = [conn, DownloadServer.filelist, DownloadServer.lock])\n",
      "                    thread.start()\n",
      "\n",
      "                s.close()\n",
      "            except socket.error as msg:\n",
      "                if debug:\n",
      "                    print msg\n",
      "            except:\n",
      "                if debug:\n",
      "                    print \"Unknown error\"\n",
      "        else:\n",
      "            if debug:\n",
      "                print \"Download server already running\"\n",
      "    def getfilelist(self):\n",
      "        result = []\n",
      "        DownloadServer.lock.acquire()\n",
      "        try:\n",
      "            for i in range(len(DownloadServer.filelist)):\n",
      "                result.append(DownloadServer.filelist[i])\n",
      "        finally:\n",
      "            DownloadServer.lock.release()\n",
      "        \n",
      "        return result\n",
      "    \n",
      "    \n",
      "#Get file from socket s\n",
      "#First 128 bytes is simply a header\n",
      "#returns filename and filesize\n",
      "def getfile(s, filelist, lock):\n",
      "   # n = ord(s.recv(1)[0])\n",
      "    if debug:\n",
      "        print \"Attempting download\"\n",
      "    \n",
      "    data = s.recv(128)\n",
      "    \n",
      "    if len(data) != 128:\n",
      "        if debug:\n",
      "            print \"Invalid header\"\n",
      "        conn.close()\n",
      "        return\n",
      "    filename, filesize = decodeheader(data)\n",
      "\n",
      "    if debug:\n",
      "        print \"Download file: %s\\tFile size: %s\" % (filename,filesize)\n",
      "\n",
      "    f = open(filename, 'wb')\n",
      "\n",
      "    dataread = 0\n",
      "    while True: \n",
      "        if filesize - dataread >= 512:\n",
      "            data = s.recv(512)\n",
      "            dataread += len(data)\n",
      "        else:\n",
      "            data = s.recv(filesize-dataread)\n",
      "            dataread +=len(data)\n",
      "        if not data:\n",
      "            break\n",
      "        f.write(data)\n",
      "        if dataread==filesize:\n",
      "            break\n",
      "    \n",
      "    f.close()\n",
      "    \n",
      "    if debug:\n",
      "        print \"Download completed for file: %s\" % filename\n",
      "\n",
      "    lock.acquire()\n",
      "    filelist.append(filename)\n",
      "    lock.release()\n",
      "    s.close()\n",
      "        \n",
      "\n",
      "    \n",
      "#In header ->\n",
      "#First 120 bytes: File name\n",
      "#Last 8 bytes: File size    \n",
      "def decodeheader(data):\n",
      "    filename = ''\n",
      "    filesize = 0\n",
      "    for i in range(0,120):\n",
      "        filename = filename + data[i]\n",
      "    \n",
      "    for i in range(120,128):\n",
      "        filesize = filesize*256 + ord(data[i])\n",
      "    \n",
      "    filename = filename.rstrip('\\0')\n",
      "    \n",
      "    return filename, filesize\n"
     ],
     "language": "python",
     "metadata": {},
     "outputs": [],
     "prompt_number": 4
    },
    {
     "cell_type": "code",
     "collapsed": false,
     "input": [
      "#Sends command to the client with the given ip address\n",
      "def sendcommand(client_ip, cmd):\n",
      "    if debug: \n",
      "        print \"Attempting to send command: %s to %s\" % (cmd, client_ip)\n",
      "    try: \n",
      "        port = 1003\n",
      "        s = socket.socket(socket.AF_INET, socket.SOCK_STREAM)\n",
      "        s.connect((client_ip,port))\n",
      "        \n",
      "        if len(cmd)>512:\n",
      "            if debug:\n",
      "                print \"Command should be shorter than 1024 characters\"\n",
      "        \n",
      "        cmd = cmd + '\\0'*(512-len(cmd))\n",
      "        \n",
      "        s.send(cmd)\n",
      "        s.close()\n",
      "        \n",
      "        if debug:\n",
      "            print \"Sent command: %s to %s\" % (cmd, client_ip)\n",
      "            \n",
      "    except socket.error as msg:\n",
      "        print msg\n",
      "        return False\n",
      "    \n",
      "    except Exception, e:\n",
      "        print e\n",
      "        print \"Unknown error\"\n",
      "        return False\n",
      "    \n",
      "    "
     ],
     "language": "python",
     "metadata": {},
     "outputs": [],
     "prompt_number": 5
    },
    {
     "cell_type": "code",
     "collapsed": false,
     "input": [
      "#Heartbeat server receives updates of the client's status constantly\n",
      "#Removes the client from the list of clients if no update is received for 10 seconds\n",
      "\n",
      "class client:\n",
      "    status = ''\n",
      "    waitfordifferent = ''\n",
      "    lastconnect  = 0.0\n",
      "\n",
      "def checktimeout(HBServer):\n",
      "    if debug:\n",
      "        print \"Starting timeout check thread\"\n",
      "    \n",
      "    while True:\n",
      "        currenttime = time.clock()\n",
      "        ip_list= []\n",
      "        HBServer.lock.acquire()\n",
      "        status_list = dict(HBServer.status_list)\n",
      "        HBServer.lock.release()\n",
      "        for ip_addr in status_list:\n",
      "            if currenttime - HBServer.status_list[ip_addr].lastconnect > 10:\n",
      "                if debug:\n",
      "                    print \"%s timeout\" % ip_addr\n",
      "                    sys.stdout.flush()\n",
      "                HBServer.remove(ip_addr)\n",
      "        time.sleep(1)\n",
      "    \n",
      "class HeartbeatServer(threading.Thread):\n",
      "    running = False\n",
      "    status_list = {}\n",
      "    \n",
      "    def __init__(self, port = 1004):\n",
      "        threading.Thread.__init__(self)\n",
      "        if not HeartbeatServer.running:\n",
      "            HeartbeatServer.port = port\n",
      "            self.run_thr = True\n",
      "            HeartbeatServer.lock = threading.Lock()\n",
      "            HeartbeatServer.running = True\n",
      "            print \"Starting heartbeat server\"\n",
      "        else:\n",
      "            run_thr = False\n",
      "            if debug:\n",
      "                print \"Cannot run more than one Heartbeat Server\"\n",
      "    \n",
      "    def run(self):\n",
      "        if self.run_thr:\n",
      "            timeoutthread= threading.Thread(target = checktimeout, args = [self])\n",
      "            timeoutthread.start()\n",
      "            s = socket.socket(socket.AF_INET, socket.SOCK_STREAM)\n",
      "            s.bind(('', HeartbeatServer.port))\n",
      "            \n",
      "            s.listen(5)\n",
      "            \n",
      "            while True:\n",
      "                conn, addr = s.accept()\n",
      "                ip_addr = addr[0]\n",
      "                \n",
      "                stat = ''\n",
      "                \n",
      "                while True:\n",
      "                    data = conn.recv(64)\n",
      "                    if not data:\n",
      "                        break\n",
      "                    stat = stat + data\n",
      "                \n",
      "                conn.close()\n",
      "            \n",
      "                #print \"Received heartbeat from %s\" % ip_addr\n",
      "                if not ip_addr in HeartbeatServer.status_list.keys():\n",
      "                    self.add(ip_addr, stat)\n",
      "                    \n",
      "                    if debug:\n",
      "                        print \"%s added to list of clients\" % ip_addr\n",
      "                else:\n",
      "                    self.update(ip_addr, stat)\n",
      "            conn.close()\n",
      "    \n",
      "    def remove(self, ip_addr):\n",
      "        \n",
      "        HeartbeatServer.lock.acquire()\n",
      "        if ip_addr in HeartbeatServer.status_list.keys():\n",
      "            HeartbeatServer.status_list.pop(ip_addr)\n",
      "            if debug:\n",
      "                print \"Removing %s from list of clients\" % ip_addr\n",
      "        HeartbeatServer.lock.release()\n",
      "        \n",
      "        try:\n",
      "            self.rm(ip_addr)\n",
      "        except:\n",
      "            if debug:\n",
      "                print \"Unable to load an external remove function\"\n",
      "            \n",
      "    \n",
      "    def update(self, ip_addr, stat):\n",
      "        HeartbeatServer.lock.acquire()\n",
      "        if ip_addr in HeartbeatServer.status_list.keys():\n",
      "            if HeartbeatServer.status_list[ip_addr].waitfordifferent != stat:\n",
      "                HeartbeatServer.status_list[ip_addr].status= stat\n",
      "                HeartbeatServer.status_list[ip_addr].waitfordifferent = ''\n",
      "                if debug:\n",
      "                    #print \"Updated status of %s to %s\" % (ip_addr, stat)\n",
      "                    pass\n",
      "            else:\n",
      "                if debug:\n",
      "                    #print \"Blocked status\"\n",
      "                    pass\n",
      "            HeartbeatServer.status_list[ip_addr].lastconnect = time.clock()\n",
      "        HeartbeatServer.lock.release()\n",
      "    \n",
      "    def add(self, ip_addr, stat):\n",
      "        HeartbeatServer.lock.acquire()\n",
      "        if not ip_addr in HeartbeatServer.status_list.keys():\n",
      "            cl = client()\n",
      "            cl.status = stat\n",
      "            cl.lastconnect = time.clock()\n",
      "            HeartbeatServer.status_list.update({ip_addr: cl})\n",
      "            if debug:\n",
      "                print \"Adding %s to list of clients\" % ip_addr\n",
      "            \n",
      "        HeartbeatServer.lock.release()\n",
      "        if payload:\n",
      "            sendcommand(ip_addr, 'download')\n",
      "    \n",
      "    def block(self, ip_addr, newstatus):\n",
      "        HeartbeatServer.lock.acquire()\n",
      "        if ip_addr in HeartbeatServer.status_list.keys():\n",
      "            HeartbeatServer.status_list[ip_addr].waitfordifferent = HeartbeatServer.status_list[ip_addr].status \n",
      "            HeartbeatServer.status_list[ip_addr].status = newstatus\n",
      "        HeartbeatServer.lock.release()\n",
      "    \n",
      "    def unblock(self, ip_addr):\n",
      "        HeartbeatServer.lock.acquire()\n",
      "        if ip_addr in HeartbeatServer.status_list.keys():\n",
      "            HeartbeatServer.status_list[ip_addr].status = HeartbeatServer.status_list[ip_addr].waitfordifferent\n",
      "            HeartbeatServer.status_list[ip_addr].waitfordifferent = ''\n",
      "        HeartbeatServer.lock.release()\n",
      "    "
     ],
     "language": "python",
     "metadata": {},
     "outputs": [],
     "prompt_number": 6
    },
    {
     "cell_type": "code",
     "collapsed": false,
     "input": [
      "class job:\n",
      "    n = 0\n",
      "    job_list = []\n",
      "    client = ''\n",
      "    allocated = False\n",
      "    completed = False\n",
      "class JobAllocater(threading.Thread):\n",
      "    jobs = []\n",
      "    workable_clients = []\n",
      "    running = False\n",
      "    def __init__(self, HB):\n",
      "        threading.Thread.__init__(self)\n",
      "        if not JobAllocater.running:\n",
      "            self.run_thr = True\n",
      "            JobAllocater.HBServer = HBServer\n",
      "            JobAllocater.running = True\n",
      "        else:\n",
      "            self.run_thr = False\n",
      "   \n",
      "    def run(self):\n",
      "        if debug:\n",
      "            print \"Starting thread for job allocation\"\n",
      "        while True:\n",
      "            ip_addr = self.getfreeclient()\n",
      "            if self.all_complete():\n",
      "                print \"All jobs completed\"\n",
      "                return\n",
      "            elif self.all_allocated():\n",
      "                if not self.previousjobcomplete(ip_addr):\n",
      "                    if not self.all_complete():\n",
      "                        self.completejob(ip_addr)\n",
      "                    else:\n",
      "                        print \"All jobs completed\"\n",
      "                        return\n",
      "                    continue\n",
      "                else:\n",
      "                    self.unblock(ip_addr)\n",
      "                    time.sleep(0.1)\n",
      "                    continue\n",
      "            else:\n",
      "                if not self.previousjobcomplete(ip_addr):\n",
      "                    self.completejob(ip_addr)\n",
      "                    continue\n",
      "                else:\n",
      "                    self.allocatejob(ip_addr)\n",
      "                    continue\n",
      "    \n",
      "    \n",
      "    def getfreeclient(self):\n",
      "        while True:\n",
      "            for ip_addr in JobAllocater.HBServer.status_list.keys():\n",
      "                if JobAllocater.HBServer.status_list[ip_addr].status == 'waiting': \n",
      "                    return ip_addr\n",
      "            time.sleep(0.1)\n",
      "        \n",
      "    def addjob(self, joblist):\n",
      "        j = job()\n",
      "        j.job_list = joblist\n",
      "        JobAllocater.jobs.append(j)\n",
      "        \n",
      "    def previousjobcomplete(self, ip_addr):\n",
      "        for j in JobAllocater.jobs:\n",
      "            if j.completed==False and j.client==ip_addr:\n",
      "                j.n = j.n + 1\n",
      "                JobAllocater.HBServer.block(ip_addr, '')\n",
      "                if j.n == len(j.job_list):\n",
      "                    j.completed = True\n",
      "                    return True\n",
      "                else:\n",
      "                    return False\n",
      "        return True\n",
      "    \n",
      "    def unblock(self, ip_addr):\n",
      "        JobAllocater.HBServer.unblock(ip_addr)\n",
      "    def all_allocated(self):\n",
      "        for j in JobAllocater.jobs:\n",
      "            if j.allocated == False:\n",
      "                return False\n",
      "        return True\n",
      "    def all_complete(self):\n",
      "        for j in JobAllocater.jobs:\n",
      "            if j.completed == False:\n",
      "                return False\n",
      "        return True        \n",
      "    \n",
      "    def completejob(self,ip_addr):\n",
      "        for j in JobAllocater.jobs:\n",
      "            if j.client == ip_addr and j.completed == False:\n",
      "                job = j.job_list[j.n]\n",
      "                sendcommand(ip_addr, job)\n",
      "                return\n",
      "    \n",
      "    def allocatejob(self, ip_addr):\n",
      "        for j in JobAllocater.jobs:\n",
      "            if not j.allocated:\n",
      "                j.allocated = True\n",
      "                j.client = ip_addr\n",
      "                job = j.job_list[0]\n",
      "                sendcommand(ip_addr, job)\n",
      "                return\n",
      "    \n",
      "    def remove(self, ip_addr):\n",
      "        for j in JobAllocater.jobs:\n",
      "            if j.client == ip_addr and j.completed == False:\n",
      "                j.client = ''\n",
      "                j.allocated = False\n",
      "                j.completed = False\n",
      "    "
     ],
     "language": "python",
     "metadata": {},
     "outputs": [],
     "prompt_number": 7
    },
    {
     "cell_type": "code",
     "collapsed": false,
     "input": [
      "def blender(JA, start, end, x):\n",
      "    if x<1:\n",
      "        return\n",
      "    \n",
      "    i = start\n",
      "    while i<=end:\n",
      "        if i+x-1 <= end:\n",
      "            cmd ='blender -b file.blend -x 1 -F PNG -o // -s '+str(i)+ ' -e ' + str(i+x-1) + ' -a'\n",
      "            j = [cmd, 'upload *.png']\n",
      "            JA.addjob(j)\n",
      "            i = i+x\n",
      "        else:\n",
      "            cmd ='blender -b file.blend -x 1 -F PNG -o // -s ' + str(i) + ' -e ' + str(end) + ' -a'\n",
      "            j = [cmd, 'upload *.png']\n",
      "            JA.addjob(j)\n",
      "            break"
     ],
     "language": "python",
     "metadata": {},
     "outputs": [],
     "prompt_number": 8
    },
    {
     "cell_type": "code",
     "collapsed": true,
     "input": [
      "#Tries to get ip with three different methods. \n",
      "#1) By using socket.gethostname and socket.gethostbyname procedures\n",
      "#2) By trying to send a broadcast and checking the ip this broadcast is sent through\n",
      "#3) Connecting to google.com and checking the address through which it connects to the internet\n",
      "#Priority is given to option 3\n",
      "def possible_ip():\n",
      "    ip_list = []\n",
      "    \n",
      "    try:\n",
      "        s = socket.socket(socket.AF_INET, socket.SOCK_DGRAM)\n",
      "        s.connect((\"www.google.com\", 80))\n",
      "        ip_list.append(s.getsockname()[0])\n",
      "        s.close()\n",
      "    except:\n",
      "        if debug:\n",
      "            print \"Server not connected to the internet\"\n",
      "    \n",
      "    try:\n",
      "        s = socket.socket(socket.AF_INET, socket.SOCK_DGRAM)\n",
      "        s.setsockopt(socket.SOL_SOCKET, socket.SO_BROADCAST, 1)\n",
      "        s.connect(('<broadcast>', 0))\n",
      "        ip = s.getsockname()[0]\n",
      "        if not ip in ip_list:\n",
      "            ip_list.append(ip)\n",
      "        s.close()\n",
      "    except:\n",
      "        if debug:\n",
      "            print \"Unable to send broadcast with default settings\"\n",
      "    \n",
      "    try:\n",
      "        ip = socket.gethostbyname(socket.gethostname())\n",
      "        if not ip in ip_list:\n",
      "            ip_list.append(ip)\n",
      "    except:\n",
      "        if debug:\n",
      "            print \"Unknown error while trying to get ip\"\n",
      "    \n",
      "    return ip_list\n",
      "\n",
      "    \n",
      "        "
     ],
     "language": "python",
     "metadata": {},
     "outputs": [],
     "prompt_number": 9
    },
    {
     "cell_type": "code",
     "collapsed": false,
     "input": [
      "while True:\n",
      "    ip_list = possible_ip()\n",
      "    if(len(ip_list)>0):\n",
      "        print \"Default server ip to %s\" % ip_list[0]\n",
      "        ip = ip_list[0]\n",
      "        x = raw_input(\"Press 'x' to use default ip or enter a different ip: \")\n",
      "        if x!= 'x':\n",
      "            ip=x\n",
      "    else:\n",
      "        ip = raw_input(\"Input server ip: \")\n",
      "    \n",
      "    file_list = []\n",
      "    while True:\n",
      "        x = raw_input(\"Enter list of upload files (Enter 'x' to exit): \")\n",
      "        if x=='x':\n",
      "            break\n",
      "        file_list.append(x)\n",
      "        print \"Added %s to file list\" % x\n",
      "\n",
      "    print \"Final settings are:\"\n",
      "    print \"    Server ip: %s\" % ip\n",
      "    print \"    File list: \"\n",
      "    for f in file_list:\n",
      "        print \"        %s\" % f\n",
      "    \n",
      "    x = raw_input(\"Enter 'x' to continue: \")\n",
      "    if x=='x':\n",
      "        break\n",
      "\n",
      "BServer = BroadcastServer(ip)\n",
      "ULServer = UploadServer('', 1001, file_list)\n",
      "DLServer = DownloadServer('', 1002)\n",
      "HBServer = HeartbeatServer()\n",
      "\n",
      "\n",
      "\n",
      "\n",
      "\n",
      "BServer.start()\n",
      "ULServer.start()\n",
      "DLServer.start()\n",
      "HBServer.start()"
     ],
     "language": "python",
     "metadata": {},
     "outputs": [
      {
       "output_type": "stream",
       "stream": "stdout",
       "text": [
        "Default server ip to 192.168.1.105\n"
       ]
      },
      {
       "name": "stdout",
       "output_type": "stream",
       "stream": "stdout",
       "text": [
        "Press 'x' to use default ip or enter a different ip: x\n"
       ]
      },
      {
       "name": "stdout",
       "output_type": "stream",
       "stream": "stdout",
       "text": [
        "Enter list of upload files (Enter 'x' to exit): file.zip\n"
       ]
      },
      {
       "output_type": "stream",
       "stream": "stdout",
       "text": [
        "Added file.zip to file list\n"
       ]
      },
      {
       "name": "stdout",
       "output_type": "stream",
       "stream": "stdout",
       "text": [
        "Enter list of upload files (Enter 'x' to exit): x\n"
       ]
      },
      {
       "output_type": "stream",
       "stream": "stdout",
       "text": [
        "Final settings are:\n",
        "    Server ip: 192.168.1.105\n",
        "    File list: \n",
        "        file.zip\n"
       ]
      },
      {
       "name": "stdout",
       "output_type": "stream",
       "stream": "stdout",
       "text": [
        "Enter 'x' to continue: x\n"
       ]
      },
      {
       "output_type": "stream",
       "stream": "stdout",
       "text": [
        "Attempting to start Upload Server\n",
        "Starting download server\n",
        "Starting heartbeat server\n",
        "Starting broadcast server\n",
        "Upload server started\n"
       ]
      }
     ],
     "prompt_number": 10
    },
    {
     "cell_type": "code",
     "collapsed": false,
     "input": [
      "JA = JobAllocater(HBServer)\n",
      "HBServer.rm = JA.remove\n",
      "\n",
      "\n",
      "start = input(\"Start frame: \")\n",
      "end = input(\"Last frame: \")\n",
      "x = input(\"No. of frames to render at a time: \")\n",
      "blender(JA, start, end, x)\n",
      "JA.start()"
     ],
     "language": "python",
     "metadata": {},
     "outputs": [
      {
       "output_type": "stream",
       "stream": "stdout",
       "text": [
        "Ready to accept connections\n",
        "Starting timeout check thread\n"
       ]
      },
      {
       "name": "stdout",
       "output_type": "stream",
       "stream": "stdout",
       "text": [
        "Start frame: 1\n"
       ]
      },
      {
       "name": "stdout",
       "output_type": "stream",
       "stream": "stdout",
       "text": [
        "Last frame: 43\n"
       ]
      },
      {
       "name": "stdout",
       "output_type": "stream",
       "stream": "stdout",
       "text": [
        "No. of frames to render at a time: 5\n"
       ]
      },
      {
       "output_type": "stream",
       "stream": "stdout",
       "text": [
        "Starting thread for job allocation\n",
        "\n"
       ]
      }
     ],
     "prompt_number": 11
    },
    {
     "cell_type": "code",
     "collapsed": false,
     "input": [
      "sys.stdout.flush()"
     ],
     "language": "python",
     "metadata": {},
     "outputs": [],
     "prompt_number": 40
    },
    {
     "cell_type": "code",
     "collapsed": false,
     "input": [],
     "language": "python",
     "metadata": {},
     "outputs": []
    }
   ],
   "metadata": {}
  }
 ]
}