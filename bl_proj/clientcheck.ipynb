{
 "metadata": {
  "name": "",
  "signature": "sha256:834d47e2458a25cf9cbaf2fd83840844906bcf2aea131775ff37c39271de9054"
 },
 "nbformat": 3,
 "nbformat_minor": 0,
 "worksheets": [
  {
   "cells": [
    {
     "cell_type": "code",
     "collapsed": false,
     "input": [
      "import os\n",
      "import sys\n",
      "import threading\n",
      "import time\n",
      "import socket\n",
      "import glob\n",
      "import subprocess\n",
      "debug = True\n",
      "\n",
      "downloaded_files = []\n",
      "uploaded_files = []\n",
      "command_list = []"
     ],
     "language": "python",
     "metadata": {},
     "outputs": [],
     "prompt_number": 1
    },
    {
     "cell_type": "code",
     "collapsed": false,
     "input": [
      "#Data received on port 1002\n",
      "#returns list of files received\n",
      "def getdata(server_ip, port = 1001): \n",
      "    \n",
      "    file_list = []\n",
      "    \n",
      "    \n",
      "    if debug:\n",
      "        print \"Trying to download data\"\n",
      "    try:\n",
      "        host = server_ip\n",
      "        port = 1001\n",
      "        s = socket.socket(socket.AF_INET, socket.SOCK_STREAM)\n",
      "\n",
      "        s.connect((host,port))\n",
      "\n",
      "        n = ord(s.recv(1)[0])\n",
      "        \n",
      "        if debug:\n",
      "            print \"Number of files to download: %d\" % n\n",
      "        file_list = []\n",
      "\n",
      "        for i in range(n):\n",
      "            filename, filesize = getfile(s)\n",
      "            downloaded_files.append(filename)\n",
      "            file_list.append(filename)\n",
      "        \n",
      "        s.close()\n",
      "    except socket.error as msg:\n",
      "        if debug:\n",
      "            print msg\n",
      "        return False\n",
      "    except:\n",
      "        if debug:\n",
      "            print \"Unknown error\"\n",
      "        return False\n",
      "    \n",
      "    return True\n",
      "    \n",
      "    \n",
      "#Get file from socket s\n",
      "#First 128 bytes is simply a header\n",
      "#returns filename and filesize\n",
      "def getfile(s):\n",
      "    if debug:\n",
      "        print \"Attempting download\"\n",
      "    data = s.recv(128)\n",
      "    filename, filesize = decodeheader(data)\n",
      "    \n",
      "    if debug:\n",
      "        print \"Download file: %s\\tFile size: %s\" % (filename,filesize)\n",
      "        \n",
      "    f = open(filename, 'wb')\n",
      "    \n",
      "    dataread = 0\n",
      "    while True: \n",
      "        if filesize - dataread >= 512:\n",
      "            data = s.recv(512)\n",
      "            dataread += len(data)\n",
      "        else:\n",
      "            data = s.recv(filesize-dataread)\n",
      "            dataread = filesize\n",
      "        if not data:\n",
      "            break\n",
      "        f.write(data)\n",
      "        if dataread==filesize:\n",
      "            break\n",
      "    \n",
      "    if debug:\n",
      "        print \"Download completed for file: %s\" % filename\n",
      "    \n",
      "    downloaded_files.append(filename)\n",
      "    return filename, filesize\n",
      "\n",
      "    \n",
      "#In header ->\n",
      "#First 120 bytes: File name\n",
      "#Last 8 bytes: File size    \n",
      "def decodeheader(data):\n",
      "    filename = ''\n",
      "    filesize = 0\n",
      "    for i in range(0,120):\n",
      "        filename = filename + data[i]\n",
      "    \n",
      "    for i in range(120,128):\n",
      "        filesize = filesize*256 + ord(data[i])\n",
      "    \n",
      "    filename = filename.rstrip('\\0')\n",
      "    \n",
      "    return filename, filesize"
     ],
     "language": "python",
     "metadata": {},
     "outputs": [],
     "prompt_number": 2
    },
    {
     "cell_type": "code",
     "collapsed": false,
     "input": [
      "getdata('192.168.0.112')"
     ],
     "language": "python",
     "metadata": {},
     "outputs": [
      {
       "output_type": "stream",
       "stream": "stdout",
       "text": [
        "Trying to download data\n",
        "Number of files to download: 2\n",
        "Attempting download\n",
        "Download file: server.ipynb\tFile size: 8279\n",
        "Download completed for file: server.ipynb"
       ]
      },
      {
       "output_type": "stream",
       "stream": "stdout",
       "text": [
        "\n",
        "Attempting download\n",
        "Download file: Command.ipynb\tFile size: 814\n",
        "Download completed for file: Command.ipynb\n"
       ]
      },
      {
       "metadata": {},
       "output_type": "pyout",
       "prompt_number": 4,
       "text": [
        "True"
       ]
      }
     ],
     "prompt_number": 4
    },
    {
     "cell_type": "code",
     "collapsed": false,
     "input": [
      "def uploadfiles(conn, filelist):\n",
      "\n",
      "    if debug:\n",
      "        print \"Starting a file upload procedure\"\n",
      "    \n",
      "    n = len(filelist)\n",
      "    #Send number of files\n",
      "    conn.send(chr(n))\n",
      "        \n",
      "    for i in range(n):\n",
      "        pathname = filelist[i]\n",
      "        filename = os.path.basename(pathname)\n",
      "        size = os.path.getsize(pathname)\n",
      "\n",
      "        if debug:\n",
      "            print \"Attempting to upload %s\" % filename\n",
      "        conn.send(encodeheader(filename, size))\n",
      "        f = open(filename, 'rb')\n",
      "        while True:\n",
      "            data = f.read(512)\n",
      "            if not data:\n",
      "                break\n",
      "            conn.send(data)\n",
      "        f.close()\n",
      "        if debug:\n",
      "            print \"%s uploaded\" % filename\n",
      "        uploaded_files.append(filename)\n",
      "    conn.close()\n",
      "    \n",
      "\n",
      "def uploaddata(host,filelist):\n",
      "    port = 1002\n",
      "    if debug:\n",
      "        print \"Upload started\"\n",
      "    try:\n",
      "        conn = socket.socket(socket.AF_INET, socket.SOCK_STREAM)\n",
      "        conn.connect((host,port))\n",
      "\n",
      "        if debug:\n",
      "            print \"Connected to server\"\n",
      "\n",
      "        print \"File list is \", filelist\n",
      "        uploadfiles(conn, filelist)\n",
      "        return True\n",
      "    except socket.error as msg:\n",
      "        if debug:\n",
      "            print msg\n",
      "        return False\n",
      "    except:\n",
      "        if debug:\n",
      "            print \"Unknown error\"\n",
      "        return False\n",
      "def encodeheader(filename, filesize):\n",
      "    header = ''\n",
      "    for i in range(len(filename)):\n",
      "         header = header + filename[i]\n",
      "    \n",
      "    header = header + '\\0'*(120-len(filename))\n",
      "    \n",
      "    size_str = ['\\0']*8\n",
      "    for i in range(7,-1,-1):\n",
      "        if filesize == 0:\n",
      "            break\n",
      "        size_str[i] = chr(filesize%256)\n",
      "        filesize/=256\n",
      "    \n",
      "    for i in range(0,8):\n",
      "        header = header + size_str[i]\n",
      "    return header[:128]"
     ],
     "language": "python",
     "metadata": {},
     "outputs": [],
     "prompt_number": 3
    },
    {
     "cell_type": "code",
     "collapsed": false,
     "input": [
      "filelist = ['Game.pdb', 'abc.txt']\n",
      "uploaddata('192.168.0.112',filelist)"
     ],
     "language": "python",
     "metadata": {},
     "outputs": [
      {
       "output_type": "stream",
       "stream": "stdout",
       "text": [
        "Upload started\n",
        "Connected to server\n",
        "File list is  ['Game.pdb', 'abc.txt']\n",
        "Starting a file upload procedure\n",
        "Attempting to upload Game.pdb\n",
        "Game.pdb uploaded"
       ]
      },
      {
       "output_type": "stream",
       "stream": "stdout",
       "text": [
        "\n",
        "Attempting to upload abc.txt\n",
        "abc.txt uploaded"
       ]
      },
      {
       "output_type": "stream",
       "stream": "stdout",
       "text": [
        "\n"
       ]
      },
      {
       "metadata": {},
       "output_type": "pyout",
       "prompt_number": 7,
       "text": [
        "True"
       ]
      }
     ],
     "prompt_number": 7
    },
    {
     "cell_type": "code",
     "collapsed": false,
     "input": [
      "def ExecuteCommand(cmd, serverip):\n",
      "    #Cleaning cmd\n",
      "    cmd.rstrip('\\0')\n",
      "    i = cmd.find('\\x00')\n",
      "    if not i==-1:\n",
      "        cmd = cmd[:i]\n",
      "    command = cmd.split()\n",
      "\n",
      "    if command[0] == \"download\":\n",
      "        getdata(serverip)\n",
      "    elif command[0] == \"upload\":\n",
      "        flist = command[1:]\n",
      "        filelist = []\n",
      "        for rawf in flist:\n",
      "            for f in glob.glob(rawf):\n",
      "                if not f in uploaded_files:\n",
      "                    filelist.append(f)\n",
      "        \n",
      "        print \"Uploading the following files: \"\n",
      "        print filelist\n",
      "        \n",
      "        return uploaddata(serverip, filelist)\n",
      "        \n",
      "    else:\n",
      "        if debug:\n",
      "            print \"Executing command: %s\" % command\n",
      "        return subprocess.call(command, shell=True)\n",
      "    pass\n",
      "\n",
      "def StartSlaveServer(serverip):\n",
      "    if debug:\n",
      "        print \"Starting slave server for %s\" % serverip\n",
      "        sys.stdout.flush()\n",
      "    try:\n",
      "        s = socket.socket(socket.AF_INET, socket.SOCK_STREAM)\n",
      "        s.bind(('', 1003))\n",
      "        s.listen(5)\n",
      "        \n",
      "        if debug:\n",
      "            print \"Waiting  for commands\"\n",
      "            sys.stdout.flush()\n",
      "        while True:\n",
      "            conn, addr = s.accept()\n",
      "            if debug:\n",
      "                print \"Receiving command\"\n",
      "            if addr[0] == serverip:\n",
      "                cmd = ''\n",
      "                while True:\n",
      "                    data = conn.recv(512)\n",
      "                    if not data:\n",
      "                        conn.close()\n",
      "                        break\n",
      "                    cmd = cmd + data\n",
      "                    \n",
      "                    \n",
      "                conn.close()\n",
      "                print \"Command server received:%s\" % cmd\n",
      "                boolExecuted = ExecuteCommand(cmd, serverip)\n",
      "                command_list.append((cmd, boolExecuted))\n",
      "                \n",
      "                if debug:\n",
      "                    print \"Command: \", cmd, \"Status: \", boolExecuted\n",
      "            \n",
      "            else:\n",
      "                if debug:\n",
      "                    print \"Fake master\"\n",
      "                conn.close()\n",
      "    except socket.error as msg:\n",
      "        if debug:\n",
      "            print msg\n",
      "    except Exception, e:\n",
      "        if debug:\n",
      "            print e\n",
      "            print \"Unknown error\""
     ],
     "language": "python",
     "metadata": {},
     "outputs": [],
     "prompt_number": 4
    },
    {
     "cell_type": "code",
     "collapsed": false,
     "input": [
      "StartSlaveServer(\"192.168.0.112\")"
     ],
     "language": "python",
     "metadata": {},
     "outputs": [
      {
       "output_type": "stream",
       "stream": "stdout",
       "text": [
        "Starting slave server for 192.168.0.112\n"
       ]
      },
      {
       "output_type": "stream",
       "stream": "stdout",
       "text": [
        "Waiting  for commands\n"
       ]
      },
      {
       "output_type": "stream",
       "stream": "stdout",
       "text": [
        "Receiving command\n",
        "Command server received:start http://www.google.com\u0000\u0000\u0000\u0000\u0000\u0000\u0000\u0000\u0000\u0000\u0000\u0000\u0000\u0000\u0000\u0000\u0000\u0000\u0000\u0000\u0000\u0000\u0000\u0000\u0000\u0000\u0000\u0000\u0000\u0000\u0000\u0000\u0000\u0000\u0000\u0000\u0000\u0000\u0000\u0000\u0000\u0000\u0000\u0000\u0000\u0000\u0000\u0000\u0000\u0000\u0000\u0000\u0000\u0000\u0000\u0000\u0000\u0000\u0000\u0000\u0000\u0000\u0000\u0000\u0000\u0000\u0000\u0000\u0000\u0000\u0000\u0000\u0000\u0000\u0000\u0000\u0000\u0000\u0000\u0000\u0000\u0000\u0000\u0000\u0000\u0000\u0000\u0000\u0000\u0000\u0000\u0000\u0000\u0000\u0000\u0000\u0000\u0000\u0000\u0000\u0000\u0000\u0000\u0000\u0000\u0000\u0000\u0000\u0000\u0000\u0000\u0000\u0000\u0000\u0000\u0000\u0000\u0000\u0000\u0000\u0000\u0000\u0000\u0000\u0000\u0000\u0000\u0000\u0000\u0000\u0000\u0000\u0000\u0000\u0000\u0000\u0000\u0000\u0000\u0000\u0000\u0000\u0000\u0000\u0000\u0000\u0000\u0000\u0000\u0000\u0000\u0000\u0000\u0000\u0000\u0000\u0000\u0000\u0000\u0000\u0000\u0000\u0000\u0000\u0000\u0000\u0000\u0000\u0000\u0000\u0000\u0000\u0000\u0000\u0000\u0000\u0000\u0000\u0000\u0000\u0000\u0000\u0000\u0000\u0000\u0000\u0000\u0000\u0000\u0000\u0000\u0000\u0000\u0000\u0000\u0000\u0000\u0000\u0000\u0000\u0000\u0000\u0000\u0000\u0000\u0000\u0000\u0000\u0000\u0000\u0000\u0000\u0000\u0000\u0000\u0000\u0000\u0000\u0000\u0000\u0000\u0000\u0000\u0000\u0000\u0000\u0000\u0000\u0000\u0000\u0000\u0000\u0000\u0000\u0000\u0000\u0000\u0000\u0000\u0000\u0000\u0000\u0000\u0000\u0000\u0000\u0000\u0000\u0000\u0000\u0000\u0000\u0000\u0000\u0000\u0000\u0000\u0000\u0000\u0000\u0000\u0000\u0000\u0000\u0000\u0000\u0000\u0000\u0000\u0000\u0000\u0000\u0000\u0000\u0000\u0000\u0000\u0000\u0000\u0000\u0000\u0000\u0000\u0000\u0000\u0000\u0000\u0000\u0000\u0000\u0000\u0000\u0000\u0000\u0000\u0000\u0000\u0000\u0000\u0000\u0000\u0000\u0000\u0000\u0000\u0000\u0000\u0000\u0000\u0000\u0000\u0000\u0000\u0000\u0000\u0000\u0000\u0000\u0000\u0000\u0000\u0000\u0000\u0000\u0000\u0000\u0000\u0000\u0000\u0000\u0000\u0000\u0000\u0000\u0000\u0000\u0000\u0000\u0000\u0000\u0000\u0000\u0000\u0000\u0000\u0000\u0000\u0000\u0000\u0000\u0000\u0000\u0000\u0000\u0000\u0000\u0000\u0000\u0000\u0000\u0000\u0000\u0000\u0000\u0000\u0000\u0000\u0000\u0000\u0000\u0000\u0000\u0000\u0000\u0000\u0000\u0000\u0000\u0000\u0000\u0000\u0000\u0000\u0000\u0000\u0000\u0000\u0000\u0000\u0000\u0000\u0000\u0000\u0000\u0000\u0000\u0000\u0000\u0000\u0000\u0000\u0000\u0000\u0000\u0000\u0000\u0000\u0000\u0000\u0000\u0000\u0000\u0000\u0000\u0000\u0000\u0000\u0000\u0000\u0000\u0000\u0000\u0000\u0000\u0000\u0000\u0000\u0000\u0000\u0000\u0000\u0000\u0000\u0000\u0000\u0000\u0000\u0000\u0000\u0000\u0000\u0000\u0000\u0000\u0000\u0000\u0000\u0000\u0000\u0000\u0000\u0000\u0000\u0000\u0000\u0000\u0000\u0000\u0000\u0000\u0000\u0000\u0000\u0000\u0000\u0000\u0000\u0000\u0000\u0000\u0000\u0000\u0000\u0000\u0000\u0000\u0000\u0000\u0000\u0000\u0000\u0000\u0000\u0000\u0000\n",
        "Executing command: ['start', 'http://www.google.com']\n",
        "Command: "
       ]
      },
      {
       "output_type": "stream",
       "stream": "stdout",
       "text": [
        " start http://www.google.com\u0000\u0000\u0000\u0000\u0000\u0000\u0000\u0000\u0000\u0000\u0000\u0000\u0000\u0000\u0000\u0000\u0000\u0000\u0000\u0000\u0000\u0000\u0000\u0000\u0000\u0000\u0000\u0000\u0000\u0000\u0000\u0000\u0000\u0000\u0000\u0000\u0000\u0000\u0000\u0000\u0000\u0000\u0000\u0000\u0000\u0000\u0000\u0000\u0000\u0000\u0000\u0000\u0000\u0000\u0000\u0000\u0000\u0000\u0000\u0000\u0000\u0000\u0000\u0000\u0000\u0000\u0000\u0000\u0000\u0000\u0000\u0000\u0000\u0000\u0000\u0000\u0000\u0000\u0000\u0000\u0000\u0000\u0000\u0000\u0000\u0000\u0000\u0000\u0000\u0000\u0000\u0000\u0000\u0000\u0000\u0000\u0000\u0000\u0000\u0000\u0000\u0000\u0000\u0000\u0000\u0000\u0000\u0000\u0000\u0000\u0000\u0000\u0000\u0000\u0000\u0000\u0000\u0000\u0000\u0000\u0000\u0000\u0000\u0000\u0000\u0000\u0000\u0000\u0000\u0000\u0000\u0000\u0000\u0000\u0000\u0000\u0000\u0000\u0000\u0000\u0000\u0000\u0000\u0000\u0000\u0000\u0000\u0000\u0000\u0000\u0000\u0000\u0000\u0000\u0000\u0000\u0000\u0000\u0000\u0000\u0000\u0000\u0000\u0000\u0000\u0000\u0000\u0000\u0000\u0000\u0000\u0000\u0000\u0000\u0000\u0000\u0000\u0000\u0000\u0000\u0000\u0000\u0000\u0000\u0000\u0000\u0000\u0000\u0000\u0000\u0000\u0000\u0000\u0000\u0000\u0000\u0000\u0000\u0000\u0000\u0000\u0000\u0000\u0000\u0000\u0000\u0000\u0000\u0000\u0000\u0000\u0000\u0000\u0000\u0000\u0000\u0000\u0000\u0000\u0000\u0000\u0000\u0000\u0000\u0000\u0000\u0000\u0000\u0000\u0000\u0000\u0000\u0000\u0000\u0000\u0000\u0000\u0000\u0000\u0000\u0000\u0000\u0000\u0000\u0000\u0000\u0000\u0000\u0000\u0000\u0000\u0000\u0000\u0000\u0000\u0000\u0000\u0000\u0000\u0000\u0000\u0000\u0000\u0000\u0000\u0000\u0000\u0000\u0000\u0000\u0000\u0000\u0000\u0000\u0000\u0000\u0000\u0000\u0000\u0000\u0000\u0000\u0000\u0000\u0000\u0000\u0000\u0000\u0000\u0000\u0000\u0000\u0000\u0000\u0000\u0000\u0000\u0000\u0000\u0000\u0000\u0000\u0000\u0000\u0000\u0000\u0000\u0000\u0000\u0000\u0000\u0000\u0000\u0000\u0000\u0000\u0000\u0000\u0000\u0000\u0000\u0000\u0000\u0000\u0000\u0000\u0000\u0000\u0000\u0000\u0000\u0000\u0000\u0000\u0000\u0000\u0000\u0000\u0000\u0000\u0000\u0000\u0000\u0000\u0000\u0000\u0000\u0000\u0000\u0000\u0000\u0000\u0000\u0000\u0000\u0000\u0000\u0000\u0000\u0000\u0000\u0000\u0000\u0000\u0000\u0000\u0000\u0000\u0000\u0000\u0000\u0000\u0000\u0000\u0000\u0000\u0000\u0000\u0000\u0000\u0000\u0000\u0000\u0000\u0000\u0000\u0000\u0000\u0000\u0000\u0000\u0000\u0000\u0000\u0000\u0000\u0000\u0000\u0000\u0000\u0000\u0000\u0000\u0000\u0000\u0000\u0000\u0000\u0000\u0000\u0000\u0000\u0000\u0000\u0000\u0000\u0000\u0000\u0000\u0000\u0000\u0000\u0000\u0000\u0000\u0000\u0000\u0000\u0000\u0000\u0000\u0000\u0000\u0000\u0000\u0000\u0000\u0000\u0000\u0000\u0000\u0000\u0000\u0000\u0000\u0000\u0000\u0000\u0000\u0000\u0000\u0000\u0000\u0000\u0000\u0000\u0000\u0000\u0000\u0000\u0000\u0000\u0000\u0000\u0000\u0000\u0000\u0000\u0000\u0000\u0000\u0000\u0000\u0000\u0000\u0000\u0000\u0000\u0000\u0000\u0000\u0000\u0000\u0000\u0000 Status:  0\n",
        "Receiving command"
       ]
      },
      {
       "output_type": "stream",
       "stream": "stdout",
       "text": [
        "\n",
        "Command server received:download\u0000\u0000\u0000\u0000\u0000\u0000\u0000\u0000\u0000\u0000\u0000\u0000\u0000\u0000\u0000\u0000\u0000\u0000\u0000\u0000\u0000\u0000\u0000\u0000\u0000\u0000\u0000\u0000\u0000\u0000\u0000\u0000\u0000\u0000\u0000\u0000\u0000\u0000\u0000\u0000\u0000\u0000\u0000\u0000\u0000\u0000\u0000\u0000\u0000\u0000\u0000\u0000\u0000\u0000\u0000\u0000\u0000\u0000\u0000\u0000\u0000\u0000\u0000\u0000\u0000\u0000\u0000\u0000\u0000\u0000\u0000\u0000\u0000\u0000\u0000\u0000\u0000\u0000\u0000\u0000\u0000\u0000\u0000\u0000\u0000\u0000\u0000\u0000\u0000\u0000\u0000\u0000\u0000\u0000\u0000\u0000\u0000\u0000\u0000\u0000\u0000\u0000\u0000\u0000\u0000\u0000\u0000\u0000\u0000\u0000\u0000\u0000\u0000\u0000\u0000\u0000\u0000\u0000\u0000\u0000\u0000\u0000\u0000\u0000\u0000\u0000\u0000\u0000\u0000\u0000\u0000\u0000\u0000\u0000\u0000\u0000\u0000\u0000\u0000\u0000\u0000\u0000\u0000\u0000\u0000\u0000\u0000\u0000\u0000\u0000\u0000\u0000\u0000\u0000\u0000\u0000\u0000\u0000\u0000\u0000\u0000\u0000\u0000\u0000\u0000\u0000\u0000\u0000\u0000\u0000\u0000\u0000\u0000\u0000\u0000\u0000\u0000\u0000\u0000\u0000\u0000\u0000\u0000\u0000\u0000\u0000\u0000\u0000\u0000\u0000\u0000\u0000\u0000\u0000\u0000\u0000\u0000\u0000\u0000\u0000\u0000\u0000\u0000\u0000\u0000\u0000\u0000\u0000\u0000\u0000\u0000\u0000\u0000\u0000\u0000\u0000\u0000\u0000\u0000\u0000\u0000\u0000\u0000\u0000\u0000\u0000\u0000\u0000\u0000\u0000\u0000\u0000\u0000\u0000\u0000\u0000\u0000\u0000\u0000\u0000\u0000\u0000\u0000\u0000\u0000\u0000\u0000\u0000\u0000\u0000\u0000\u0000\u0000\u0000\u0000\u0000\u0000\u0000\u0000\u0000\u0000\u0000\u0000\u0000\u0000\u0000\u0000\u0000\u0000\u0000\u0000\u0000\u0000\u0000\u0000\u0000\u0000\u0000\u0000\u0000\u0000\u0000\u0000\u0000\u0000\u0000\u0000\u0000\u0000\u0000\u0000\u0000\u0000\u0000\u0000\u0000\u0000\u0000\u0000\u0000\u0000\u0000\u0000\u0000\u0000\u0000\u0000\u0000\u0000\u0000\u0000\u0000\u0000\u0000\u0000\u0000\u0000\u0000\u0000\u0000\u0000\u0000\u0000\u0000\u0000\u0000\u0000\u0000\u0000\u0000\u0000\u0000\u0000\u0000\u0000\u0000\u0000\u0000\u0000\u0000\u0000\u0000\u0000\u0000\u0000\u0000\u0000\u0000\u0000\u0000\u0000\u0000\u0000\u0000\u0000\u0000\u0000\u0000\u0000\u0000\u0000\u0000\u0000\u0000\u0000\u0000\u0000\u0000\u0000\u0000\u0000\u0000\u0000\u0000\u0000\u0000\u0000\u0000\u0000\u0000\u0000\u0000\u0000\u0000\u0000\u0000\u0000\u0000\u0000\u0000\u0000\u0000\u0000\u0000\u0000\u0000\u0000\u0000\u0000\u0000\u0000\u0000\u0000\u0000\u0000\u0000\u0000\u0000\u0000\u0000\u0000\u0000\u0000\u0000\u0000\u0000\u0000\u0000\u0000\u0000\u0000\u0000\u0000\u0000\u0000\u0000\u0000\u0000\u0000\u0000\u0000\u0000\u0000\u0000\u0000\u0000\u0000\u0000\u0000\u0000\u0000\u0000\u0000\u0000\u0000\u0000\u0000\u0000\u0000\u0000\u0000\u0000\u0000\u0000\u0000\u0000\u0000\u0000\u0000\u0000\u0000\u0000\u0000\u0000\u0000\u0000\u0000\u0000\u0000\u0000\u0000\u0000\u0000\u0000\u0000\u0000\u0000\u0000\u0000\u0000\u0000\u0000\u0000\u0000\u0000\u0000\u0000\u0000\u0000\u0000\u0000\u0000\u0000\u0000\u0000\u0000\u0000\u0000\u0000\u0000\u0000\u0000\u0000\u0000\n",
        "Trying to download data\n",
        "Number of files to download: 2"
       ]
      },
      {
       "output_type": "stream",
       "stream": "stdout",
       "text": [
        "\n",
        "Attempting download\n",
        "Download file: server.ipynb\tFile size: 8279\n",
        "Download completed for file: server.ipynb"
       ]
      },
      {
       "output_type": "stream",
       "stream": "stdout",
       "text": [
        "\n",
        "Attempting download"
       ]
      },
      {
       "output_type": "stream",
       "stream": "stdout",
       "text": [
        "\n",
        "Download file: Command.ipynb\tFile size: 814\n",
        "Download completed for file: Command.ipynb\n",
        "Command: "
       ]
      },
      {
       "output_type": "stream",
       "stream": "stdout",
       "text": [
        " download\u0000\u0000\u0000\u0000\u0000\u0000\u0000\u0000\u0000\u0000\u0000\u0000\u0000\u0000\u0000\u0000\u0000\u0000\u0000\u0000\u0000\u0000\u0000\u0000\u0000\u0000\u0000\u0000\u0000\u0000\u0000\u0000\u0000\u0000\u0000\u0000\u0000\u0000\u0000\u0000\u0000\u0000\u0000\u0000\u0000\u0000\u0000\u0000\u0000\u0000\u0000\u0000\u0000\u0000\u0000\u0000\u0000\u0000\u0000\u0000\u0000\u0000\u0000\u0000\u0000\u0000\u0000\u0000\u0000\u0000\u0000\u0000\u0000\u0000\u0000\u0000\u0000\u0000\u0000\u0000\u0000\u0000\u0000\u0000\u0000\u0000\u0000\u0000\u0000\u0000\u0000\u0000\u0000\u0000\u0000\u0000\u0000\u0000\u0000\u0000\u0000\u0000\u0000\u0000\u0000\u0000\u0000\u0000\u0000\u0000\u0000\u0000\u0000\u0000\u0000\u0000\u0000\u0000\u0000\u0000\u0000\u0000\u0000\u0000\u0000\u0000\u0000\u0000\u0000\u0000\u0000\u0000\u0000\u0000\u0000\u0000\u0000\u0000\u0000\u0000\u0000\u0000\u0000\u0000\u0000\u0000\u0000\u0000\u0000\u0000\u0000\u0000\u0000\u0000\u0000\u0000\u0000\u0000\u0000\u0000\u0000\u0000\u0000\u0000\u0000\u0000\u0000\u0000\u0000\u0000\u0000\u0000\u0000\u0000\u0000\u0000\u0000\u0000\u0000\u0000\u0000\u0000\u0000\u0000\u0000\u0000\u0000\u0000\u0000\u0000\u0000\u0000\u0000\u0000\u0000\u0000\u0000\u0000\u0000\u0000\u0000\u0000\u0000\u0000\u0000\u0000\u0000\u0000\u0000\u0000\u0000\u0000\u0000\u0000\u0000\u0000\u0000\u0000\u0000\u0000\u0000\u0000\u0000\u0000\u0000\u0000\u0000\u0000\u0000\u0000\u0000\u0000\u0000\u0000\u0000\u0000\u0000\u0000\u0000\u0000\u0000\u0000\u0000\u0000\u0000\u0000\u0000\u0000\u0000\u0000\u0000\u0000\u0000\u0000\u0000\u0000\u0000\u0000\u0000\u0000\u0000\u0000\u0000\u0000\u0000\u0000\u0000\u0000\u0000\u0000\u0000\u0000\u0000\u0000\u0000\u0000\u0000\u0000\u0000\u0000\u0000\u0000\u0000\u0000\u0000\u0000\u0000\u0000\u0000\u0000\u0000\u0000\u0000\u0000\u0000\u0000\u0000\u0000\u0000\u0000\u0000\u0000\u0000\u0000\u0000\u0000\u0000\u0000\u0000\u0000\u0000\u0000\u0000\u0000\u0000\u0000\u0000\u0000\u0000\u0000\u0000\u0000\u0000\u0000\u0000\u0000\u0000\u0000\u0000\u0000\u0000\u0000\u0000\u0000\u0000\u0000\u0000\u0000\u0000\u0000\u0000\u0000\u0000\u0000\u0000\u0000\u0000\u0000\u0000\u0000\u0000\u0000\u0000\u0000\u0000\u0000\u0000\u0000\u0000\u0000\u0000\u0000\u0000\u0000\u0000\u0000\u0000\u0000\u0000\u0000\u0000\u0000\u0000\u0000\u0000\u0000\u0000\u0000\u0000\u0000\u0000\u0000\u0000\u0000\u0000\u0000\u0000\u0000\u0000\u0000\u0000\u0000\u0000\u0000\u0000\u0000\u0000\u0000\u0000\u0000\u0000\u0000\u0000\u0000\u0000\u0000\u0000\u0000\u0000\u0000\u0000\u0000\u0000\u0000\u0000\u0000\u0000\u0000\u0000\u0000\u0000\u0000\u0000\u0000\u0000\u0000\u0000\u0000\u0000\u0000\u0000\u0000\u0000\u0000\u0000\u0000\u0000\u0000\u0000\u0000\u0000\u0000\u0000\u0000\u0000\u0000\u0000\u0000\u0000\u0000\u0000\u0000\u0000\u0000\u0000\u0000\u0000\u0000\u0000\u0000\u0000\u0000\u0000\u0000\u0000\u0000\u0000\u0000\u0000\u0000\u0000\u0000\u0000\u0000\u0000\u0000\u0000\u0000\u0000\u0000\u0000\u0000\u0000\u0000\u0000\u0000\u0000\u0000\u0000\u0000\u0000\u0000\u0000\u0000\u0000\u0000\u0000\u0000\u0000\u0000\u0000\u0000\u0000\u0000 Status:  None\n",
        "Receiving command"
       ]
      },
      {
       "output_type": "stream",
       "stream": "stdout",
       "text": [
        "\n",
        "Command server received:upload *.dll\u0000\u0000\u0000\u0000\u0000\u0000\u0000\u0000\u0000\u0000\u0000\u0000\u0000\u0000\u0000\u0000\u0000\u0000\u0000\u0000\u0000\u0000\u0000\u0000\u0000\u0000\u0000\u0000\u0000\u0000\u0000\u0000\u0000\u0000\u0000\u0000\u0000\u0000\u0000\u0000\u0000\u0000\u0000\u0000\u0000\u0000\u0000\u0000\u0000\u0000\u0000\u0000\u0000\u0000\u0000\u0000\u0000\u0000\u0000\u0000\u0000\u0000\u0000\u0000\u0000\u0000\u0000\u0000\u0000\u0000\u0000\u0000\u0000\u0000\u0000\u0000\u0000\u0000\u0000\u0000\u0000\u0000\u0000\u0000\u0000\u0000\u0000\u0000\u0000\u0000\u0000\u0000\u0000\u0000\u0000\u0000\u0000\u0000\u0000\u0000\u0000\u0000\u0000\u0000\u0000\u0000\u0000\u0000\u0000\u0000\u0000\u0000\u0000\u0000\u0000\u0000\u0000\u0000\u0000\u0000\u0000\u0000\u0000\u0000\u0000\u0000\u0000\u0000\u0000\u0000\u0000\u0000\u0000\u0000\u0000\u0000\u0000\u0000\u0000\u0000\u0000\u0000\u0000\u0000\u0000\u0000\u0000\u0000\u0000\u0000\u0000\u0000\u0000\u0000\u0000\u0000\u0000\u0000\u0000\u0000\u0000\u0000\u0000\u0000\u0000\u0000\u0000\u0000\u0000\u0000\u0000\u0000\u0000\u0000\u0000\u0000\u0000\u0000\u0000\u0000\u0000\u0000\u0000\u0000\u0000\u0000\u0000\u0000\u0000\u0000\u0000\u0000\u0000\u0000\u0000\u0000\u0000\u0000\u0000\u0000\u0000\u0000\u0000\u0000\u0000\u0000\u0000\u0000\u0000\u0000\u0000\u0000\u0000\u0000\u0000\u0000\u0000\u0000\u0000\u0000\u0000\u0000\u0000\u0000\u0000\u0000\u0000\u0000\u0000\u0000\u0000\u0000\u0000\u0000\u0000\u0000\u0000\u0000\u0000\u0000\u0000\u0000\u0000\u0000\u0000\u0000\u0000\u0000\u0000\u0000\u0000\u0000\u0000\u0000\u0000\u0000\u0000\u0000\u0000\u0000\u0000\u0000\u0000\u0000\u0000\u0000\u0000\u0000\u0000\u0000\u0000\u0000\u0000\u0000\u0000\u0000\u0000\u0000\u0000\u0000\u0000\u0000\u0000\u0000\u0000\u0000\u0000\u0000\u0000\u0000\u0000\u0000\u0000\u0000\u0000\u0000\u0000\u0000\u0000\u0000\u0000\u0000\u0000\u0000\u0000\u0000\u0000\u0000\u0000\u0000\u0000\u0000\u0000\u0000\u0000\u0000\u0000\u0000\u0000\u0000\u0000\u0000\u0000\u0000\u0000\u0000\u0000\u0000\u0000\u0000\u0000\u0000\u0000\u0000\u0000\u0000\u0000\u0000\u0000\u0000\u0000\u0000\u0000\u0000\u0000\u0000\u0000\u0000\u0000\u0000\u0000\u0000\u0000\u0000\u0000\u0000\u0000\u0000\u0000\u0000\u0000\u0000\u0000\u0000\u0000\u0000\u0000\u0000\u0000\u0000\u0000\u0000\u0000\u0000\u0000\u0000\u0000\u0000\u0000\u0000\u0000\u0000\u0000\u0000\u0000\u0000\u0000\u0000\u0000\u0000\u0000\u0000\u0000\u0000\u0000\u0000\u0000\u0000\u0000\u0000\u0000\u0000\u0000\u0000\u0000\u0000\u0000\u0000\u0000\u0000\u0000\u0000\u0000\u0000\u0000\u0000\u0000\u0000\u0000\u0000\u0000\u0000\u0000\u0000\u0000\u0000\u0000\u0000\u0000\u0000\u0000\u0000\u0000\u0000\u0000\u0000\u0000\u0000\u0000\u0000\u0000\u0000\u0000\u0000\u0000\u0000\u0000\u0000\u0000\u0000\u0000\u0000\u0000\u0000\u0000\u0000\u0000\u0000\u0000\u0000\u0000\u0000\u0000\u0000\u0000\u0000\u0000\u0000\u0000\u0000\u0000\u0000\u0000\u0000\u0000\u0000\u0000\u0000\u0000\u0000\u0000\u0000\u0000\u0000\u0000\u0000\u0000\u0000\u0000\u0000\u0000\u0000\u0000\u0000\u0000\u0000\u0000\u0000\u0000\u0000\n",
        "Uploading the following files: \n",
        "['msvcp71.dll', 'msvcr71.dll']\n",
        "Upload started\n",
        "Connected to server\n",
        "File list is  ['msvcp71.dll', 'msvcr71.dll']\n",
        "Starting a file upload procedure\n",
        "Attempting to upload msvcp71.dll\n",
        "msvcp71.dll uploaded"
       ]
      },
      {
       "output_type": "stream",
       "stream": "stdout",
       "text": [
        "\n",
        "Attempting to upload msvcr71.dll\n",
        "msvcr71.dll uploaded"
       ]
      }
     ]
    },
    {
     "cell_type": "code",
     "collapsed": false,
     "input": [
      "sys.stdout.flush()"
     ],
     "language": "python",
     "metadata": {},
     "outputs": []
    },
    {
     "cell_type": "code",
     "collapsed": false,
     "input": [
      "def lookforserver(port= 1000):\n",
      "    if debug:\n",
      "        print \"Looking for command server\"\n",
      "        \n",
      "    try:\n",
      "        s = socket.socket(socket.AF_INET, socket.SOCK_DGRAM)\n",
      "        s.bind(('', port))\n",
      "\n",
      "        data, addr = s.recvfrom(256)\n",
      "    \n",
      "        if debug:\n",
      "            print \"Server found at %s\" % addr[0]\n",
      "        return addr[0]\n",
      "    except socket.error as msg:\n",
      "        print msg\n",
      "    except:\n",
      "        print \"Unknown error\""
     ],
     "language": "python",
     "metadata": {},
     "outputs": [],
     "prompt_number": 2
    },
    {
     "cell_type": "code",
     "collapsed": false,
     "input": [
      "lookforserver()"
     ],
     "language": "python",
     "metadata": {},
     "outputs": [
      {
       "output_type": "stream",
       "stream": "stdout",
       "text": [
        "Looking for command server\n",
        "Server found at 192.168.0.112"
       ]
      },
      {
       "output_type": "stream",
       "stream": "stdout",
       "text": [
        "\n"
       ]
      },
      {
       "metadata": {},
       "output_type": "pyout",
       "prompt_number": 3,
       "text": [
        "'192.168.0.112'"
       ]
      }
     ],
     "prompt_number": 3
    },
    {
     "cell_type": "code",
     "collapsed": false,
     "input": [
      "class Heartbeat(threading.Thread):\n",
      "    running = False\n",
      "    status = ''\n",
      "    def __init__(self, serverip, port=1004):\n",
      "        threading.Thread.__init__(self)\n",
      "\n",
      "        if not Heartbeat.running:\n",
      "            self.run_thr = True\n",
      "            Heartbeat.serverip = serverip\n",
      "            Heartbeat.port = port\n",
      "            Heartbeat.lock = threading.Lock()\n",
      "            if debug:\n",
      "                print \"Stating heartbeats for %s\" % serverip\n",
      "            Heartbeat.running = True\n",
      "        else:\n",
      "            self.run_thr = False\n",
      "            if debug:\n",
      "                print \"Cannot have more than one heart\"\n",
      "    \n",
      "    def run(self):\n",
      "        if self.run_thr:\n",
      "            while True:\n",
      "                self.beat()\n",
      "                time.sleep(1)\n",
      "    \n",
      "    def beat(self):\n",
      "        try:\n",
      "            s = socket.socket(socket.AF_INET, socket.SOCK_STREAM)\n",
      "            s.connect((Heartbeat.serverip, Heartbeat.port))\n",
      "            \n",
      "            Heartbeat.lock.acquire()\n",
      "            s.send(Heartbeat.status)\n",
      "            Heartbeat.lock.release()\n",
      "            \n",
      "            if debug:\n",
      "                print \"Heartbeat: sending %s\" % Heartbeat.status\n",
      "            s.close()\n",
      "        except socket.error as msg:\n",
      "            print msg\n",
      "        except:\n",
      "            print \"Unknown error\"\n",
      "    \n",
      "    def update(self, status):\n",
      "        Heartbeat.lock.acquire()\n",
      "        Heartbeat.status = status\n",
      "        Heartbeat.lock.release()\n",
      "        \n",
      "        print \"Updated status to: %s\" % status\n",
      "        self.beat()\n",
      "        "
     ],
     "language": "python",
     "metadata": {},
     "outputs": [],
     "prompt_number": 2
    },
    {
     "cell_type": "code",
     "collapsed": false,
     "input": [
      "HB = Heartbeat('192.168.0.112')\n",
      "HB.start()\n",
      "HB.update('new')"
     ],
     "language": "python",
     "metadata": {},
     "outputs": [
      {
       "output_type": "stream",
       "stream": "stdout",
       "text": [
        "Stating heartbeats for 192.168.0.112\n",
        "Updated status to: new\n",
        "Heartbeat: sending new\n",
        "Heartbeat: sending new\n"
       ]
      },
      {
       "output_type": "stream",
       "stream": "stdout",
       "text": [
        "Heartbeat: sending new\n",
        "Heartbeat: sending new\n"
       ]
      },
      {
       "output_type": "stream",
       "stream": "stdout",
       "text": [
        "Heartbeat: sending new\n",
        "Heartbeat: sending new\n"
       ]
      }
     ],
     "prompt_number": 3
    },
    {
     "cell_type": "code",
     "collapsed": false,
     "input": [
      "HB.update('executing')"
     ],
     "language": "python",
     "metadata": {},
     "outputs": [
      {
       "output_type": "stream",
       "stream": "stdout",
       "text": [
        "Updated status to: executing\n",
        "Heartbeat: sending executing\n"
       ]
      },
      {
       "output_type": "stream",
       "stream": "stdout",
       "text": [
        "Heartbeat: sending executing\n",
        "Heartbeat: sending executing\n"
       ]
      },
      {
       "output_type": "stream",
       "stream": "stdout",
       "text": [
        "Heartbeat: sending executing\n",
        "Heartbeat: sending executing\n"
       ]
      },
      {
       "output_type": "stream",
       "stream": "stdout",
       "text": [
        "Heartbeat: sending executing\n",
        "Heartbeat: sending executing\n"
       ]
      },
      {
       "output_type": "stream",
       "stream": "stdout",
       "text": [
        "Heartbeat: sending executing\n",
        "Heartbeat: sending executing\n"
       ]
      },
      {
       "output_type": "stream",
       "stream": "stdout",
       "text": [
        "Heartbeat: sending executing\n",
        "Heartbeat: sending executing\n"
       ]
      },
      {
       "output_type": "stream",
       "stream": "stdout",
       "text": [
        "Heartbeat: sending executing\n",
        "Heartbeat: sending executing\n"
       ]
      },
      {
       "output_type": "stream",
       "stream": "stdout",
       "text": [
        "Heartbeat: sending executing\n",
        "Heartbeat: sending executing\n"
       ]
      },
      {
       "output_type": "stream",
       "stream": "stdout",
       "text": [
        "Heartbeat: sending executing\n",
        "Heartbeat: sending executing\n"
       ]
      },
      {
       "output_type": "stream",
       "stream": "stdout",
       "text": [
        "Heartbeat: sending executing\n",
        "Heartbeat: sending executing\n"
       ]
      },
      {
       "output_type": "stream",
       "stream": "stdout",
       "text": [
        "Heartbeat: sending executing\n",
        "Heartbeat: sending executing\n"
       ]
      },
      {
       "output_type": "stream",
       "stream": "stdout",
       "text": [
        "Heartbeat: sending executing\n",
        "Heartbeat: sending executing\n"
       ]
      },
      {
       "output_type": "stream",
       "stream": "stdout",
       "text": [
        "Heartbeat: sending executing\n",
        "Heartbeat: sending executing\n"
       ]
      },
      {
       "output_type": "stream",
       "stream": "stdout",
       "text": [
        "Heartbeat: sending executing\n",
        "Heartbeat: sending executing\n"
       ]
      },
      {
       "output_type": "stream",
       "stream": "stdout",
       "text": [
        "Heartbeat: sending executing\n",
        "Heartbeat: sending executing\n"
       ]
      },
      {
       "output_type": "stream",
       "stream": "stdout",
       "text": [
        "Heartbeat: sending executing\n",
        "Heartbeat: sending executing\n"
       ]
      },
      {
       "output_type": "stream",
       "stream": "stdout",
       "text": [
        "Heartbeat: sending executing\n",
        "Heartbeat: sending executing\n"
       ]
      },
      {
       "output_type": "stream",
       "stream": "stdout",
       "text": [
        "Heartbeat: sending executing\n",
        "Heartbeat: sending executing\n"
       ]
      },
      {
       "output_type": "stream",
       "stream": "stdout",
       "text": [
        "Heartbeat: sending executing\n",
        "Heartbeat: sending executing\n"
       ]
      },
      {
       "output_type": "stream",
       "stream": "stdout",
       "text": [
        "Heartbeat: sending executing\n",
        "Heartbeat: sending executing\n"
       ]
      },
      {
       "output_type": "stream",
       "stream": "stdout",
       "text": [
        "Heartbeat: sending executing\n",
        "Heartbeat: sending executing\n"
       ]
      },
      {
       "output_type": "stream",
       "stream": "stdout",
       "text": [
        "Heartbeat: sending executing\n",
        "Heartbeat: sending executing\n"
       ]
      },
      {
       "output_type": "stream",
       "stream": "stdout",
       "text": [
        "Heartbeat: sending executing\n",
        "Heartbeat: sending executing\n"
       ]
      },
      {
       "output_type": "stream",
       "stream": "stdout",
       "text": [
        "Heartbeat: sending executing\n",
        "Heartbeat: sending executing\n"
       ]
      },
      {
       "output_type": "stream",
       "stream": "stdout",
       "text": [
        "Heartbeat: sending executing\n",
        "Heartbeat: sending executing\n"
       ]
      },
      {
       "output_type": "stream",
       "stream": "stdout",
       "text": [
        "Heartbeat: sending executing\n",
        "Heartbeat: sending executing\n"
       ]
      },
      {
       "output_type": "stream",
       "stream": "stdout",
       "text": [
        "Heartbeat: sending executing\n",
        "Heartbeat: sending executing\n"
       ]
      },
      {
       "output_type": "stream",
       "stream": "stdout",
       "text": [
        "Heartbeat: sending executing\n",
        "[Errno 10061] No connection could be made because the target machine actively refused it\n"
       ]
      }
     ],
     "prompt_number": 5
    },
    {
     "cell_type": "code",
     "collapsed": false,
     "input": [
      "HB.update('running')"
     ],
     "language": "python",
     "metadata": {},
     "outputs": [
      {
       "output_type": "stream",
       "stream": "stdout",
       "text": [
        "Updated status to: running\n",
        "Heartbeat: sending %s\n",
        "Heartbeat: sending %s\n"
       ]
      },
      {
       "output_type": "stream",
       "stream": "stdout",
       "text": [
        "Heartbeat: sending %s\n",
        "Heartbeat: sending %s\n"
       ]
      },
      {
       "output_type": "stream",
       "stream": "stdout",
       "text": [
        "Heartbeat: sending %s\n",
        "Heartbeat: sending %s\n"
       ]
      },
      {
       "output_type": "stream",
       "stream": "stdout",
       "text": [
        "Heartbeat: sending %s\n",
        "Heartbeat: sending %s\n"
       ]
      },
      {
       "output_type": "stream",
       "stream": "stdout",
       "text": [
        "Heartbeat: sending %s\n",
        "Heartbeat: sending %s\n"
       ]
      },
      {
       "output_type": "stream",
       "stream": "stdout",
       "text": [
        "Heartbeat: sending %s\n",
        "Heartbeat: sending %s\n"
       ]
      },
      {
       "output_type": "stream",
       "stream": "stdout",
       "text": [
        "Heartbeat: sending %s\n",
        "Heartbeat: sending %s\n"
       ]
      },
      {
       "output_type": "stream",
       "stream": "stdout",
       "text": [
        "Heartbeat: sending %s\n",
        "Heartbeat: sending %s\n"
       ]
      },
      {
       "output_type": "stream",
       "stream": "stdout",
       "text": [
        "Heartbeat: sending %s\n",
        "Heartbeat: sending %s\n"
       ]
      }
     ],
     "prompt_number": 5
    },
    {
     "cell_type": "code",
     "collapsed": false,
     "input": [],
     "language": "python",
     "metadata": {},
     "outputs": []
    }
   ],
   "metadata": {}
  }
 ]
}