{
 "metadata": {
  "name": "",
  "signature": "sha256:3d769d85dc36a08bc8d3a6f0363e05c76658abbc8ae85bcf7ea8b1f8e15afb7a"
 },
 "nbformat": 3,
 "nbformat_minor": 0,
 "worksheets": [
  {
   "cells": [
    {
     "cell_type": "code",
     "collapsed": false,
     "input": [
      "import sys\n",
      "import os\n",
      "import time\n",
      "import threading"
     ],
     "language": "python",
     "metadata": {},
     "outputs": [],
     "prompt_number": 2
    },
    {
     "cell_type": "code",
     "collapsed": false,
     "input": [
      "class CommandThread(threading.Thread):\n",
      "    def __init__(self):"
     ],
     "language": "python",
     "metadata": {},
     "outputs": []
    }
   ],
   "metadata": {}
  }
 ]
}