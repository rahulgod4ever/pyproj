{
 "metadata": {
  "name": "",
  "signature": "sha256:f69aa89588695457c70494abd82359b5e3b49fb5a0b7c308710b35906159d0b8"
 },
 "nbformat": 3,
 "nbformat_minor": 0,
 "worksheets": [
  {
   "cells": [
    {
     "cell_type": "code",
     "collapsed": false,
     "input": [
      "import socket\n",
      "import sys\n",
      "import os\n",
      "import time\n",
      "import subprocess\n",
      "import threading"
     ],
     "language": "python",
     "metadata": {},
     "outputs": [],
     "prompt_number": 3
    },
    {
     "cell_type": "code",
     "collapsed": false,
     "input": [
      "#Look for server on port 1000 and returns ip of server\n",
      "def lookforserver(port = 1000):\n",
      "    s = socket.socket(socket.AF_INET, socket.SOCK_DGRAM)\n",
      "    \n",
      "    host = ''\n",
      "    port = 1000\n",
      "    \n",
      "    s.bind((host,port))\n",
      "    data, addr = s.recvfrom(256)\n",
      "    \n",
      "    return addr[0]\n",
      "\n",
      "\n",
      "#Get data from server on port 1001\n",
      "#Data received on port 1001\n",
      "#returns list of files received\n",
      "def getdata(server_ip): \n",
      "    \n",
      "    host = server_ip\n",
      "    port = 1001\n",
      "    s = socket.socket(socket.AF_INET, socket.SOCK_STREAM)\n",
      "    \n",
      "    s.connect((host,port))\n",
      "\n",
      "    n = conn.recv(1)\n",
      "    \n",
      "    file_list = []\n",
      "    \n",
      "    for i in range(n):\n",
      "        filename, filesize = getfile(s)\n",
      "        file_list.append(filename)\n",
      "    \n",
      "    s.close()\n",
      "    \n",
      "    return file_list\n",
      "    \n",
      "    \n",
      "#Get file from socket s\n",
      "#First 128 bytes is simply a header\n",
      "#returns filename and filesize\n",
      "def getfile(s):\n",
      "    s.recv(128)\n",
      "    filename, filesize = decodeheader(data)\n",
      "    \n",
      "    f = open(filename, 'wb')\n",
      "    while True: \n",
      "        data = s.recv(512)\n",
      "        if not data:\n",
      "            break\n",
      "        f.write(data)\n",
      "     \n",
      "    return filename, filesize\n",
      "\n",
      "    \n",
      "#In header ->\n",
      "#First 120 bytes: File name\n",
      "#Last 8 bytes: File size    \n",
      "def decodeheader(data):\n",
      "    filename = ''\n",
      "    filesize = 0\n",
      "    for i in range(0,120):\n",
      "        filename = filename + data[i]\n",
      "    \n",
      "    for i in range(120,128):\n",
      "        filesize = filesize*256 + ord(data[i])\n",
      "    \n",
      "    filename = filename.rstrip('\\0')\n",
      "    \n",
      "    return filename, filesize\n",
      "\n",
      "command_list = []\n",
      "execution_status = []\n",
      "\n",
      "#initate_slave_server receives command line instructions from server on port 1002\n",
      "#each instruction is 512 bytes long. (Padded with null characters)\n",
      "#ip_addr is ip of server\n",
      "def initiate_slave_server(server_ip):\n",
      "    host = ''\n",
      "    port = 1002\n",
      "    \n",
      "    s.bind((host,port))\n",
      "    \n",
      "    s.listen(1)\n",
      "    \n",
      "    last_run_complete \n",
      "    while True:\n",
      "        c, addr = s.accept()\n",
      "        if not (addr[0] == server_ip)\n",
      "            c.close()\n",
      "            break\n",
      "        cmd = c.recv(512)\n",
      "        \n",
      "        if not cmd\n",
      "            c.close()\n",
      "            continue\n",
      "        c.send('Acknowledged')\n",
      "        \n",
      "        #Execute command and notify server when completed\n",
      "        #Done by updating command list\n",
      "        \n",
      "        command_list.append(cmd)\n",
      "        #Command execution handled by cmdexec thread\n",
      "    \n",
      "        c.close()\n",
      "\n",
      "        \n",
      "def cmdexec():\n",
      "    total_exec_num =0\n",
      "    while True:\n",
      "        if len(command_list)==total_exec_num\n",
      "            time.sleep(1)\n",
      "            continue\n",
      "        else\n",
      "            total_exec_num = total_exec_num + 1\n",
      "            \n",
      "        if len(execution_status)<total_exec_num:\n",
      "            while len(execution_status<total_exec_num)\n",
      "                execution_status.append(0)      \n",
      "        \n",
      "        cmd = command_list[total_exec_num-1].split(' ')\n",
      "        \n",
      "        if subprocess.call(cmd, shell=True):\n",
      "            execution_status[total_exec_num - 1] = 1\n",
      "        else\n",
      "            execution_status[total_exec_num - 1] = -1\n",
      "        \n",
      "\n"
     ],
     "language": "python",
     "metadata": {},
     "outputs": [
      {
       "output_type": "stream",
       "stream": "stdout",
       "text": [
        "Received Sending broadcast message 16 from  ('192.168.1.104', 1234)\n"
       ]
      },
      {
       "output_type": "stream",
       "stream": "stdout",
       "text": [
        "Received Sending broadcast message 17 from  ('192.168.1.104', 1234)\n"
       ]
      },
      {
       "output_type": "stream",
       "stream": "stdout",
       "text": [
        "Received Sending broadcast message 18 from  ('192.168.1.104', 1234)\n"
       ]
      },
      {
       "output_type": "stream",
       "stream": "stdout",
       "text": [
        "Received Sending broadcast message 19 from  ('192.168.1.104', 1234)\n"
       ]
      },
      {
       "output_type": "stream",
       "stream": "stdout",
       "text": [
        "Received Sending broadcast message 20 from  ('192.168.1.104', 1234)\n"
       ]
      },
      {
       "output_type": "stream",
       "stream": "stdout",
       "text": [
        "Received Sending broadcast message 21 from  ('192.168.1.104', 1234)\n"
       ]
      },
      {
       "output_type": "stream",
       "stream": "stdout",
       "text": [
        "Received Sending broadcast message 22 from  ('192.168.1.104', 1234)\n"
       ]
      },
      {
       "output_type": "stream",
       "stream": "stdout",
       "text": [
        "Received Sending broadcast message 23 from  ('192.168.1.104', 1234)\n"
       ]
      },
      {
       "output_type": "stream",
       "stream": "stdout",
       "text": [
        "Received Sending broadcast message 24 from  ('192.168.1.104', 1234)\n"
       ]
      },
      {
       "output_type": "stream",
       "stream": "stdout",
       "text": [
        "Received Sending broadcast message 25 from  ('192.168.1.104', 1234)\n"
       ]
      },
      {
       "output_type": "stream",
       "stream": "stdout",
       "text": [
        "Received Sending broadcast message 26 from  ('192.168.1.104', 1234)\n"
       ]
      },
      {
       "output_type": "stream",
       "stream": "stdout",
       "text": [
        "Received Sending broadcast message 27 from  ('192.168.1.104', 1234)\n"
       ]
      },
      {
       "output_type": "stream",
       "stream": "stdout",
       "text": [
        "Received Sending broadcast message 28 from  ('192.168.1.104', 1234)\n"
       ]
      },
      {
       "output_type": "stream",
       "stream": "stdout",
       "text": [
        "Received Sending broadcast message 29 from  ('192.168.1.104', 1234)\n"
       ]
      },
      {
       "output_type": "stream",
       "stream": "stdout",
       "text": [
        "Received Sending broadcast message 30 from  ('192.168.1.104', 1234)\n"
       ]
      },
      {
       "output_type": "stream",
       "stream": "stdout",
       "text": [
        "Received Sending broadcast message 31 from  ('192.168.1.104', 1234)\n"
       ]
      },
      {
       "output_type": "stream",
       "stream": "stdout",
       "text": [
        "Received Sending broadcast message 32 from  ('192.168.1.104', 1234)\n"
       ]
      },
      {
       "output_type": "stream",
       "stream": "stdout",
       "text": [
        "Received Sending broadcast message 33 from  ('192.168.1.104', 1234)\n"
       ]
      },
      {
       "output_type": "stream",
       "stream": "stdout",
       "text": [
        "Received Sending broadcast message 34 from  ('192.168.1.104', 1234)\n"
       ]
      },
      {
       "output_type": "stream",
       "stream": "stdout",
       "text": [
        "Received Sending broadcast message 35 from  ('192.168.1.104', 1234)\n"
       ]
      },
      {
       "output_type": "stream",
       "stream": "stdout",
       "text": [
        "Received Sending broadcast message 36 from  ('192.168.1.104', 1234)\n"
       ]
      },
      {
       "output_type": "stream",
       "stream": "stdout",
       "text": [
        "Received Sending broadcast message 37 from  ('192.168.1.104', 1234)\n"
       ]
      },
      {
       "output_type": "stream",
       "stream": "stdout",
       "text": [
        "Received Sending broadcast message 38 from  ('192.168.1.104', 1234)\n"
       ]
      },
      {
       "output_type": "stream",
       "stream": "stdout",
       "text": [
        "Received Sending broadcast message 39 from  ('192.168.1.104', 1234)\n"
       ]
      },
      {
       "output_type": "stream",
       "stream": "stdout",
       "text": [
        "Received Sending broadcast message 40 from  ('192.168.1.104', 1234)\n"
       ]
      },
      {
       "output_type": "stream",
       "stream": "stdout",
       "text": [
        "Received Sending broadcast message 41 from  ('192.168.1.104', 1234)\n"
       ]
      },
      {
       "output_type": "stream",
       "stream": "stdout",
       "text": [
        "Received Sending broadcast message 42 from  ('192.168.1.104', 1234)\n"
       ]
      },
      {
       "output_type": "stream",
       "stream": "stdout",
       "text": [
        "Received Sending broadcast message 43 from  ('192.168.1.104', 1234)\n"
       ]
      },
      {
       "output_type": "stream",
       "stream": "stdout",
       "text": [
        "Received Sending broadcast message 44 from  ('192.168.1.104', 1234)\n"
       ]
      },
      {
       "output_type": "stream",
       "stream": "stdout",
       "text": [
        "Received Sending broadcast message 45 from  ('192.168.1.104', 1234)\n"
       ]
      },
      {
       "output_type": "stream",
       "stream": "stdout",
       "text": [
        "Received Sending broadcast message 46 from  ('192.168.1.104', 1234)\n"
       ]
      },
      {
       "output_type": "stream",
       "stream": "stdout",
       "text": [
        "Received Sending broadcast message 47 from  ('192.168.1.104', 1234)\n"
       ]
      },
      {
       "output_type": "stream",
       "stream": "stdout",
       "text": [
        "Received Sending broadcast message 48 from  ('192.168.1.104', 1234)\n"
       ]
      },
      {
       "output_type": "stream",
       "stream": "stdout",
       "text": [
        "Received Sending broadcast message 49 from  ('192.168.1.104', 1234)\n"
       ]
      },
      {
       "output_type": "stream",
       "stream": "stdout",
       "text": [
        "Received Sending broadcast message 50 from  ('192.168.1.104', 1234)\n"
       ]
      },
      {
       "output_type": "stream",
       "stream": "stdout",
       "text": [
        "Received Sending broadcast message 51 from  ('192.168.1.104', 1234)\n"
       ]
      },
      {
       "output_type": "stream",
       "stream": "stdout",
       "text": [
        "Received Sending broadcast message 52 from  ('192.168.1.104', 1234)\n"
       ]
      },
      {
       "output_type": "stream",
       "stream": "stdout",
       "text": [
        "Received Sending broadcast message 53 from  ('192.168.1.104', 1234)\n"
       ]
      },
      {
       "output_type": "stream",
       "stream": "stdout",
       "text": [
        "Received Sending broadcast message 54 from  ('192.168.1.104', 1234)\n"
       ]
      },
      {
       "output_type": "stream",
       "stream": "stdout",
       "text": [
        "Received Sending broadcast message 55 from  ('192.168.1.104', 1234)\n"
       ]
      },
      {
       "output_type": "stream",
       "stream": "stdout",
       "text": [
        "Received Sending broadcast message 56 from  ('192.168.1.104', 1234)\n"
       ]
      },
      {
       "output_type": "stream",
       "stream": "stdout",
       "text": [
        "Received Sending broadcast message 57 from  ('192.168.1.104', 1234)\n"
       ]
      },
      {
       "output_type": "stream",
       "stream": "stdout",
       "text": [
        "Received Sending broadcast message 58 from  ('192.168.1.104', 1234)\n"
       ]
      },
      {
       "output_type": "stream",
       "stream": "stdout",
       "text": [
        "Received Sending broadcast message 59 from  ('192.168.1.104', 1234)\n"
       ]
      },
      {
       "output_type": "stream",
       "stream": "stdout",
       "text": [
        "Received Sending broadcast message 60 from  ('192.168.1.104', 1234)\n"
       ]
      },
      {
       "output_type": "stream",
       "stream": "stdout",
       "text": [
        "Received Sending broadcast message 61 from  ('192.168.1.104', 1234)\n"
       ]
      },
      {
       "output_type": "stream",
       "stream": "stdout",
       "text": [
        "Received Sending broadcast message 62 from  ('192.168.1.104', 1234)\n"
       ]
      },
      {
       "output_type": "stream",
       "stream": "stdout",
       "text": [
        "Received Sending broadcast message 63 from  ('192.168.1.104', 1234)\n"
       ]
      },
      {
       "output_type": "stream",
       "stream": "stdout",
       "text": [
        "Received Sending broadcast message 64 from  ('192.168.1.104', 1234)\n"
       ]
      },
      {
       "output_type": "stream",
       "stream": "stdout",
       "text": [
        "Received Sending broadcast message 65 from  ('192.168.1.104', 1234)\n"
       ]
      },
      {
       "output_type": "stream",
       "stream": "stdout",
       "text": [
        "Received Sending broadcast message 66 from  ('192.168.1.104', 1234)\n"
       ]
      },
      {
       "output_type": "stream",
       "stream": "stdout",
       "text": [
        "Received Sending broadcast message 67 from  ('192.168.1.104', 1234)\n"
       ]
      },
      {
       "output_type": "stream",
       "stream": "stdout",
       "text": [
        "Received Sending broadcast message 68 from  ('192.168.1.104', 1234)\n"
       ]
      },
      {
       "output_type": "stream",
       "stream": "stdout",
       "text": [
        "Received Sending broadcast message 69 from  ('192.168.1.104', 1234)\n"
       ]
      },
      {
       "output_type": "stream",
       "stream": "stdout",
       "text": [
        "Received Sending broadcast message 70 from  ('192.168.1.104', 1234)\n"
       ]
      },
      {
       "output_type": "stream",
       "stream": "stdout",
       "text": [
        "Received Sending broadcast message 71 from  ('192.168.1.104', 1234)\n"
       ]
      },
      {
       "output_type": "stream",
       "stream": "stdout",
       "text": [
        "Received Sending broadcast message 72 from  ('192.168.1.104', 1234)\n"
       ]
      },
      {
       "output_type": "stream",
       "stream": "stdout",
       "text": [
        "Received Sending broadcast message 73 from  ('192.168.1.104', 1234)\n"
       ]
      },
      {
       "output_type": "stream",
       "stream": "stdout",
       "text": [
        "Received Sending broadcast message 74 from  ('192.168.1.104', 1234)\n"
       ]
      },
      {
       "output_type": "stream",
       "stream": "stdout",
       "text": [
        "Received Sending broadcast message 75 from  ('192.168.1.104', 1234)\n"
       ]
      },
      {
       "output_type": "stream",
       "stream": "stdout",
       "text": [
        "Received Sending broadcast message 76 from  ('192.168.1.104', 1234)\n"
       ]
      },
      {
       "output_type": "stream",
       "stream": "stdout",
       "text": [
        "Received Sending broadcast message 77 from  ('192.168.1.104', 1234)\n"
       ]
      },
      {
       "output_type": "stream",
       "stream": "stdout",
       "text": [
        "Received Sending broadcast message 78 from  ('192.168.1.104', 1234)\n"
       ]
      },
      {
       "output_type": "stream",
       "stream": "stdout",
       "text": [
        "Received Sending broadcast message 79 from  ('192.168.1.104', 1234)\n"
       ]
      },
      {
       "output_type": "stream",
       "stream": "stdout",
       "text": [
        "Received Sending broadcast message 80 from  ('192.168.1.104', 1234)\n"
       ]
      },
      {
       "output_type": "stream",
       "stream": "stdout",
       "text": [
        "Received Sending broadcast message 81 from  ('192.168.1.104', 1234)\n"
       ]
      },
      {
       "output_type": "stream",
       "stream": "stdout",
       "text": [
        "Received Sending broadcast message 82 from  ('192.168.1.104', 1234)\n"
       ]
      },
      {
       "output_type": "stream",
       "stream": "stdout",
       "text": [
        "Received Sending broadcast message 83 from  ('192.168.1.104', 1234)\n"
       ]
      },
      {
       "output_type": "stream",
       "stream": "stdout",
       "text": [
        "Received Sending broadcast message 84 from  ('192.168.1.104', 1234)\n"
       ]
      },
      {
       "output_type": "stream",
       "stream": "stdout",
       "text": [
        "Received Sending broadcast message 85 from  ('192.168.1.104', 1234)\n"
       ]
      },
      {
       "output_type": "stream",
       "stream": "stdout",
       "text": [
        "Received Sending broadcast message 86 from  ('192.168.1.104', 1234)\n"
       ]
      },
      {
       "output_type": "stream",
       "stream": "stdout",
       "text": [
        "Received Sending broadcast message 87 from  ('192.168.1.104', 1234)\n"
       ]
      },
      {
       "output_type": "stream",
       "stream": "stdout",
       "text": [
        "Received Sending broadcast message 88 from  ('192.168.1.104', 1234)\n"
       ]
      },
      {
       "output_type": "stream",
       "stream": "stdout",
       "text": [
        "Received Sending broadcast message 89 from  ('192.168.1.104', 1234)\n"
       ]
      },
      {
       "output_type": "stream",
       "stream": "stdout",
       "text": [
        "Received Sending broadcast message 90 from  ('192.168.1.104', 1234)\n"
       ]
      },
      {
       "output_type": "stream",
       "stream": "stdout",
       "text": [
        "Received Sending broadcast message 91 from  ('192.168.1.104', 1234)\n"
       ]
      },
      {
       "output_type": "stream",
       "stream": "stdout",
       "text": [
        "Received Sending broadcast message 92 from  ('192.168.1.104', 1234)\n"
       ]
      },
      {
       "output_type": "stream",
       "stream": "stdout",
       "text": [
        "Received Sending broadcast message 93 from  ('192.168.1.104', 1234)\n"
       ]
      },
      {
       "output_type": "stream",
       "stream": "stdout",
       "text": [
        "Received Sending broadcast message 94 from  ('192.168.1.104', 1234)\n"
       ]
      }
     ]
    },
    {
     "cell_type": "code",
     "collapsed": false,
     "input": [
      "#Heartbeat on port 1003\n",
      "\n",
      "class ClientLife(threading.Thread):\n",
      "    status = ''\n",
      "    running = False\n",
      "    def __init__(self, server_ip):\n",
      "        threading.Thread.__init__(self)\n",
      "        self.host = server_ip\n",
      "        if not running:\n",
      "            self.run = True\n",
      "            running = True\n",
      "        else:\n",
      "            self.run = False\n",
      "            \n",
      "            \n",
      "    def run():\n",
      "        s = socket.socket(socket.AF_INET, socket.SOCK_STREAM)\n",
      "        port = 1003\n",
      "        while True:\n",
      "            s.connect((self.host,port))\n",
      "            s.send(status + '\\0'*(128-len(status)))\n",
      "            s.close()\n",
      "            time.sleep(2)\n",
      "    "
     ],
     "language": "python",
     "metadata": {},
     "outputs": [],
     "prompt_number": 4
    },
    {
     "cell_type": "code",
     "collapsed": false,
     "input": [
      "\n",
      "    "
     ],
     "language": "python",
     "metadata": {},
     "outputs": []
    }
   ],
   "metadata": {}
  }
 ]
}