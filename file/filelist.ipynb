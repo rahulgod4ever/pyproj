{
 "metadata": {
  "name": "",
  "signature": "sha256:e468c1278aa0415b0382b0398fa4f5e58efb443e949dc1726ed49f90fa145c2c"
 },
 "nbformat": 3,
 "nbformat_minor": 0,
 "worksheets": [
  {
   "cells": [
    {
     "cell_type": "code",
     "collapsed": false,
     "input": [
      "#Converts ascii string to unicode string while maintaing type as str\n",
      "import os\n",
      "import sys\n",
      "\n",
      "def tounicode(string):\n",
      "    result = ''\n",
      "    for c in string:\n",
      "        result = result + chr(ord(unicode(c))/256) + chr(ord(unicode(c))%256)\n",
      "    return result\n",
      "\n",
      "def printtree(rootdir, level = 0):\n",
      "    lst = os.listdir(rootdir);\n",
      "    for f in lst:\n",
      "        if os.path.isdir(rootdir + '\\\\' + f):\n",
      "            print \"\\t\"*level, os.path.basename(f)\n",
      "            printtree(rootdir + '\\\\' + f, level+1)\n",
      "        else:\n",
      "            print \"\\t\"*level, os.path.basename(f)\n",
      "    \n",
      "\n",
      "def total_dfiles(rootdir, levels, level=0):\n",
      "    if level==0:\n",
      "        totalfiles.n = 0\n",
      "    try:\n",
      "        lst = os.listdir(rootdir)\n",
      "    except Exception,e:\n",
      "        pass\n",
      "    for f in lst:\n",
      "        fullpathname = rootdir + '\\\\' + f\n",
      "        try:\n",
      "            if os.path.isdir(fullpathname):\n",
      "                if (((level+1) <= levels) or levels==0):\n",
      "                    totalfiles(fullpathname, levels, level+1)\n",
      "            else:\n",
      "                totalfiles.n = totalfiles.n+1\n",
      "        except:\n",
      "            pass\n",
      "    return totalfiles.n\n",
      "def bufferedfilesearch(filename, sstring, buffersize = 1024):\n",
      "    try:\n",
      "        f = open(filename, 'rb')\n",
      "    except Exception,e:\n",
      "        print e.message\n",
      "        \n",
      "    try:\n",
      "        i = 0\n",
      "        j = 0\n",
      "        k = 0\n",
      "        l = len(sstring)\n",
      "        done = False\n",
      "\n",
      "        while(True):\n",
      "            data = f.read(buffersize)\n",
      "            if not data:\n",
      "                break\n",
      "\n",
      "            for i in range(len(data)):\n",
      "                if(sstring[j]==data[i]):\n",
      "                    j=j+1\n",
      "                    if(j==l):\n",
      "                        done = True\n",
      "                        break;\n",
      "                else:\n",
      "                    j=0\n",
      "                k=k+1\n",
      "                \n",
      "            if done:\n",
      "                break\n",
      "    \n",
      "        f.close()\n",
      "        if done:\n",
      "            return (k-l+1)\n",
      "        else:\n",
      "            return -1\n",
      "    except:\n",
      "        return -1\n",
      "    \n",
      "def treesearch(rootdir, sstring, buffersize = 65536, search_unicode = False,level=0, allprint = False):\n",
      "    try:\n",
      "        if level==0:\n",
      "            treesearch.files_searched = 0\n",
      "            print \"Starting search\"\n",
      "            sys.stdout.flush()\n",
      "        lst = os.listdir(rootdir)\n",
      "        for f in lst:\n",
      "            fullpath = rootdir + '\\\\' + f\n",
      "            if os.path.isdir(fullpath):\n",
      "                if allprint:\n",
      "                    print \"\\t\"*level, os.path.basename(f)\n",
      "                treesearch(fullpath,sstring, buffersize, search_unicode, level+1)\n",
      "            else:\n",
      "                if allprint:\n",
      "                    print \"\\t\"*level, \"Searching %s File size: %d\" % (os.path.basename(fullpath), os.path.getsize(fullpath))\n",
      "                if bufferedfilesearch(fullpath, sstring, buffersize) >= 0:\n",
      "                    print \"String found in \", fullpath\n",
      "                    sys.stdout.flush()\n",
      "                if search_unicode == True:\n",
      "                    unicode_string = tounicode(sstring)\n",
      "                    if bufferedfilesearch(fullpath, unicode_string, buffersize)>=0:\n",
      "                        print \"String found in %s in the unicode format\" % fullpath\n",
      "                        sys.stdout.flush()\n",
      "                treesearch.files_searched = treesearch.files_searched + 1\n",
      "                if(treesearch.files_searched%100==0):\n",
      "                    print \"Done searching through %d files\" % treesearch.files_searched\n",
      "        if level==0:\n",
      "            print \"%d files searched\" % treesearch.files_searched\n",
      "            print \"Finished searching\"\n",
      "    except KeyboardInterrupt:\n",
      "        print \"Keyboard Interrupt\"\n",
      "        if level==0:\n",
      "            return\n",
      "        else:\n",
      "            raise KeyboardInterrupt\n",
      "    except Exception, e:\n",
      "        print e.message\n",
      "        print \"Error\"\n",
      "        pass\n"
     ],
     "language": "python",
     "metadata": {},
     "outputs": [],
     "prompt_number": 64
    },
    {
     "cell_type": "code",
     "collapsed": false,
     "input": [
      "import filecmp\n",
      "import time\n",
      "import os \n",
      "import sys\n",
      "\n",
      "#left is the old redirectory. Changes from right are added to it.\n",
      "def update_files_base(dcmp): \n",
      "    updated = []\n",
      "    for f in dcmp.diff_files:\n",
      "        if f=='update.log':\n",
      "            continue\n",
      "        relleft = dcmp.left + '\\\\' + f\n",
      "        left = os.path.abspath(dcmp.left + '\\\\' + f)\n",
      "        right = os.path.abspath(dcmp.right + '\\\\' + f)\n",
      "        \n",
      "        old_dir = dcmp.left + '\\\\old'\n",
      "        if not os.path.exists(dcmp.left + '\\\\old'):\n",
      "            try:\n",
      "                os.mkdir(old_dir)\n",
      "            except:\n",
      "                print \"Unable to make directory %s\" % old_dir\n",
      "\n",
      "        unique_i = 1\n",
      "        fbase,fext = os.path.splitext(f)\n",
      "        while True:\n",
      "            if os.path.exists( old_dir + '\\\\' + fbase + '-' + str(unique_i) + fext):\n",
      "                unique_i = unique_i + 1\n",
      "            else:\n",
      "                old = os.path.abspath(old_dir + '\\\\' + fbase + '-' + str(unique_i) + fext)\n",
      "                relold = old_dir + '\\\\' + fbase + '-' + str(unique_i) + fext\n",
      "                break\n",
      "        \n",
      "        try:\n",
      "            shutil.copy(left, old)\n",
      "        except Exception, e:\n",
      "            print \"Unable to copy %s to %s\" % (left, old)\n",
      "            print \"\\t%s\" % e.message()\n",
      "        try:\n",
      "            shutil.copy(right, left)\n",
      "        except Exception,e:\n",
      "            print \"Unable to copy %s to %s\" % (right, left)\n",
      "            print \"\\t%s\" % e.message()\n",
      "        updated.append((right, relleft, relold))\n",
      "        print \"update: %s\\told: %s\\tarchive: %s\" % (right, relleft, relold)\n",
      "    for s in dcmp.subdirs.values():\n",
      "        for u in update_files_base(s):\n",
      "            updated.append(u)\n",
      "    \n",
      "    return updated\n",
      "\n",
      "def update_files(src, dst, updatelog= True):\n",
      "    dcmp = filecmp.dircmp(dst, src)\n",
      "    result = update_files_base(dcmp)\n",
      "    if len(result) == 0:\n",
      "        print \"All files are updated\" \n",
      "    else:\n",
      "        if updatelog:\n",
      "            try:\n",
      "                f = open(dst + '\\\\update.log', 'a')\n",
      "                for log in result:\n",
      "                    f.write(time.strftime('%H:%M:%S|%d/%m/%y') + '\\t' + log[0] + '\\t' + log[1] + '\\t' + log[2] + '\\n')\n",
      "            except:\n",
      "                print \"Unable to create update log %s \" % f\n",
      "\n"
     ],
     "language": "python",
     "metadata": {},
     "outputs": [],
     "prompt_number": 61
    },
    {
     "cell_type": "code",
     "collapsed": false,
     "input": [
      "update_files(src = 'b', dst = 'a')"
     ],
     "language": "python",
     "metadata": {},
     "outputs": [
      {
       "output_type": "stream",
       "stream": "stdout",
       "text": [
        "All files are updated\n"
       ]
      }
     ],
     "prompt_number": 63
    },
    {
     "cell_type": "code",
     "collapsed": false,
     "input": [],
     "language": "python",
     "metadata": {},
     "outputs": []
    }
   ],
   "metadata": {}
  }
 ]
}