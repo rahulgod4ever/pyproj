{
 "metadata": {
  "name": "",
  "signature": "sha256:5f5d887616b223469d8082877982bb5c97b45e6cf55bcad4317a2e9171abdeec"
 },
 "nbformat": 3,
 "nbformat_minor": 0,
 "worksheets": [
  {
   "cells": [
    {
     "cell_type": "code",
     "collapsed": false,
     "input": [
      "import sys\n",
      "import socket\n",
      "import time"
     ],
     "language": "python",
     "metadata": {},
     "outputs": [],
     "prompt_number": 1
    },
    {
     "cell_type": "code",
     "collapsed": false,
     "input": [
      "def getfile(c,filename, filesize):\n",
      "    print \"Starting file transfer\"\n",
      "    f = open(filename, 'wb')\n",
      "    \n",
      "    inittime = time.clock()\n",
      "\n",
      "    dataread = 0\n",
      "    percent = 0 \n",
      "    while True:\n",
      "        data = c.recv(512)\n",
      "        dataread = dataread + len(data)\n",
      "        if not data:\n",
      "            break\n",
      "        f.write(data)\n",
      "        \n",
      "        if percent!= int(dataread*100/filesize):\n",
      "            percent = int(dataread*100/filesize)\n",
      "            speed = dataread/(time.clock()-inittime)/1024\n",
      "            print \"%u%% file transferred ( Speed: %u KB/s)\" % (percent,speed)\n",
      "    f.close()\n",
      "    \n",
      "    print \"File transfer complete\"\n",
      "\n",
      "def startsock():\n",
      "    host = ''\n",
      "    port = 12344\n",
      "    \n",
      "    print \"Starting server\"\n",
      "    sys.stdout.flush()\n",
      "    s = socket.socket(socket.AF_INET,socket.SOCK_STREAM)\n",
      "    \n",
      "    s.bind((host,port))\n",
      "    s.listen(1)\n",
      "    \n",
      "    while True:\n",
      "        c, addr = s.accept()\n",
      "        print \"Receiving connection from\", addr\n",
      "        data = c.recv(512)\n",
      "        filename, filesize = decodedata(data)\n",
      "        print \"File Name: %s\\tFile Size: %d bytes\" % (filename, filesize)\n",
      "    \n",
      "        getfile(c, filename, filesize)\n",
      "        sys.stdout.flush()\n",
      "        if not data: \n",
      "            c.close()\n",
      "            print \"Closing connection from\", addr\n",
      "    s.close()\n",
      "\n",
      "def isint(x):\n",
      "    try:\n",
      "        int(x)\n",
      "        return True\n",
      "    except:\n",
      "        return False\n",
      "    \n",
      "    \n",
      "def decodedata(data):\n",
      "    filename = ''\n",
      "    filesize = 0\n",
      "    for i in range(0,504):\n",
      "        try:\n",
      "            filename = filename + data[i]\n",
      "        except:\n",
      "            pass\n",
      "    \n",
      "    for i in range(504,512):\n",
      "        filesize = filesize*256 + ord(data[i])\n",
      "    filename = filename.rstrip('\\0')\n",
      "    return filename,filesize\n",
      "    "
     ],
     "language": "python",
     "metadata": {},
     "outputs": [],
     "prompt_number": 2
    },
    {
     "cell_type": "code",
     "collapsed": false,
     "input": [
      "startsock()"
     ],
     "language": "python",
     "metadata": {},
     "outputs": [
      {
       "output_type": "stream",
       "stream": "stdout",
       "text": [
        "Starting server\n"
       ]
      },
      {
       "output_type": "stream",
       "stream": "stdout",
       "text": [
        "Receiving connection from ('192.168.1.100', 1975)\n",
        "File Name: WWW.YTS.RE.jpg\tFile Size: 110514 bytes\n",
        "Starting file transfer\n",
        "File transfer complete\n"
       ]
      },
      {
       "output_type": "stream",
       "stream": "stdout",
       "text": [
        "Receiving connection from ('192.168.1.100', 2416)\n",
        "File Name: WWW.YTS.RE.jpg\tFile Size: 110514 bytes\n",
        "Starting file transfer\n",
        "1% file transferred ( Speed: 24022 KB/s)\n",
        "2% file transferred ( Speed: 19541 KB/s)\n",
        "3% file transferred ( Speed: 20347 KB/s)\n",
        "4% file transferred ( Speed: 16296 KB/s)\n",
        "5% file transferred ( Speed: 17919 KB/s)\n",
        "6% file transferred ( Speed: 19614 KB/s)\n",
        "7% file transferred ( Speed: 20708 KB/s)\n",
        "8% file transferred ( Speed: 21592 KB/s)\n",
        "9% file transferred ( Speed: 22818 KB/s)\n",
        "10% file transferred ( Speed: 23820 KB/s)\n",
        "11% file transferred ( Speed: 24095 KB/s)\n",
        "12% file transferred ( Speed: 24824 KB/s)\n",
        "13% file transferred ( Speed: 25485 KB/s)\n",
        "14% file transferred ( Speed: 25612 KB/s)\n",
        "15% file transferred ( Speed: 23461 KB/s)\n",
        "16% file transferred ( Speed: 24017 KB/s)\n",
        "17% file transferred ( Speed: 24615 KB/s)\n",
        "18% file transferred ( Speed: 25246 KB/s)\n",
        "19% file transferred ( Speed: 25429 KB/s)\n",
        "20% file transferred ( Speed: 25837 KB/s)\n",
        "21% file transferred ( Speed: 26357 KB/s)\n",
        "22% file transferred ( Speed: 26155 KB/s)\n",
        "23% file transferred ( Speed: 26453 KB/s)\n",
        "24% file transferred ( Speed: 26447 KB/s)\n",
        "25% file transferred ( Speed: 26480 KB/s)\n",
        "26% file transferred ( Speed: 26426 KB/s)\n",
        "27% file transferred ( Speed: 26630 KB/s)\n",
        "28% file transferred ( Speed: 26633 KB/s)\n",
        "29% file transferred ( Speed: 26663 KB/s)\n",
        "30% file transferred ( Speed: 26455 KB/s)\n",
        "31% file transferred ( Speed: 26627 KB/s)\n",
        "32% file transferred ( Speed: 26828 KB/s)\n",
        "33% file transferred ( Speed: 26328 KB/s)\n",
        "34% file transferred ( Speed: 26538 KB/s)\n",
        "35% file transferred ( Speed: 26837 KB/s)\n",
        "36% file transferred ( Speed: 26861 KB/s)\n",
        "37% file transferred ( Speed: 26636 KB/s)\n",
        "38% file transferred ( Speed: 26990 KB/s)\n",
        "39% file transferred ( Speed: 26952 KB/s)\n",
        "40% file transferred ( Speed: 26967 KB/s)\n",
        "41% file transferred ( Speed: 26790 KB/s)\n",
        "42% file transferred ( Speed: 26913 KB/s)\n",
        "43% file transferred ( Speed: 26908 KB/s)\n",
        "44% file transferred ( Speed: 26881 KB/s)\n",
        "45% file transferred ( Speed: 26979 KB/s)\n",
        "46% file transferred ( Speed: 26965 KB/s)\n",
        "47% file transferred ( Speed: 26977 KB/s)\n",
        "48% file transferred ( Speed: 26804 KB/s)\n",
        "49% file transferred ( Speed: 26967 KB/s)\n",
        "50% file transferred ( Speed: 26942 KB/s)\n",
        "51% file transferred ( Speed: 27075 KB/s)\n",
        "52% file transferred ( Speed: 26963 KB/s)\n",
        "53% file transferred ( Speed: 27028 KB/s)\n",
        "54% file transferred ( Speed: 27041 KB/s)\n",
        "55% file transferred ( Speed: 27054 KB/s)\n",
        "56% file transferred ( Speed: 26950 KB/s)\n",
        "57% file transferred ( Speed: 27112 KB/s)\n",
        "58% file transferred ( Speed: 27116 KB/s)\n",
        "59% file transferred ( Speed: 26972 KB/s)\n",
        "60% file transferred ( Speed: 27100 KB/s)\n",
        "61% file transferred ( Speed: 27094 KB/s)\n",
        "62% file transferred ( Speed: 27105 KB/s)\n",
        "63% file transferred ( Speed: 26825 KB/s)\n",
        "64% file transferred ( Speed: 27097 KB/s)\n",
        "65% file transferred ( Speed: 27186 KB/s)\n",
        "66% file transferred ( Speed: 27198 KB/s)\n",
        "67% file transferred ( Speed: 27112 KB/s)\n",
        "68% file transferred ( Speed: 27164 KB/s)\n",
        "69% file transferred ( Speed: 27173 KB/s)\n",
        "70% file transferred ( Speed: 27140 KB/s)\n",
        "71% file transferred ( Speed: 27210 KB/s)\n",
        "72% file transferred ( Speed: 27241 KB/s)\n",
        "73% file transferred ( Speed: 27248 KB/s)\n",
        "74% file transferred ( Speed: 27116 KB/s)\n",
        "75% file transferred ( Speed: 27215 KB/s)\n",
        "76% file transferred ( Speed: 27293 KB/s)\n",
        "77% file transferred ( Speed: 27297 KB/s)\n",
        "78% file transferred ( Speed: 27218 KB/s)\n",
        "79% file transferred ( Speed: 27259 KB/s)\n",
        "80% file transferred ( Speed: 27268 KB/s)\n",
        "81% file transferred ( Speed: 27272 KB/s)\n",
        "82% file transferred ( Speed: 27197 KB/s)\n",
        "83% file transferred ( Speed: 27316 KB/s)\n",
        "84% file transferred ( Speed: 27196 KB/s)\n",
        "85% file transferred ( Speed: 27094 KB/s)\n",
        "86% file transferred ( Speed: 27183 KB/s)\n",
        "87% file transferred ( Speed: 27169 KB/s)\n",
        "88% file transferred ( Speed: 27180 KB/s)\n",
        "89% file transferred ( Speed: 27185 KB/s)\n",
        "90% file transferred ( Speed: 27221 KB/s)\n",
        "91% file transferred ( Speed: 27227 KB/s)\n",
        "92% file transferred ( Speed: 27235 KB/s)\n",
        "93% file transferred ( Speed: 27159 KB/s)\n",
        "94% file transferred ( Speed: 27214 KB/s)\n",
        "95% file transferred ( Speed: 27270 KB/s)\n",
        "96% file transferred ( Speed: 27178 KB/s)\n",
        "97% file transferred ( Speed: 27257 KB/s)\n",
        "98% file transferred ( Speed: 27249 KB/s)\n",
        "99% file transferred ( Speed: 27255 KB/s)\n",
        "100% file transferred ( Speed: 27195 KB/s)\n",
        "File transfer complete\n"
       ]
      },
      {
       "output_type": "stream",
       "stream": "stdout",
       "text": [
        "Receiving connection from ('192.168.1.100', 2594)\n",
        "File Name: WWW.YTS.RE.jpg\tFile Size: 110514 bytes\n",
        "Starting file transfer\n",
        "1% file transferred ( Speed: 1879 KB/s)\n",
        "2% file transferred ( Speed: 1520 KB/s)\n",
        "3% file transferred ( Speed: 1331 KB/s)\n",
        "4% file transferred ( Speed: 1199 KB/s)\n",
        "5% file transferred ( Speed: 1139 KB/s)\n",
        "6% file transferred ( Speed: 1110 KB/s)\n",
        "7% file transferred ( Speed: 1168 KB/s)\n",
        "8% file transferred ( Speed: 1151 KB/s)\n",
        "9% file transferred ( Speed: 1108 KB/s)\n",
        "10% file transferred ( Speed: 1098 KB/s)\n",
        "11% file transferred ( Speed: 1094 KB/s)\n",
        "12% file transferred ( Speed: 1094 KB/s)\n",
        "13% file transferred ( Speed: 1130 KB/s)\n",
        "14% file transferred ( Speed: 1122 KB/s)\n",
        "15% file transferred ( Speed: 1111 KB/s)\n",
        "16% file transferred ( Speed: 1100 KB/s)\n",
        "17% file transferred ( Speed: 1099 KB/s)\n",
        "18% file transferred ( Speed: 1093 KB/s)\n",
        "19% file transferred ( Speed: 1098 KB/s)\n",
        "20% file transferred ( Speed: 1084 KB/s)\n",
        "21% file transferred ( Speed: 1080 KB/s)\n",
        "22% file transferred ( Speed: 1076 KB/s)\n",
        "23% file transferred ( Speed: 1077 KB/s)\n",
        "24% file transferred ( Speed: 1077 KB/s)\n",
        "25% file transferred ( Speed: 1076 KB/s)\n",
        "26% file transferred ( Speed: 1093 KB/s)\n",
        "27% file transferred ( Speed: 1087 KB/s)\n",
        "28% file transferred ( Speed: 1086 KB/s)\n",
        "29% file transferred ( Speed: 1082 KB/s)\n",
        "30% file transferred ( Speed: 1082 KB/s)\n",
        "31% file transferred ( Speed: 1077 KB/s)\n",
        "32% file transferred ( Speed: 1090 KB/s)\n",
        "33% file transferred ( Speed: 1084 KB/s)\n",
        "34% file transferred ( Speed: 1084 KB/s)\n",
        "35% file transferred ( Speed: 1081 KB/s)\n",
        "36% file transferred ( Speed: 1079 KB/s)\n",
        "37% file transferred ( Speed: 1076 KB/s)\n",
        "38% file transferred ( Speed: 1086 KB/s)\n",
        "39% file transferred ( Speed: 1084 KB/s)\n",
        "40% file transferred ( Speed: 1083 KB/s)\n",
        "41% file transferred ( Speed: 1079 KB/s)\n",
        "42% file transferred ( Speed: 1079 KB/s)\n",
        "43% file transferred ( Speed: 1076 KB/s)\n",
        "44% file transferred ( Speed: 1075 KB/s)\n",
        "45% file transferred ( Speed: 1083 KB/s)\n",
        "46% file transferred ( Speed: 1082 KB/s)\n",
        "47% file transferred ( Speed: 1080 KB/s)\n",
        "48% file transferred ( Speed: 1078 KB/s)\n",
        "49% file transferred ( Speed: 1075 KB/s)"
       ]
      },
      {
       "output_type": "stream",
       "stream": "stdout",
       "text": [
        "\n",
        "50% file transferred ( Speed: 1073 KB/s)\n",
        "51% file transferred ( Speed: 1074 KB/s)\n",
        "52% file transferred ( Speed: 1070 KB/s)\n",
        "53% file transferred ( Speed: 1069 KB/s)\n",
        "54% file transferred ( Speed: 1067 KB/s)\n",
        "55% file transferred ( Speed: 1067 KB/s)\n",
        "56% file transferred ( Speed: 1064 KB/s)\n",
        "57% file transferred ( Speed: 1072 KB/s)\n",
        "58% file transferred ( Speed: 1069 KB/s)\n",
        "59% file transferred ( Speed: 1068 KB/s)\n",
        "60% file transferred ( Speed: 1067 KB/s)\n",
        "61% file transferred ( Speed: 1067 KB/s)\n",
        "62% file transferred ( Speed: 1065 KB/s)\n",
        "63% file transferred ( Speed: 1063 KB/s)\n",
        "64% file transferred ( Speed: 1068 KB/s)\n",
        "65% file transferred ( Speed: 1067 KB/s)\n",
        "66% file transferred ( Speed: 1066 KB/s)\n",
        "67% file transferred ( Speed: 1065 KB/s)\n",
        "68% file transferred ( Speed: 1063 KB/s)\n",
        "69% file transferred ( Speed: 1062 KB/s)\n",
        "70% file transferred ( Speed: 1067 KB/s)\n",
        "71% file transferred ( Speed: 1067 KB/s)\n",
        "72% file transferred ( Speed: 1066 KB/s)\n",
        "73% file transferred ( Speed: 1066 KB/s)\n",
        "74% file transferred ( Speed: 1064 KB/s)\n",
        "75% file transferred ( Speed: 1064 KB/s)\n",
        "76% file transferred ( Speed: 1069 KB/s)\n",
        "77% file transferred ( Speed: 1069 KB/s)\n",
        "78% file transferred ( Speed: 1067 KB/s)\n",
        "79% file transferred ( Speed: 1068 KB/s)\n",
        "80% file transferred ( Speed: 1065 KB/s)\n",
        "81% file transferred ( Speed: 1065 KB/s)\n",
        "82% file transferred ( Speed: 1063 KB/s)\n",
        "83% file transferred ( Speed: 1069 KB/s)\n",
        "84% file transferred ( Speed: 1067 KB/s)\n",
        "85% file transferred ( Speed: 1066 KB/s)\n",
        "86% file transferred ( Speed: 1065 KB/s)\n",
        "87% file transferred ( Speed: 1065 KB/s)\n",
        "88% file transferred ( Speed: 1063 KB/s)\n",
        "89% file transferred ( Speed: 1068 KB/s)\n",
        "90% file transferred ( Speed: 1068 KB/s)\n",
        "91% file transferred ( Speed: 1068 KB/s)\n",
        "92% file transferred ( Speed: 1066 KB/s)\n",
        "93% file transferred ( Speed: 1066 KB/s)\n",
        "94% file transferred ( Speed: 1065 KB/s)\n",
        "95% file transferred ( Speed: 1070 KB/s)\n",
        "96% file transferred ( Speed: 1069 KB/s)\n",
        "97% file transferred ( Speed: 1068 KB/s)\n",
        "98% file transferred ( Speed: 1064 KB/s)\n",
        "99% file transferred ( Speed: 1063 KB/s)"
       ]
      },
      {
       "output_type": "stream",
       "stream": "stdout",
       "text": [
        "\n",
        "100% file transferred ( Speed: 1061 KB/s)\n",
        "File transfer complete\n"
       ]
      },
      {
       "output_type": "stream",
       "stream": "stdout",
       "text": [
        "Receiving connection from ('192.168.1.100', 2669)\n",
        "File Name: WWW.YTS.RE.jpg\tFile Size: 110514 bytes\n",
        "Starting file transfer\n",
        "1% file transferred ( Speed: 2238 KB/s)\n",
        "2% file transferred ( Speed: 1549 KB/s)\n",
        "3% file transferred ( Speed: 1365 KB/s)\n",
        "4% file transferred ( Speed: 1264 KB/s)\n",
        "5% file transferred ( Speed: 1106 KB/s)\n",
        "6% file transferred ( Speed: 1095 KB/s)\n",
        "7% file transferred ( Speed: 1103 KB/s)\n",
        "8% file transferred ( Speed: 1101 KB/s)\n",
        "9% file transferred ( Speed: 1097 KB/s)\n",
        "10% file transferred ( Speed: 1094 KB/s)\n",
        "11% file transferred ( Speed: 1079 KB/s)\n",
        "12% file transferred ( Speed: 1073 KB/s)\n",
        "13% file transferred ( Speed: 1106 KB/s)\n",
        "14% file transferred ( Speed: 1103 KB/s)\n",
        "15% file transferred ( Speed: 1100 KB/s)\n",
        "16% file transferred ( Speed: 1095 KB/s)\n",
        "17% file transferred ( Speed: 1083 KB/s)\n",
        "18% file transferred ( Speed: 1079 KB/s)\n",
        "19% file transferred ( Speed: 1097 KB/s)\n",
        "20% file transferred ( Speed: 1096 KB/s)\n",
        "21% file transferred ( Speed: 1091 KB/s)\n",
        "22% file transferred ( Speed: 1087 KB/s)\n",
        "23% file transferred ( Speed: 1080 KB/s)\n",
        "24% file transferred ( Speed: 1062 KB/s)\n",
        "25% file transferred ( Speed: 1061 KB/s)\n",
        "26% file transferred ( Speed: 1077 KB/s)\n",
        "27% file transferred ( Speed: 1075 KB/s)\n",
        "28% file transferred ( Speed: 1069 KB/s)\n",
        "29% file transferred ( Speed: 1067 KB/s)\n",
        "30% file transferred ( Speed: 1064 KB/s)\n",
        "31% file transferred ( Speed: 1063 KB/s)\n",
        "32% file transferred ( Speed: 1077 KB/s)\n",
        "33% file transferred ( Speed: 1075 KB/s)\n",
        "34% file transferred ( Speed: 1074 KB/s)\n",
        "35% file transferred ( Speed: 1072 KB/s)\n",
        "36% file transferred ( Speed: 1070 KB/s)\n",
        "37% file transferred ( Speed: 1066 KB/s)\n",
        "38% file transferred ( Speed: 1077 KB/s)\n",
        "39% file transferred ( Speed: 1076 KB/s)\n",
        "40% file transferred ( Speed: 1073 KB/s)\n",
        "41% file transferred ( Speed: 1071 KB/s)\n",
        "42% file transferred ( Speed: 1070 KB/s)\n",
        "43% file transferred ( Speed: 1069 KB/s)\n",
        "44% file transferred ( Speed: 1068 KB/s)\n",
        "45% file transferred ( Speed: 1078 KB/s)\n",
        "46% file transferred ( Speed: 1077 KB/s)\n",
        "47% file transferred ( Speed: 1075 KB/s)\n",
        "48% file transferred ( Speed: 1074 KB/s)\n",
        "49% file transferred ( Speed: 1071 KB/s)"
       ]
      },
      {
       "output_type": "stream",
       "stream": "stdout",
       "text": [
        "\n",
        "50% file transferred ( Speed: 1070 KB/s)\n",
        "51% file transferred ( Speed: 1079 KB/s)\n",
        "52% file transferred ( Speed: 1078 KB/s)\n",
        "53% file transferred ( Speed: 1076 KB/s)\n",
        "54% file transferred ( Speed: 1072 KB/s)\n",
        "55% file transferred ( Speed: 1070 KB/s)\n",
        "56% file transferred ( Speed: 1070 KB/s)\n",
        "57% file transferred ( Speed: 1074 KB/s)\n",
        "58% file transferred ( Speed: 1070 KB/s)\n",
        "59% file transferred ( Speed: 1069 KB/s)\n",
        "60% file transferred ( Speed: 1069 KB/s)\n",
        "61% file transferred ( Speed: 1066 KB/s)\n",
        "62% file transferred ( Speed: 1066 KB/s)\n",
        "63% file transferred ( Speed: 1065 KB/s)\n",
        "64% file transferred ( Speed: 1073 KB/s)\n",
        "65% file transferred ( Speed: 1070 KB/s)\n",
        "66% file transferred ( Speed: 1070 KB/s)\n",
        "67% file transferred ( Speed: 1067 KB/s)\n",
        "68% file transferred ( Speed: 1067 KB/s)\n",
        "69% file transferred ( Speed: 1066 KB/s)\n",
        "70% file transferred ( Speed: 1071 KB/s)\n",
        "71% file transferred ( Speed: 1068 KB/s)\n",
        "72% file transferred ( Speed: 1068 KB/s)\n",
        "73% file transferred ( Speed: 1066 KB/s)\n",
        "74% file transferred ( Speed: 1065 KB/s)\n",
        "75% file transferred ( Speed: 1064 KB/s)\n",
        "76% file transferred ( Speed: 1071 KB/s)\n",
        "77% file transferred ( Speed: 1068 KB/s)\n",
        "78% file transferred ( Speed: 1067 KB/s)\n",
        "79% file transferred ( Speed: 1065 KB/s)\n",
        "80% file transferred ( Speed: 1065 KB/s)\n",
        "81% file transferred ( Speed: 1064 KB/s)\n",
        "82% file transferred ( Speed: 1064 KB/s)\n",
        "83% file transferred ( Speed: 1068 KB/s)\n",
        "84% file transferred ( Speed: 1068 KB/s)\n",
        "85% file transferred ( Speed: 1066 KB/s)\n",
        "86% file transferred ( Speed: 1066 KB/s)\n",
        "87% file transferred ( Speed: 1063 KB/s)\n",
        "88% file transferred ( Speed: 1062 KB/s)\n",
        "89% file transferred ( Speed: 1067 KB/s)\n",
        "90% file transferred ( Speed: 1065 KB/s)\n",
        "91% file transferred ( Speed: 1064 KB/s)\n",
        "92% file transferred ( Speed: 1064 KB/s)\n",
        "93% file transferred ( Speed: 1063 KB/s)\n",
        "94% file transferred ( Speed: 1063 KB/s)\n",
        "95% file transferred ( Speed: 1067 KB/s)\n",
        "96% file transferred ( Speed: 1066 KB/s)\n",
        "97% file transferred ( Speed: 1066 KB/s)\n",
        "98% file transferred ( Speed: 1066 KB/s)\n",
        "99% file transferred ( Speed: 1066 KB/s)"
       ]
      },
      {
       "output_type": "stream",
       "stream": "stdout",
       "text": [
        "\n",
        "100% file transferred ( Speed: 1064 KB/s)\n",
        "File transfer complete\n"
       ]
      },
      {
       "output_type": "stream",
       "stream": "stdout",
       "text": [
        "Receiving connection from ('192.168.1.100', 2779)\n",
        "File Name: WWW.YTS.RE.jpg\tFile Size: 110514 bytes\n",
        "Starting file transfer\n",
        "1% file transferred ( Speed: 3741 KB/s)\n",
        "2% file transferred ( Speed: 2316 KB/s)\n",
        "3% file transferred ( Speed: 1568 KB/s)\n",
        "4% file transferred ( Speed: 1295 KB/s)\n",
        "5% file transferred ( Speed: 1200 KB/s)\n",
        "6% file transferred ( Speed: 1137 KB/s)\n",
        "7% file transferred ( Speed: 1118 KB/s)\n",
        "8% file transferred ( Speed: 1063 KB/s)\n",
        "9% file transferred ( Speed: 1031 KB/s)\n",
        "10% file transferred ( Speed: 1015 KB/s)\n",
        "11% file transferred ( Speed: 1005 KB/s)\n",
        "12% file transferred ( Speed: 992 KB/s)\n",
        "13% file transferred ( Speed: 1022 KB/s)\n",
        "14% file transferred ( Speed: 1016 KB/s)\n",
        "15% file transferred ( Speed: 1005 KB/s)\n",
        "16% file transferred ( Speed: 998 KB/s)\n",
        "17% file transferred ( Speed: 988 KB/s)\n",
        "18% file transferred ( Speed: 983 KB/s)\n",
        "19% file transferred ( Speed: 1001 KB/s)\n",
        "20% file transferred ( Speed: 1005 KB/s)\n",
        "21% file transferred ( Speed: 1006 KB/s)\n",
        "22% file transferred ( Speed: 1003 KB/s)\n",
        "23% file transferred ( Speed: 999 KB/s)\n",
        "24% file transferred ( Speed: 1001 KB/s)\n",
        "25% file transferred ( Speed: 995 KB/s)\n",
        "26% file transferred ( Speed: 1011 KB/s)\n",
        "27% file transferred ( Speed: 1010 KB/s)\n",
        "28% file transferred ( Speed: 1010 KB/s)\n",
        "29% file transferred ( Speed: 1010 KB/s)\n",
        "30% file transferred ( Speed: 1010 KB/s)\n",
        "31% file transferred ( Speed: 1009 KB/s)\n",
        "32% file transferred ( Speed: 1025 KB/s)\n",
        "33% file transferred ( Speed: 1024 KB/s)\n",
        "34% file transferred ( Speed: 1025 KB/s)\n",
        "35% file transferred ( Speed: 1022 KB/s)\n",
        "36% file transferred ( Speed: 1021 KB/s)\n",
        "37% file transferred ( Speed: 1018 KB/s)\n",
        "38% file transferred ( Speed: 1029 KB/s)\n",
        "39% file transferred ( Speed: 1029 KB/s)\n",
        "40% file transferred ( Speed: 1027 KB/s)\n",
        "41% file transferred ( Speed: 1026 KB/s)\n",
        "42% file transferred ( Speed: 1025 KB/s)\n",
        "43% file transferred ( Speed: 1025 KB/s)\n",
        "44% file transferred ( Speed: 1025 KB/s)\n",
        "45% file transferred ( Speed: 1036 KB/s)\n",
        "46% file transferred ( Speed: 1035 KB/s)"
       ]
      },
      {
       "output_type": "stream",
       "stream": "stdout",
       "text": [
        "\n",
        "47% file transferred ( Speed: 1035 KB/s)\n",
        "48% file transferred ( Speed: 1032 KB/s)\n",
        "49% file transferred ( Speed: 1033 KB/s)\n",
        "50% file transferred ( Speed: 1033 KB/s)\n",
        "51% file transferred ( Speed: 1039 KB/s)\n",
        "52% file transferred ( Speed: 1037 KB/s)\n",
        "53% file transferred ( Speed: 1037 KB/s)\n",
        "54% file transferred ( Speed: 1035 KB/s)\n",
        "55% file transferred ( Speed: 1030 KB/s)\n",
        "56% file transferred ( Speed: 1029 KB/s)\n",
        "57% file transferred ( Speed: 1037 KB/s)\n",
        "58% file transferred ( Speed: 1033 KB/s)\n",
        "59% file transferred ( Speed: 1032 KB/s)\n",
        "60% file transferred ( Speed: 1031 KB/s)\n",
        "61% file transferred ( Speed: 1031 KB/s)\n",
        "62% file transferred ( Speed: 1031 KB/s)\n",
        "63% file transferred ( Speed: 1030 KB/s)\n",
        "64% file transferred ( Speed: 1038 KB/s)\n",
        "65% file transferred ( Speed: 1038 KB/s)\n",
        "66% file transferred ( Speed: 1037 KB/s)\n",
        "67% file transferred ( Speed: 1037 KB/s)\n",
        "68% file transferred ( Speed: 1037 KB/s)\n",
        "69% file transferred ( Speed: 1037 KB/s)\n",
        "70% file transferred ( Speed: 1043 KB/s)\n",
        "71% file transferred ( Speed: 1042 KB/s)\n",
        "72% file transferred ( Speed: 1039 KB/s)\n",
        "73% file transferred ( Speed: 1039 KB/s)\n",
        "74% file transferred ( Speed: 1038 KB/s)\n",
        "75% file transferred ( Speed: 1038 KB/s)\n",
        "76% file transferred ( Speed: 1042 KB/s)\n",
        "77% file transferred ( Speed: 1041 KB/s)\n",
        "78% file transferred ( Speed: 1040 KB/s)\n",
        "79% file transferred ( Speed: 1041 KB/s)\n",
        "80% file transferred ( Speed: 1040 KB/s)\n",
        "81% file transferred ( Speed: 1040 KB/s)\n",
        "82% file transferred ( Speed: 1039 KB/s)\n",
        "83% file transferred ( Speed: 1045 KB/s)\n",
        "84% file transferred ( Speed: 1044 KB/s)\n",
        "85% file transferred ( Speed: 1043 KB/s)\n",
        "86% file transferred ( Speed: 1043 KB/s)\n",
        "87% file transferred ( Speed: 1043 KB/s)\n",
        "88% file transferred ( Speed: 1040 KB/s)\n",
        "89% file transferred ( Speed: 1046 KB/s)\n",
        "90% file transferred ( Speed: 1045 KB/s)\n",
        "91% file transferred ( Speed: 1044 KB/s)\n",
        "92% file transferred ( Speed: 1044 KB/s)\n",
        "93% file transferred ( Speed: 1044 KB/s)\n",
        "94% file transferred ( Speed: 1043 KB/s)\n",
        "95% file transferred ( Speed: 1049 KB/s)\n",
        "96% file transferred ( Speed: 1047 KB/s)"
       ]
      },
      {
       "output_type": "stream",
       "stream": "stdout",
       "text": [
        "\n",
        "97% file transferred ( Speed: 1048 KB/s)\n",
        "98% file transferred ( Speed: 1047 KB/s)\n",
        "99% file transferred ( Speed: 1047 KB/s)\n",
        "100% file transferred ( Speed: 1046 KB/s)\n",
        "File transfer complete\n"
       ]
      },
      {
       "output_type": "stream",
       "stream": "stdout",
       "text": [
        "Receiving connection from ('192.168.1.100', 2885)\n",
        "File Name: White.Collar.S06E06.HDTV.x264-KILLERS.mp4\tFile Size: 326354509 bytes\n",
        "Starting file transfer\n",
        "1% file transferred ( Speed: 30072 KB/s)"
       ]
      },
      {
       "output_type": "stream",
       "stream": "stdout",
       "text": [
        "\n",
        "2% file transferred ( Speed: 31088 KB/s)"
       ]
      },
      {
       "output_type": "stream",
       "stream": "stdout",
       "text": [
        "\n",
        "3% file transferred ( Speed: 31260 KB/s)"
       ]
      },
      {
       "output_type": "stream",
       "stream": "stdout",
       "text": [
        "\n",
        "4% file transferred ( Speed: 31381 KB/s)"
       ]
      },
      {
       "output_type": "stream",
       "stream": "stdout",
       "text": [
        "\n",
        "5% file transferred ( Speed: 31560 KB/s)"
       ]
      },
      {
       "output_type": "stream",
       "stream": "stdout",
       "text": [
        "\n",
        "6% file transferred ( Speed: 31649 KB/s)"
       ]
      },
      {
       "output_type": "stream",
       "stream": "stdout",
       "text": [
        "\n",
        "7% file transferred ( Speed: 31668 KB/s)"
       ]
      },
      {
       "output_type": "stream",
       "stream": "stdout",
       "text": [
        "\n",
        "8% file transferred ( Speed: 31678 KB/s)"
       ]
      },
      {
       "output_type": "stream",
       "stream": "stdout",
       "text": [
        "\n",
        "9% file transferred ( Speed: 31748 KB/s)"
       ]
      },
      {
       "output_type": "stream",
       "stream": "stdout",
       "text": [
        "\n",
        "10% file transferred ( Speed: 31724 KB/s)"
       ]
      },
      {
       "output_type": "stream",
       "stream": "stdout",
       "text": [
        "\n",
        "11% file transferred ( Speed: 31732 KB/s)"
       ]
      },
      {
       "output_type": "stream",
       "stream": "stdout",
       "text": [
        "\n",
        "12% file transferred ( Speed: 31761 KB/s)"
       ]
      },
      {
       "output_type": "stream",
       "stream": "stdout",
       "text": [
        "\n",
        "13% file transferred ( Speed: 31765 KB/s)"
       ]
      },
      {
       "output_type": "stream",
       "stream": "stdout",
       "text": [
        "\n",
        "14% file transferred ( Speed: 31764 KB/s)"
       ]
      },
      {
       "output_type": "stream",
       "stream": "stdout",
       "text": [
        "\n",
        "15% file transferred ( Speed: 31820 KB/s)"
       ]
      },
      {
       "output_type": "stream",
       "stream": "stdout",
       "text": [
        "\n",
        "16% file transferred ( Speed: 31869 KB/s)"
       ]
      },
      {
       "output_type": "stream",
       "stream": "stdout",
       "text": [
        "\n",
        "17% file transferred ( Speed: 31883 KB/s)"
       ]
      },
      {
       "output_type": "stream",
       "stream": "stdout",
       "text": [
        "\n",
        "18% file transferred ( Speed: 31899 KB/s)"
       ]
      },
      {
       "output_type": "stream",
       "stream": "stdout",
       "text": [
        "\n",
        "19% file transferred ( Speed: 31876 KB/s)"
       ]
      },
      {
       "output_type": "stream",
       "stream": "stdout",
       "text": [
        "\n",
        "20% file transferred ( Speed: 31886 KB/s)"
       ]
      },
      {
       "output_type": "stream",
       "stream": "stdout",
       "text": [
        "\n",
        "21% file transferred ( Speed: 31889 KB/s)"
       ]
      },
      {
       "output_type": "stream",
       "stream": "stdout",
       "text": [
        "\n",
        "22% file transferred ( Speed: 31889 KB/s)"
       ]
      },
      {
       "output_type": "stream",
       "stream": "stdout",
       "text": [
        "\n",
        "23% file transferred ( Speed: 31909 KB/s)"
       ]
      },
      {
       "output_type": "stream",
       "stream": "stdout",
       "text": [
        "\n",
        "24% file transferred ( Speed: 31925 KB/s)"
       ]
      },
      {
       "output_type": "stream",
       "stream": "stdout",
       "text": [
        "\n",
        "25% file transferred ( Speed: 31948 KB/s)"
       ]
      },
      {
       "output_type": "stream",
       "stream": "stdout",
       "text": [
        "\n",
        "26% file transferred ( Speed: 31944 KB/s)"
       ]
      },
      {
       "output_type": "stream",
       "stream": "stdout",
       "text": [
        "\n",
        "27% file transferred ( Speed: 31960 KB/s)"
       ]
      },
      {
       "output_type": "stream",
       "stream": "stdout",
       "text": [
        "\n",
        "28% file transferred ( Speed: 31939 KB/s)"
       ]
      },
      {
       "output_type": "stream",
       "stream": "stdout",
       "text": [
        "\n",
        "29% file transferred ( Speed: 31937 KB/s)"
       ]
      },
      {
       "output_type": "stream",
       "stream": "stdout",
       "text": [
        "\n",
        "30% file transferred ( Speed: 31930 KB/s)"
       ]
      },
      {
       "output_type": "stream",
       "stream": "stdout",
       "text": [
        "\n",
        "31% file transferred ( Speed: 31923 KB/s)"
       ]
      },
      {
       "output_type": "stream",
       "stream": "stdout",
       "text": [
        "\n",
        "32% file transferred ( Speed: 31927 KB/s)"
       ]
      },
      {
       "output_type": "stream",
       "stream": "stdout",
       "text": [
        "\n",
        "33% file transferred ( Speed: 31944 KB/s)"
       ]
      },
      {
       "output_type": "stream",
       "stream": "stdout",
       "text": [
        "\n",
        "34% file transferred ( Speed: 31961 KB/s)"
       ]
      },
      {
       "output_type": "stream",
       "stream": "stdout",
       "text": [
        "\n",
        "35% file transferred ( Speed: 31970 KB/s)"
       ]
      },
      {
       "output_type": "stream",
       "stream": "stdout",
       "text": [
        "\n",
        "36% file transferred ( Speed: 31983 KB/s)"
       ]
      },
      {
       "output_type": "stream",
       "stream": "stdout",
       "text": [
        "\n",
        "37% file transferred ( Speed: 31966 KB/s)"
       ]
      },
      {
       "output_type": "stream",
       "stream": "stdout",
       "text": [
        "\n",
        "38% file transferred ( Speed: 31952 KB/s)"
       ]
      },
      {
       "output_type": "stream",
       "stream": "stdout",
       "text": [
        "\n",
        "39% file transferred ( Speed: 31944 KB/s)"
       ]
      },
      {
       "output_type": "stream",
       "stream": "stdout",
       "text": [
        "\n",
        "40% file transferred ( Speed: 31945 KB/s)"
       ]
      },
      {
       "output_type": "stream",
       "stream": "stdout",
       "text": [
        "\n",
        "41% file transferred ( Speed: 31934 KB/s)"
       ]
      },
      {
       "output_type": "stream",
       "stream": "stdout",
       "text": [
        "\n",
        "42% file transferred ( Speed: 31932 KB/s)"
       ]
      },
      {
       "output_type": "stream",
       "stream": "stdout",
       "text": [
        "\n",
        "43% file transferred ( Speed: 31947 KB/s)"
       ]
      },
      {
       "output_type": "stream",
       "stream": "stdout",
       "text": [
        "\n",
        "44% file transferred ( Speed: 31949 KB/s)"
       ]
      },
      {
       "output_type": "stream",
       "stream": "stdout",
       "text": [
        "\n",
        "45% file transferred ( Speed: 31969 KB/s)"
       ]
      },
      {
       "output_type": "stream",
       "stream": "stdout",
       "text": [
        "\n",
        "46% file transferred ( Speed: 31959 KB/s)"
       ]
      },
      {
       "output_type": "stream",
       "stream": "stdout",
       "text": [
        "\n",
        "47% file transferred ( Speed: 31961 KB/s)"
       ]
      },
      {
       "output_type": "stream",
       "stream": "stdout",
       "text": [
        "\n",
        "48% file transferred ( Speed: 31953 KB/s)"
       ]
      },
      {
       "output_type": "stream",
       "stream": "stdout",
       "text": [
        "\n",
        "49% file transferred ( Speed: 31946 KB/s)"
       ]
      },
      {
       "output_type": "stream",
       "stream": "stdout",
       "text": [
        "\n",
        "50% file transferred ( Speed: 31939 KB/s)"
       ]
      },
      {
       "output_type": "stream",
       "stream": "stdout",
       "text": [
        "\n",
        "51% file transferred ( Speed: 31932 KB/s)"
       ]
      },
      {
       "output_type": "stream",
       "stream": "stdout",
       "text": [
        "\n",
        "52% file transferred ( Speed: 31929 KB/s)"
       ]
      },
      {
       "output_type": "stream",
       "stream": "stdout",
       "text": [
        "\n",
        "53% file transferred ( Speed: 31939 KB/s)"
       ]
      },
      {
       "output_type": "stream",
       "stream": "stdout",
       "text": [
        "\n",
        "54% file transferred ( Speed: 31950 KB/s)"
       ]
      },
      {
       "output_type": "stream",
       "stream": "stdout",
       "text": [
        "\n",
        "55% file transferred ( Speed: 31959 KB/s)"
       ]
      },
      {
       "output_type": "stream",
       "stream": "stdout",
       "text": [
        "\n",
        "56% file transferred ( Speed: 31959 KB/s)"
       ]
      },
      {
       "output_type": "stream",
       "stream": "stdout",
       "text": [
        "\n",
        "57% file transferred ( Speed: 31958 KB/s)"
       ]
      },
      {
       "output_type": "stream",
       "stream": "stdout",
       "text": [
        "\n",
        "58% file transferred ( Speed: 31958 KB/s)"
       ]
      },
      {
       "output_type": "stream",
       "stream": "stdout",
       "text": [
        "\n",
        "59% file transferred ( Speed: 31958 KB/s)"
       ]
      },
      {
       "output_type": "stream",
       "stream": "stdout",
       "text": [
        "\n",
        "60% file transferred ( Speed: 31958 KB/s)"
       ]
      },
      {
       "output_type": "stream",
       "stream": "stdout",
       "text": [
        "\n",
        "61% file transferred ( Speed: 31958 KB/s)"
       ]
      },
      {
       "output_type": "stream",
       "stream": "stdout",
       "text": [
        "\n",
        "62% file transferred ( Speed: 31958 KB/s)"
       ]
      },
      {
       "output_type": "stream",
       "stream": "stdout",
       "text": [
        "\n",
        "63% file transferred ( Speed: 31963 KB/s)"
       ]
      },
      {
       "output_type": "stream",
       "stream": "stdout",
       "text": [
        "\n",
        "64% file transferred ( Speed: 31965 KB/s)"
       ]
      },
      {
       "output_type": "stream",
       "stream": "stdout",
       "text": [
        "\n",
        "65% file transferred ( Speed: 31975 KB/s)"
       ]
      },
      {
       "output_type": "stream",
       "stream": "stdout",
       "text": [
        "\n",
        "66% file transferred ( Speed: 31979 KB/s)"
       ]
      },
      {
       "output_type": "stream",
       "stream": "stdout",
       "text": [
        "\n",
        "67% file transferred ( Speed: 31975 KB/s)"
       ]
      },
      {
       "output_type": "stream",
       "stream": "stdout",
       "text": [
        "\n",
        "68% file transferred ( Speed: 31969 KB/s)"
       ]
      },
      {
       "output_type": "stream",
       "stream": "stdout",
       "text": [
        "\n",
        "69% file transferred ( Speed: 31968 KB/s)"
       ]
      },
      {
       "output_type": "stream",
       "stream": "stdout",
       "text": [
        "\n",
        "70% file transferred ( Speed: 31967 KB/s)"
       ]
      },
      {
       "output_type": "stream",
       "stream": "stdout",
       "text": [
        "\n",
        "71% file transferred ( Speed: 31967 KB/s)"
       ]
      },
      {
       "output_type": "stream",
       "stream": "stdout",
       "text": [
        "\n",
        "72% file transferred ( Speed: 31972 KB/s)"
       ]
      },
      {
       "output_type": "stream",
       "stream": "stdout",
       "text": [
        "\n",
        "73% file transferred ( Speed: 31976 KB/s)"
       ]
      },
      {
       "output_type": "stream",
       "stream": "stdout",
       "text": [
        "\n",
        "74% file transferred ( Speed: 31980 KB/s)"
       ]
      },
      {
       "output_type": "stream",
       "stream": "stdout",
       "text": [
        "\n",
        "75% file transferred ( Speed: 31986 KB/s)"
       ]
      },
      {
       "output_type": "stream",
       "stream": "stdout",
       "text": [
        "\n",
        "76% file transferred ( Speed: 31989 KB/s)"
       ]
      },
      {
       "output_type": "stream",
       "stream": "stdout",
       "text": [
        "\n",
        "77% file transferred ( Speed: 31987 KB/s)"
       ]
      },
      {
       "output_type": "stream",
       "stream": "stdout",
       "text": [
        "\n",
        "78% file transferred ( Speed: 31989 KB/s)"
       ]
      },
      {
       "output_type": "stream",
       "stream": "stdout",
       "text": [
        "\n",
        "79% file transferred ( Speed: 31986 KB/s)"
       ]
      },
      {
       "output_type": "stream",
       "stream": "stdout",
       "text": [
        "\n",
        "80% file transferred ( Speed: 31984 KB/s)"
       ]
      },
      {
       "output_type": "stream",
       "stream": "stdout",
       "text": [
        "\n",
        "81% file transferred ( Speed: 31990 KB/s)"
       ]
      },
      {
       "output_type": "stream",
       "stream": "stdout",
       "text": [
        "\n",
        "82% file transferred ( Speed: 31999 KB/s)"
       ]
      },
      {
       "output_type": "stream",
       "stream": "stdout",
       "text": [
        "\n",
        "83% file transferred ( Speed: 32012 KB/s)"
       ]
      },
      {
       "output_type": "stream",
       "stream": "stdout",
       "text": [
        "\n",
        "84% file transferred ( Speed: 32026 KB/s)"
       ]
      },
      {
       "output_type": "stream",
       "stream": "stdout",
       "text": [
        "\n",
        "85% file transferred ( Speed: 32044 KB/s)"
       ]
      },
      {
       "output_type": "stream",
       "stream": "stdout",
       "text": [
        "\n",
        "86% file transferred ( Speed: 32056 KB/s)"
       ]
      },
      {
       "output_type": "stream",
       "stream": "stdout",
       "text": [
        "\n",
        "87% file transferred ( Speed: 32067 KB/s)"
       ]
      },
      {
       "output_type": "stream",
       "stream": "stdout",
       "text": [
        "\n",
        "88% file transferred ( Speed: 32075 KB/s)"
       ]
      },
      {
       "output_type": "stream",
       "stream": "stdout",
       "text": [
        "\n",
        "89% file transferred ( Speed: 32074 KB/s)"
       ]
      },
      {
       "output_type": "stream",
       "stream": "stdout",
       "text": [
        "\n",
        "90% file transferred ( Speed: 32072 KB/s)"
       ]
      },
      {
       "output_type": "stream",
       "stream": "stdout",
       "text": [
        "\n",
        "91% file transferred ( Speed: 32070 KB/s)"
       ]
      },
      {
       "output_type": "stream",
       "stream": "stdout",
       "text": [
        "\n",
        "92% file transferred ( Speed: 32069 KB/s)"
       ]
      },
      {
       "output_type": "stream",
       "stream": "stdout",
       "text": [
        "\n",
        "93% file transferred ( Speed: 32070 KB/s)"
       ]
      },
      {
       "output_type": "stream",
       "stream": "stdout",
       "text": [
        "\n",
        "94% file transferred ( Speed: 32084 KB/s)"
       ]
      },
      {
       "output_type": "stream",
       "stream": "stdout",
       "text": [
        "\n",
        "95% file transferred ( Speed: 32084 KB/s)"
       ]
      },
      {
       "output_type": "stream",
       "stream": "stdout",
       "text": [
        "\n",
        "96% file transferred ( Speed: 32082 KB/s)"
       ]
      },
      {
       "output_type": "stream",
       "stream": "stdout",
       "text": [
        "\n",
        "97% file transferred ( Speed: 32081 KB/s)"
       ]
      },
      {
       "output_type": "stream",
       "stream": "stdout",
       "text": [
        "\n",
        "98% file transferred ( Speed: 32081 KB/s)"
       ]
      },
      {
       "output_type": "stream",
       "stream": "stdout",
       "text": [
        "\n",
        "99% file transferred ( Speed: 32078 KB/s)"
       ]
      },
      {
       "output_type": "stream",
       "stream": "stdout",
       "text": [
        "\n",
        "100% file transferred ( Speed: 32083 KB/s)"
       ]
      },
      {
       "output_type": "stream",
       "stream": "stdout",
       "text": [
        "\n",
        "File transfer complete\n"
       ]
      }
     ]
    },
    {
     "cell_type": "code",
     "collapsed": false,
     "input": [],
     "language": "python",
     "metadata": {},
     "outputs": [],
     "prompt_number": 2
    },
    {
     "cell_type": "code",
     "collapsed": false,
     "input": [],
     "language": "python",
     "metadata": {},
     "outputs": []
    }
   ],
   "metadata": {}
  }
 ]
}