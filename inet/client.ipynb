{
 "metadata": {
  "name": "",
  "signature": "sha256:af74f07e9a6bae1d9476603506efa96411776d35e1e6ba4eb4d074c6044e06c4"
 },
 "nbformat": 3,
 "nbformat_minor": 0,
 "worksheets": [
  {
   "cells": [
    {
     "cell_type": "code",
     "collapsed": false,
     "input": [
      "import wx\n",
      "\n",
      "#Load App object for the client\n",
      "app = wx.App()\n",
      "\n"
     ],
     "language": "python",
     "metadata": {},
     "outputs": [],
     "prompt_number": 3
    },
    {
     "cell_type": "code",
     "collapsed": false,
     "input": [
      "class gui(wx.Frame):\n",
      "    def __init__(self,*args,**kwargs):\n",
      "        super(gui,self).__init__(*args,**kwargs)\n",
      "        self.InitUI()\n",
      "    \n",
      "    def InitUI(self):\n",
      "        try:\n",
      "            self.SetSize((300,200))\n",
      "            self.SetTitle('GUI Window')\n",
      "            self.Centre()\n",
      "            self.Show()\n",
      "            st = wx.StaticText(self,label = 'Test text')\n",
      "            st.Centre()\n",
      "        except:\n",
      "            print \"Unable to initialize GUI\"\n",
      "            exit(-1)"
     ],
     "language": "python",
     "metadata": {},
     "outputs": [],
     "prompt_number": 4
    },
    {
     "cell_type": "code",
     "collapsed": false,
     "input": [
      "if __name__ == \"__main__\":\n",
      "    gui(None)\n",
      "    app.MainLoop()"
     ],
     "language": "python",
     "metadata": {},
     "outputs": [],
     "prompt_number": 5
    },
    {
     "cell_type": "code",
     "collapsed": false,
     "input": [],
     "language": "python",
     "metadata": {},
     "outputs": [],
     "prompt_number": 3
    },
    {
     "cell_type": "code",
     "collapsed": false,
     "input": [],
     "language": "python",
     "metadata": {},
     "outputs": []
    }
   ],
   "metadata": {}
  }
 ]
}