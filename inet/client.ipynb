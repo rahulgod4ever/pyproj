{
 "metadata": {
  "name": "",
  "signature": "sha256:2f3b1b6cac66400199c0837ff976517a7b2bccdcf260dd3e001cfd289fb631e1"
 },
 "nbformat": 3,
 "nbformat_minor": 0,
 "worksheets": [
  {
   "cells": [
    {
     "cell_type": "code",
     "collapsed": false,
     "input": [
      "import wx\n",
      "import sys\n",
      "import socket\n",
      "import os \n",
      "from StringIO import StringIO\n",
      "import time\n",
      "#Load App object for the client\n",
      "app = wx.App()\n",
      "\n"
     ],
     "language": "python",
     "metadata": {},
     "outputs": [],
     "prompt_number": 1
    },
    {
     "cell_type": "code",
     "collapsed": false,
     "input": [
      "class gui(wx.Frame):\n",
      "    \n",
      "    \n",
      "    def __init__(self,*args,**kwargs):\n",
      "        super(gui,self).__init__(*args,**kwargs)\n",
      "        self.InitUI()\n",
      "    \n",
      "    def InitUI(self):\n",
      "\n",
      "    \n",
      "        self.SetSize((300,200))\n",
      "        self.SetTitle('GUI Window')\n",
      "        self.Centre()\n",
      "        self.lastcaretpos = 0\n",
      "        self.multiline = wx.TextCtrl(self, 5, \"\",(0,0), self.GetSize(),  wx.TE_MULTILINE | wx.TE_READONLY)\n",
      "\n",
      "        sys.stdout.flush()\n",
      "        self.Show()\n",
      "        \n",
      "        #except:\n",
      "         #   print \"Unable to initialize GUI\"\n",
      "          #  exit(-1)\n",
      "    def getpathname(self):\n",
      "        selectfile = wx.FileDialog(self,\"Select file to transfer\",\"\",\"\",\"*.*\",style = wx.FD_OPEN | wx.FD_FILE_MUST_EXIST)\n",
      "        selectfile.ShowModal()\n",
      "        if selectfile == wx.ID_CANCEL:\n",
      "            wx.MessageBox(\"No file selected\")\n",
      "            exit(0)\n",
      "        return selectfile.GetPath()\n",
      "    \n",
      "    def addtext(self, s):\n",
      "        self.lastcaretpos = len(self.multiline.GetValue())\n",
      "        self.multiline.AppendText(s)\n",
      "    def updatelastline(self, s):\n",
      "        self.multiline.Remove(self.lastcaretpos, len(self.multiline.GetValue()))\n",
      "        self.multiline.AppendText(s)"
     ],
     "language": "python",
     "metadata": {},
     "outputs": [],
     "prompt_number": 2
    },
    {
     "cell_type": "code",
     "collapsed": false,
     "input": [
      "def starttransfer(window, pathname):\n",
      "    host = '192.168.1.100'\n",
      "    port = 12344\n",
      "    \n",
      "    s = socket.socket(socket.AF_INET, socket.SOCK_STREAM)\n",
      "    try:\n",
      "        s.connect((host,port))\n",
      "        window.addtext( 'Established connection to %s\\n' % host)\n",
      "    except:\n",
      "        window.addtext('Unable to establish connection\\n')\n",
      "        exit(1)\n",
      "\n",
      "    f = open(pathname, 'rb')\n",
      "    \n",
      "    window.addtext('Attempting to transfer %s\\n' % os.path.basename(pathname))\n",
      "    window.addtext('File size: %d bytes \\n' % os.path.getsize(pathname))\n",
      "    \n",
      "    enc = encodefilenum(pathname)\n",
      "    encoded_data = ''\n",
      "    for e in enc:\n",
      "        encoded_data = encoded_data + chr(e)\n",
      "    s.send(encoded_data)\n",
      "    \n",
      "    sendfile(s, pathname)\n",
      "    window.addtext('Closing connection\\n' )\n",
      "    s.close()\n",
      "\n",
      "def sendfile(s, pathname):\n",
      "    filesize = os.path.getsize(pathname)\n",
      "    \n",
      "    f = open(pathname, 'rb')\n",
      "    \n",
      "    window.addtext(\"Starting file transfer\\n\")\n",
      "    \n",
      "    inittime = time.clock()\n",
      "    datasent = 0\n",
      "    percent = 0\n",
      "    \n",
      "    window.addtext(\"\\n\")\n",
      "    while True:\n",
      "        data = f.read(512)\n",
      "        if not data:\n",
      "            break\n",
      "        datasent = datasent + len(data)\n",
      "        s.send(data)\n",
      "        \n",
      "        \n",
      "        if percent!= int(datasent*100/filesize):\n",
      "            percent = int(datasent*100/filesize)\n",
      "            speed = datasent/(time.clock()-inittime)/1024\n",
      "            window.updatelastline(\"%u%% file transferred ( Speed: %u KB/s)\\n\" % (percent,speed))\n",
      "    f.close()\n",
      "        \n",
      "def encodefilenum(pathname):\n",
      "    enc = bytearray(513)\n",
      "    \n",
      "    filesize = os.path.getsize(pathname)\n",
      "    \n",
      "    filename = os.path.basename(pathname)\n",
      "    for i in range(0,len(filename)):\n",
      "        enc[i]=ord(filename[i])\n",
      "    for i in range(len(filename),504):\n",
      "        enc[i]=0\n",
      "    for i in range(504,512-num_length(filesize)):\n",
      "        enc[i]=0\n",
      "    \n",
      "    nl = num_length(filesize)\n",
      "    for i in range(511,511-nl,-1):\n",
      "        enc[i]=chr(filesize%256)\n",
      "        filesize/=256\n",
      "    sys.stdout.flush()\n",
      "    return enc[:512]\n",
      "\n",
      "def num_length(x):\n",
      "    result = 0\n",
      "    while x>0:\n",
      "        result = result +1\n",
      "        x=int(x/256)\n",
      "    return result"
     ],
     "language": "python",
     "metadata": {},
     "outputs": [],
     "prompt_number": 3
    },
    {
     "cell_type": "code",
     "collapsed": false,
     "input": [
      "if __name__ == \"__main__\":\n",
      "    window = gui(None)\n",
      "    starttransfer(window,window.getpathname())\n",
      "    app.MainLoop()\n",
      "   "
     ],
     "language": "python",
     "metadata": {},
     "outputs": []
    },
    {
     "cell_type": "code",
     "collapsed": false,
     "input": [],
     "language": "python",
     "metadata": {},
     "outputs": []
    }
   ],
   "metadata": {}
  }
 ]
}