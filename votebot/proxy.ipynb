{
 "metadata": {
  "name": "",
  "signature": "sha256:e0d01c90eca73aafeb0f720d2a31ae278a079c813295a6695ffc03020320d8c7"
 },
 "nbformat": 3,
 "nbformat_minor": 0,
 "worksheets": [
  {
   "cells": [
    {
     "cell_type": "code",
     "collapsed": false,
     "input": [
      "import urllib\n",
      "\n",
      "def checkproxy(proxy):\n",
      "    try:\n",
      "        urllib.urlopen(\"http://wwww.example.com\", \n",
      "                       proxies = { 'http' : proxy if  ('http' in proxy) else 'http://' + proxy } )\n",
      "    except IOError, e:\n",
      "        return False\n",
      "    else:\n",
      "        return True"
     ],
     "language": "python",
     "metadata": {},
     "outputs": [],
     "prompt_number": 1
    },
    {
     "cell_type": "code",
     "collapsed": false,
     "input": [
      "import urllib2\n",
      "import socket\n",
      "\n",
      "def working_proxy(pip, timeout = 10): \n",
      "    socket.setdefaulttimeout(timeout)\n",
      "    try:\n",
      "        proxy_handler = urllib2.ProxyHandler({'http': pip})\n",
      "        opener = urllib2.build_opener(proxy_handler)\n",
      "        opener.addheaders = [('User-agent', 'Mozilla/5.0')]\n",
      "        data=opener.open('http://www.google.com')\n",
      "        f = open('test.html', 'w')\n",
      "        f.write(data.read())\n",
      "    except urllib2.HTTPError, e:\n",
      "        print 'Error code: ', e.code\n",
      "        return e.code\n",
      "    except Exception, detail:\n",
      "        #print \"ERROR:\", detail\n",
      "        return False\n",
      "    return True\n"
     ],
     "language": "python",
     "metadata": {},
     "outputs": [],
     "prompt_number": 2
    },
    {
     "cell_type": "code",
     "collapsed": false,
     "input": [
      "def gettable(s):\n",
      "    for t in s.findAll('table'):\n",
      "        if t.get('id') == 'proxylist':\n",
      "            return t\n",
      "\n",
      "def getproxies(table):\n",
      "    result = []\n",
      "    for row in table.findAll('tr'):\n",
      "        if not 'class' in row.attrs:\n",
      "            raw =[ td.text for td in row.findAll('td')]\n",
      "            if len(raw)>0:\n",
      "                try:\n",
      "                    r = raw[0].find('document')\n",
      "                    r2 = raw[0].rfind(':')\n",
      "                    if(r2>r and r>0):\n",
      "                        raw[0] = raw[0][0:r] + raw[0][r2:]\n",
      "                    result.append(raw)\n",
      "                except:\n",
      "                    pass\n",
      "    return result\n",
      "\n"
     ],
     "language": "python",
     "metadata": {},
     "outputs": [],
     "prompt_number": 3
    },
    {
     "cell_type": "code",
     "collapsed": false,
     "input": [
      "from selenium import webdriver\n",
      "\n",
      "while True:\n",
      "    try:\n",
      "        browser = webdriver.Firefox()\n",
      "    except:\n",
      "        print \"Unable to open browser. Trying again\"\n",
      "    else:\n",
      "        break\n",
      "browser.get('http://www.google.com')"
     ],
     "language": "python",
     "metadata": {},
     "outputs": [],
     "prompt_number": 4
    },
    {
     "cell_type": "code",
     "collapsed": false,
     "input": [
      "import BeautifulSoup\n",
      "import threading\n",
      "\n",
      "def oldgetallproxies(n=0):\n",
      "    i = 1\n",
      "    result = []\n",
      "    while True:\n",
      "        url= 'http://www.samair.ru/proxy/proxy-%02d.htm' % i\n",
      "        print 'Looking for url: %s' % url\n",
      "        browser.get(url)\n",
      "        if 'Proxy List' in browser.title:\n",
      "            print \"Extracting proxy list %d\" % i\n",
      "            soup = BeautifulSoup.BeautifulSoup(browser.page_source)\n",
      "            for p in getproxies(gettable(soup)):\n",
      "                result.append(p)\n",
      "            if (i==n and n!=0):\n",
      "                break\n",
      "            i = i+1\n",
      "            \n",
      "        else:\n",
      "            break\n",
      "    print \"Proxy list scraping complete.\"\n",
      "    return result\n",
      "\n",
      "def checkproxies(proxylist):\n",
      "    result = []\n",
      "    for p in proxylist:\n",
      "        try:\n",
      "            if checkproxy(p[0]):\n",
      "                print \"Working proxy: %s\" % p[0]\n",
      "                result.append(p[0])\n",
      "            else:\n",
      "                print  \"Bad proxy: %s\" % p[0]\n",
      "        except:\n",
      "            pass\n",
      "    return result\n",
      "\n",
      "plist = getallproxies(3)"
     ],
     "language": "python",
     "metadata": {},
     "outputs": [
      {
       "output_type": "stream",
       "stream": "stdout",
       "text": [
        "Looking for url: http://www.samair.ru/proxy/proxy-01.htm\n",
        "Extracting proxy list 1"
       ]
      },
      {
       "output_type": "stream",
       "stream": "stdout",
       "text": [
        "\n",
        "Looking for url: http://www.samair.ru/proxy/proxy-02.htm"
       ]
      },
      {
       "output_type": "stream",
       "stream": "stdout",
       "text": [
        "\n",
        "Extracting proxy list 2"
       ]
      },
      {
       "output_type": "stream",
       "stream": "stdout",
       "text": [
        "\n",
        "Looking for url: http://www.samair.ru/proxy/proxy-03.htm"
       ]
      },
      {
       "output_type": "stream",
       "stream": "stdout",
       "text": [
        "\n",
        "Extracting proxy list 3"
       ]
      },
      {
       "output_type": "stream",
       "stream": "stdout",
       "text": [
        "\n",
        "Proxy list scraping complete."
       ]
      },
      {
       "output_type": "stream",
       "stream": "stdout",
       "text": [
        "\n"
       ]
      }
     ],
     "prompt_number": 5
    },
    {
     "cell_type": "code",
     "collapsed": false,
     "input": [
      "import re\n",
      "\n",
      "def getallproxies(listurl, n):\n",
      "    i = 1\n",
      "    \n",
      "    result = []\n",
      "    iprgx = '(\\\\d{1,3}\\\\.\\\\d{1,3}\\\\.\\\\d{1,3}\\\\.\\\\d{1,3}).+?(\\\\d{1,4})'\n",
      "    while True:\n",
      "        try:\n",
      "            browser.get(listurl % i)\n",
      "            print \"Fetching proxy list %d\" % i\n",
      "        except:\n",
      "            pass\n",
      "        plist = re.findall(iprgx, browser.find_element_by_tag_name('body').text)\n",
      "        if len(plist) == 0: \n",
      "            break\n",
      "            \n",
      "        for p in plist:\n",
      "            if len(p)==2:\n",
      "                result.append(p[0] + ':' + p[1])\n",
      "            \n",
      "        if i==n:\n",
      "            break\n",
      "        i = i+1\n",
      "    return result\n",
      "\n",
      "getallproxies('http://www.samair.ru/proxy/proxy-%02d.htm', 5)\n"
     ],
     "language": "python",
     "metadata": {},
     "outputs": [
      {
       "output_type": "stream",
       "stream": "stdout",
       "text": [
        "Fetching proxy list 1\n",
        "Fetching proxy list 2"
       ]
      },
      {
       "output_type": "stream",
       "stream": "stdout",
       "text": [
        "\n",
        "Fetching proxy list 3"
       ]
      },
      {
       "output_type": "stream",
       "stream": "stdout",
       "text": [
        "\n",
        "Fetching proxy list 4"
       ]
      },
      {
       "output_type": "stream",
       "stream": "stdout",
       "text": [
        "\n",
        "Fetching proxy list 5"
       ]
      },
      {
       "output_type": "stream",
       "stream": "stdout",
       "text": [
        "\n"
       ]
      },
      {
       "metadata": {},
       "output_type": "pyout",
       "prompt_number": 34,
       "text": [
        "[u'61.156.3.166:80',\n",
        " u'106.185.29.91:8088',\n",
        " u'218.59.144.120:80',\n",
        " u'209.188.173.195:8080',\n",
        " u'218.59.144.95:81',\n",
        " u'36.250.74.88:80',\n",
        " u'36.250.74.87:80',\n",
        " u'212.68.51.58:80',\n",
        " u'97.77.104.22:80',\n",
        " u'218.59.144.120:81',\n",
        " u'219.93.183.106:8080',\n",
        " u'36.250.74.87:8103',\n",
        " u'60.12.226.78:80',\n",
        " u'118.163.151.173:8080',\n",
        " u'218.78.210.190:8080',\n",
        " u'183.131.15.161:80',\n",
        " u'116.236.216.116:8080',\n",
        " u'120.85.132.234:80',\n",
        " u'207.91.10.234:8080',\n",
        " u'115.28.168.240:8888',\n",
        " u'36.250.74.88:8103',\n",
        " u'142.54.170.72:3127',\n",
        " u'69.197.148.18:3127',\n",
        " u'199.200.120.36:3127',\n",
        " u'192.111.146.156:3127',\n",
        " u'74.50.126.249:3127',\n",
        " u'162.208.49.45:3127',\n",
        " u'86.107.110.73:3127',\n",
        " u'107.182.17.243:3127',\n",
        " u'199.200.120.37:3127',\n",
        " u'185.72.156.19:3127',\n",
        " u'5.135.6.168:3127',\n",
        " u'190.36.3.143:9064',\n",
        " u'183.207.229.138:9999',\n",
        " u'183.207.229.137:8000',\n",
        " u'201.54.208.245:8080',\n",
        " u'183.207.228.42:80',\n",
        " u'183.207.229.10:81',\n",
        " u'88.150.136.178:3128',\n",
        " u'186.91.213.221:9064',\n",
        " u'202.171.253.84:86',\n",
        " u'104.155.213.223:80',\n",
        " u'200.84.95.181:9064',\n",
        " u'119.246.177.41:9064',\n",
        " u'183.207.228.122:80',\n",
        " u'186.94.173.57:9064',\n",
        " u'58.131.138.211:80',\n",
        " u'120.198.243.118:80',\n",
        " u'185.72.156.19:8089',\n",
        " u'120.198.243.131:80',\n",
        " u'116.77.128.68:8118',\n",
        " u'117.135.251.80:80',\n",
        " u'86.107.110.73:8089',\n",
        " u'190.206.92.218:9064',\n",
        " u'107.182.17.243:8089',\n",
        " u'59.37.126.26:80',\n",
        " u'190.72.9.94:9064',\n",
        " u'120.198.243.53:80',\n",
        " u'183.207.228.9:89',\n",
        " u'210.39.18.236:8080',\n",
        " u'60.206.239.195:8118',\n",
        " u'222.187.225.9:82',\n",
        " u'103.254.208.53:3128',\n",
        " u'202.171.253.84:85',\n",
        " u'58.252.72.179:3128',\n",
        " u'182.239.95.139:80',\n",
        " u'202.171.253.84:82',\n",
        " u'183.207.228.9:85',\n",
        " u'116.254.206.12:80',\n",
        " u'203.100.80.81:8080',\n",
        " u'119.203.38.159:3128',\n",
        " u'183.228.198.242:8123',\n",
        " u'120.198.243.116:80',\n",
        " u'182.239.95.137:80',\n",
        " u'113.207.129.129:80',\n",
        " u'175.43.20.95:80',\n",
        " u'42.121.105.155:8888',\n",
        " u'110.4.24.176:80',\n",
        " u'121.41.29.242:80',\n",
        " u'111.7.128.169:80',\n",
        " u'183.207.228.9:6161',\n",
        " u'123.204.186.209:80',\n",
        " u'54.93.58.58:80',\n",
        " u'60.208.242.54:8118',\n",
        " u'183.207.229.12:8000',\n",
        " u'108.60.201.57:3128',\n",
        " u'125.83.112.12:8118',\n",
        " u'122.96.59.106:82',\n",
        " u'183.207.228.54:80',\n",
        " u'5.135.6.168:8089',\n",
        " u'119.6.144.74:82',\n",
        " u'61.53.143.179:80',\n",
        " u'80.149.233.237:8083',\n",
        " u'110.4.12.178:80',\n",
        " u'190.204.153.132:9064',\n",
        " u'111.13.136.59:80',\n",
        " u'183.224.1.30:80',\n",
        " u'59.58.112.209:8118',\n",
        " u'116.199.115.81:80',\n",
        " u'218.203.13.181:80',\n",
        " u'183.207.229.137:7070',\n",
        " u'119.147.91.21:80',\n",
        " u'123.57.36.188:80',\n",
        " u'221.10.102.199:843',\n",
        " u'183.203.22.90:80',\n",
        " u'110.4.12.176:80',\n",
        " u'182.239.95.134:80',\n",
        " u'202.171.253.74:86',\n",
        " u'124.202.169.50:8118',\n",
        " u'183.203.22.68:80',\n",
        " u'49.1.245.235:3128',\n",
        " u'120.198.243.54:80',\n",
        " u'202.171.253.74:84',\n",
        " u'185.72.156.19:7808',\n",
        " u'88.150.136.179:3128',\n",
        " u'142.54.170.72:7808',\n",
        " u'183.207.228.9:86',\n",
        " u'183.203.208.179:8118',\n",
        " u'203.217.122.111:9064',\n",
        " u'202.107.233.85:8080',\n",
        " u'182.239.127.139:80',\n",
        " u'124.88.67.13:82',\n",
        " u'192.69.133.42:80',\n",
        " u'184.172.117.120:8081',\n",
        " u'183.223.10.53:8123',\n",
        " u'122.96.59.106:80',\n",
        " u'123.184.237.9:80',\n",
        " u'201.243.58.238:9064',\n",
        " u'183.207.229.137:6969',\n",
        " u'175.180.253.235:80',\n",
        " u'183.207.229.13:9000',\n",
        " u'186.93.159.218:9064',\n",
        " u'222.88.236.236:80',\n",
        " u'201.243.113.247:9064',\n",
        " u'180.153.100.242:80',\n",
        " u'182.239.127.140:82',\n",
        " u'183.224.1.29:80',\n",
        " u'183.207.228.9:87',\n",
        " u'60.191.205.70:80',\n",
        " u'120.198.243.114:80',\n",
        " u'182.239.127.137:80',\n",
        " u'60.191.205.70:443',\n",
        " u'186.92.136.152:9064',\n",
        " u'88.150.136.180:3128',\n",
        " u'190.74.188.98:9064',\n",
        " u'111.12.128.167:80',\n",
        " u'199.200.120.36:7808',\n",
        " u'115.231.96.120:80',\n",
        " u'222.88.236.236:83',\n",
        " u'218.207.195.206:80',\n",
        " u'111.10.194.183:8123',\n",
        " u'183.207.229.12:80',\n",
        " u'183.207.224.51:84',\n",
        " u'88.150.136.181:3128',\n",
        " u'111.12.128.172:80',\n",
        " u'120.236.148.113:3128',\n",
        " u'183.207.228.9:84',\n",
        " u'74.50.126.249:8089',\n",
        " u'199.200.120.37:7808',\n",
        " u'222.88.236.236:843',\n",
        " u'183.207.228.9:90',\n",
        " u'190.199.216.55:9064',\n",
        " u'162.208.49.45:8089',\n",
        " u'119.28.3.200:83',\n",
        " u'162.216.155.136:7808',\n",
        " u'183.207.228.9:82',\n",
        " u'103.254.208.18:3128',\n",
        " u'1.189.157.184:8118',\n",
        " u'183.207.228.119:80',\n",
        " u'183.207.228.57:80',\n",
        " u'116.199.115.83:80',\n",
        " u'221.178.117.123:8123',\n",
        " u'175.1.133.79:80',\n",
        " u'183.207.224.15:80',\n",
        " u'183.207.228.9:83']"
       ]
      }
     ],
     "prompt_number": 34
    },
    {
     "cell_type": "code",
     "collapsed": false,
     "input": [
      "def ProxyList(threading.Thread):\n",
      "    def __init__(self, proxyurl):\n",
      "        threading.Thread.__init__(self)\n",
      "        self.browser = webdriver.Firefox()\n",
      "        self.proxydownloader = threading.Thread(target=)\n",
      "        "
     ],
     "language": "python",
     "metadata": {},
     "outputs": []
    }
   ],
   "metadata": {}
  }
 ]
}